{
 "cells": [
  {
   "cell_type": "code",
   "execution_count": 1,
   "metadata": {},
   "outputs": [],
   "source": [
    "import matplotlib\n",
    "%matplotlib inline\n",
    "import VerificationGases \n",
    "import matplotlib.pyplot as plt \n",
    "import matplotlib.dates as mdates\n",
    "import datetime\n",
    "import pandas as pd\n",
    "import numpy as np\n",
    "import messages\n",
    "\n"
   ]
  },
  {
   "cell_type": "code",
   "execution_count": 2,
   "metadata": {},
   "outputs": [
    {
     "data": {
      "text/plain": [
       "VerificationGases.Air"
      ]
     },
     "execution_count": 2,
     "metadata": {},
     "output_type": "execute_result"
    }
   ],
   "source": [
    "VerificationGases.Air"
   ]
  },
  {
   "cell_type": "code",
   "execution_count": 3,
   "metadata": {},
   "outputs": [
    {
     "ename": "NameError",
     "evalue": "name 'self' is not defined",
     "output_type": "error",
     "traceback": [
      "\u001b[0;31m---------------------------------------------------------------------------\u001b[0m",
      "\u001b[0;31mNameError\u001b[0m                                 Traceback (most recent call last)",
      "\u001b[0;32m/var/folders/r_/zs7g20jn0659kp2nyn_sp92r0000gn/T/ipykernel_3853/119194482.py\u001b[0m in \u001b[0;36m<module>\u001b[0;34m\u001b[0m\n\u001b[0;32m----> 1\u001b[0;31m \u001b[0mself\u001b[0m\u001b[0;34m.\u001b[0m\u001b[0mC\u001b[0m\u001b[0;34m.\u001b[0m\u001b[0mkeys\u001b[0m\u001b[0;34m(\u001b[0m\u001b[0;34m)\u001b[0m\u001b[0;34m\u001b[0m\u001b[0;34m\u001b[0m\u001b[0m\n\u001b[0m",
      "\u001b[0;31mNameError\u001b[0m: name 'self' is not defined"
     ]
    }
   ],
   "source": [
    "self.C.keys()"
   ]
  },
  {
   "cell_type": "code",
   "execution_count": 10,
   "metadata": {},
   "outputs": [
    {
     "ename": "NameError",
     "evalue": "name 'est' is not defined",
     "output_type": "error",
     "traceback": [
      "\u001b[0;31m---------------------------------------------------------------------------\u001b[0m",
      "\u001b[0;31mNameError\u001b[0m                                 Traceback (most recent call last)",
      "\u001b[0;32m/var/folders/r_/zs7g20jn0659kp2nyn_sp92r0000gn/T/ipykernel_10890/2495779181.py\u001b[0m in \u001b[0;36m<module>\u001b[0;34m\u001b[0m\n\u001b[0;32m----> 1\u001b[0;31m \u001b[0mself\u001b[0m\u001b[0;34m.\u001b[0m\u001b[0mC\u001b[0m\u001b[0;34m[\u001b[0m\u001b[0;34m'CS'\u001b[0m\u001b[0;34m]\u001b[0m\u001b[0;34m[\u001b[0m\u001b[0mest\u001b[0m\u001b[0;34m]\u001b[0m\u001b[0;34m\u001b[0m\u001b[0;34m\u001b[0m\u001b[0m\n\u001b[0m",
      "\u001b[0;31mNameError\u001b[0m: name 'est' is not defined"
     ]
    }
   ],
   "source": [
    "self.C['CS'][est]"
   ]
  },
  {
   "cell_type": "markdown",
   "metadata": {},
   "source": [
    "Desarrollo de las funciones almacenadas en: \n",
    "https://siata.gov.co/CalidadAire/GraficasDeControl/"
   ]
  },
  {
   "cell_type": "code",
   "execution_count": 4,
   "metadata": {},
   "outputs": [],
   "source": [
    "self=VerificationGases.Air(Fechai='2021-06-01',Fechaf='2021-10-30')"
   ]
  },
  {
   "cell_type": "code",
   "execution_count": 5,
   "metadata": {},
   "outputs": [
    {
     "name": "stdout",
     "output_type": "stream",
     "text": [
      "2021-06-30 00:00:00\n",
      "GIR-EPM\n",
      "/Users/siata/Dropbox (SIATA)/SGC_Siata_Aire/01_Gestion_Operativa/03_Registros/HojasVida_FichasTecnicas/ESTACIONES DE AIRE/05_GIRARDOTA/GIR-EPM/CO(A)/VERIFICACIONES/2021/06*\n",
      "['/Users/siata/Dropbox (SIATA)/SGC_Siata_Aire/01_Gestion_Operativa/03_Registros/HojasVida_FichasTecnicas/ESTACIONES DE AIRE/05_GIRARDOTA/GIR-EPM/CO(A)/VERIFICACIONES/2021/06_Junio/F-GAA-RA-31_GIR-EPM_CO_MP_2021-06-10.xlsx', '/Users/siata/Dropbox (SIATA)/SGC_Siata_Aire/01_Gestion_Operativa/03_Registros/HojasVida_FichasTecnicas/ESTACIONES DE AIRE/05_GIRARDOTA/GIR-EPM/CO(A)/VERIFICACIONES/2021/06_Junio/F-GAA-RA-31_GIR-EPM_CO_PR_2021-06-24.xlsx']\n",
      "/Users/siata/Dropbox (SIATA)/SGC_Siata_Aire/01_Gestion_Operativa/03_Registros/HojasVida_FichasTecnicas/ESTACIONES DE AIRE/05_GIRARDOTA/GIR-EPM/CO(A)/VERIFICACIONES/2021/06_Junio/F-GAA-RA-31_GIR-EPM_CO_MP_2021-06-10.xlsx\n"
     ]
    },
    {
     "name": "stderr",
     "output_type": "stream",
     "text": [
      "/Users/siata/opt/anaconda3/lib/python3.9/site-packages/openpyxl/worksheet/_reader.py:312: UserWarning: Conditional Formatting extension is not supported and will be removed\n",
      "  warn(msg)\n"
     ]
    },
    {
     "name": "stdout",
     "output_type": "stream",
     "text": [
      "Leo la tabla1 de MP\n",
      "Leo la tabla2 de MP\n",
      "Leo la tabla3 de MP\n",
      "Leo la tabla7 de MP\n",
      "Leo la tabla9 de MP\n",
      "Leo la tabla11 de MP\n",
      "/Users/siata/Dropbox (SIATA)/SGC_Siata_Aire/01_Gestion_Operativa/03_Registros/HojasVida_FichasTecnicas/ESTACIONES DE AIRE/05_GIRARDOTA/GIR-EPM/CO(A)/VERIFICACIONES/2021/06_Junio/F-GAA-RA-31_GIR-EPM_CO_PR_2021-06-24.xlsx\n",
      "Leo la tabla1 de PR\n",
      "Leo la tabla2 de PR\n",
      "Leo la tabla3 de PR\n",
      "Leo la tabla7 de PR\n",
      "Leo la tabla10 de PR\n",
      "Leo la tabla12 de PR\n",
      "2021-07-31 00:00:00\n",
      "GIR-EPM\n",
      "/Users/siata/Dropbox (SIATA)/SGC_Siata_Aire/01_Gestion_Operativa/03_Registros/HojasVida_FichasTecnicas/ESTACIONES DE AIRE/05_GIRARDOTA/GIR-EPM/CO(A)/VERIFICACIONES/2021/07*\n",
      "['/Users/siata/Dropbox (SIATA)/SGC_Siata_Aire/01_Gestion_Operativa/03_Registros/HojasVida_FichasTecnicas/ESTACIONES DE AIRE/05_GIRARDOTA/GIR-EPM/CO(A)/VERIFICACIONES/2021/07_Julio/F-GAA-RA-31_GIR-EPM_CO_MP_2021-07-21.xlsx', '/Users/siata/Dropbox (SIATA)/SGC_Siata_Aire/01_Gestion_Operativa/03_Registros/HojasVida_FichasTecnicas/ESTACIONES DE AIRE/05_GIRARDOTA/GIR-EPM/CO(A)/VERIFICACIONES/2021/07_Julio/F-GAA-RA-31_GIR-EPM_CO_APR_2021-07-27.xlsx']\n",
      "/Users/siata/Dropbox (SIATA)/SGC_Siata_Aire/01_Gestion_Operativa/03_Registros/HojasVida_FichasTecnicas/ESTACIONES DE AIRE/05_GIRARDOTA/GIR-EPM/CO(A)/VERIFICACIONES/2021/07_Julio/F-GAA-RA-31_GIR-EPM_CO_MP_2021-07-21.xlsx\n",
      "Leo la tabla1 de MP\n",
      "Leo la tabla2 de MP\n",
      "Leo la tabla3 de MP\n",
      "Leo la tabla7 de MP\n",
      "7\n",
      "Leo la tabla9 de MP\n",
      "Leo la tabla11 de MP\n",
      "/Users/siata/Dropbox (SIATA)/SGC_Siata_Aire/01_Gestion_Operativa/03_Registros/HojasVida_FichasTecnicas/ESTACIONES DE AIRE/05_GIRARDOTA/GIR-EPM/CO(A)/VERIFICACIONES/2021/07_Julio/F-GAA-RA-31_GIR-EPM_CO_APR_2021-07-27.xlsx\n",
      "Leo la tabla1 de AP\n",
      "Leo la tabla2 de AP\n",
      "Leo la tabla3 de AP\n",
      "Leo la tabla7 de AP\n",
      "Leo la tabla10 de AP\n",
      "Leo la tabla12 de AP\n",
      "2021-08-31 00:00:00\n",
      "GIR-EPM\n",
      "/Users/siata/Dropbox (SIATA)/SGC_Siata_Aire/01_Gestion_Operativa/03_Registros/HojasVida_FichasTecnicas/ESTACIONES DE AIRE/05_GIRARDOTA/GIR-EPM/CO(A)/VERIFICACIONES/2021/08*\n",
      "['/Users/siata/Dropbox (SIATA)/SGC_Siata_Aire/01_Gestion_Operativa/03_Registros/HojasVida_FichasTecnicas/ESTACIONES DE AIRE/05_GIRARDOTA/GIR-EPM/CO(A)/VERIFICACIONES/2021/08_Agosto/F-GAA-RA-31_GIR-EPM_CO_ZS_2021-08-12.xlsx', '/Users/siata/Dropbox (SIATA)/SGC_Siata_Aire/01_Gestion_Operativa/03_Registros/HojasVida_FichasTecnicas/ESTACIONES DE AIRE/05_GIRARDOTA/GIR-EPM/CO(A)/VERIFICACIONES/2021/08_Agosto/F-GAA-RA-31_GIR-EPM_CO_PR_2021-08-31.xlsx']\n",
      "/Users/siata/Dropbox (SIATA)/SGC_Siata_Aire/01_Gestion_Operativa/03_Registros/HojasVida_FichasTecnicas/ESTACIONES DE AIRE/05_GIRARDOTA/GIR-EPM/CO(A)/VERIFICACIONES/2021/08_Agosto/F-GAA-RA-31_GIR-EPM_CO_ZS_2021-08-12.xlsx\n",
      "Leo la tabla1 de CS\n",
      "Leo la tabla2 de CS\n",
      "Leo la tabla3 de CS\n",
      "Leo la tabla7 de CS\n",
      "Leo la tabla10 de CS\n",
      "Leo la tabla12 de CS\n",
      "/Users/siata/Dropbox (SIATA)/SGC_Siata_Aire/01_Gestion_Operativa/03_Registros/HojasVida_FichasTecnicas/ESTACIONES DE AIRE/05_GIRARDOTA/GIR-EPM/CO(A)/VERIFICACIONES/2021/08_Agosto/F-GAA-RA-31_GIR-EPM_CO_PR_2021-08-31.xlsx\n",
      "Leo la tabla1 de PR\n",
      "Leo la tabla2 de PR\n",
      "Leo la tabla3 de PR\n",
      "Leo la tabla7 de PR\n",
      "7\n",
      "Leo la tabla10 de PR\n",
      "10\n",
      "Leo la tabla12 de PR\n",
      "2021-09-30 00:00:00\n",
      "GIR-EPM\n",
      "/Users/siata/Dropbox (SIATA)/SGC_Siata_Aire/01_Gestion_Operativa/03_Registros/HojasVida_FichasTecnicas/ESTACIONES DE AIRE/05_GIRARDOTA/GIR-EPM/CO(A)/VERIFICACIONES/2021/09*\n",
      "['/Users/siata/Dropbox (SIATA)/SGC_Siata_Aire/01_Gestion_Operativa/03_Registros/HojasVida_FichasTecnicas/ESTACIONES DE AIRE/05_GIRARDOTA/GIR-EPM/CO(A)/VERIFICACIONES/2021/09_Septiembre/F-GAA-RA-31_GIR-EPM_CO_MP_2021-09-15.xlsx', '/Users/siata/Dropbox (SIATA)/SGC_Siata_Aire/01_Gestion_Operativa/03_Registros/HojasVida_FichasTecnicas/ESTACIONES DE AIRE/05_GIRARDOTA/GIR-EPM/CO(A)/VERIFICACIONES/2021/09_Septiembre/F-GAA-RA-31_GIR-EPM_CO_AJ_PR_2021-09-24.xlsx']\n",
      "/Users/siata/Dropbox (SIATA)/SGC_Siata_Aire/01_Gestion_Operativa/03_Registros/HojasVida_FichasTecnicas/ESTACIONES DE AIRE/05_GIRARDOTA/GIR-EPM/CO(A)/VERIFICACIONES/2021/09_Septiembre/F-GAA-RA-31_GIR-EPM_CO_MP_2021-09-15.xlsx\n",
      "Leo la tabla1 de MP\n",
      "Leo la tabla2 de MP\n",
      "Leo la tabla3 de MP\n",
      "Leo la tabla7 de MP\n",
      "7\n",
      "Leo la tabla9 de MP\n",
      "Leo la tabla11 de MP\n",
      "/Users/siata/Dropbox (SIATA)/SGC_Siata_Aire/01_Gestion_Operativa/03_Registros/HojasVida_FichasTecnicas/ESTACIONES DE AIRE/05_GIRARDOTA/GIR-EPM/CO(A)/VERIFICACIONES/2021/09_Septiembre/F-GAA-RA-31_GIR-EPM_CO_AJ_PR_2021-09-24.xlsx\n",
      "Leo la tabla1 de AP\n",
      "Leo la tabla2 de AP\n",
      "Leo la tabla3 de AP\n",
      "Leo la tabla7 de AP\n",
      "7\n",
      "Leo la tabla10 de AP\n",
      "10\n",
      "Leo la tabla12 de AP\n",
      "2021-06-30 00:00:00\n",
      "MED-PJIC\n",
      "/Users/siata/Dropbox (SIATA)/SGC_Siata_Aire/01_Gestion_Operativa/03_Registros/HojasVida_FichasTecnicas/ESTACIONES DE AIRE/08_MEDELLIN/MED-PJIC/CO(A)/VERIFICACIONES/2021/06*\n",
      "['/Users/siata/Dropbox (SIATA)/SGC_Siata_Aire/01_Gestion_Operativa/03_Registros/HojasVida_FichasTecnicas/ESTACIONES DE AIRE/08_MEDELLIN/MED-PJIC/CO(A)/VERIFICACIONES/2021/06_JUNIO/F-GAA-RA-34_MED-PJIC_CO_PR_2021-06-28.xlsx', '/Users/siata/Dropbox (SIATA)/SGC_Siata_Aire/01_Gestion_Operativa/03_Registros/HojasVida_FichasTecnicas/ESTACIONES DE AIRE/08_MEDELLIN/MED-PJIC/CO(A)/VERIFICACIONES/2021/06_JUNIO/F-GAA-RA-34_MED-PJIC_CO_CS_2021-06-15.xlsx']\n",
      "/Users/siata/Dropbox (SIATA)/SGC_Siata_Aire/01_Gestion_Operativa/03_Registros/HojasVida_FichasTecnicas/ESTACIONES DE AIRE/08_MEDELLIN/MED-PJIC/CO(A)/VERIFICACIONES/2021/06_JUNIO/F-GAA-RA-34_MED-PJIC_CO_PR_2021-06-28.xlsx\n"
     ]
    },
    {
     "name": "stderr",
     "output_type": "stream",
     "text": [
      "/Users/siata/opt/anaconda3/lib/python3.9/site-packages/openpyxl/worksheet/_reader.py:312: UserWarning: Conditional Formatting extension is not supported and will be removed\n",
      "  warn(msg)\n"
     ]
    },
    {
     "name": "stdout",
     "output_type": "stream",
     "text": [
      "Leo la tabla1 de PR\n",
      "Leo la tabla2 de PR\n",
      "Leo la tabla3 de PR\n",
      "Leo la tabla7.1 de PR\n",
      "Leo la tabla7.2 de PR\n",
      "Leo la tabla10 de PR\n",
      "Leo la tabla12 de PR\n",
      "/Users/siata/Dropbox (SIATA)/SGC_Siata_Aire/01_Gestion_Operativa/03_Registros/HojasVida_FichasTecnicas/ESTACIONES DE AIRE/08_MEDELLIN/MED-PJIC/CO(A)/VERIFICACIONES/2021/06_JUNIO/F-GAA-RA-34_MED-PJIC_CO_CS_2021-06-15.xlsx\n",
      "Leo la tabla1 de CS\n",
      "Leo la tabla2 de CS\n",
      "Leo la tabla3 de CS\n",
      "Leo la tabla7.1 de CS\n",
      "Leo la tabla7.2 de CS\n",
      "Leo la tabla10 de CS\n",
      "Leo la tabla12 de CS\n",
      "2021-07-31 00:00:00\n",
      "MED-PJIC\n",
      "/Users/siata/Dropbox (SIATA)/SGC_Siata_Aire/01_Gestion_Operativa/03_Registros/HojasVida_FichasTecnicas/ESTACIONES DE AIRE/08_MEDELLIN/MED-PJIC/CO(A)/VERIFICACIONES/2021/07*\n",
      "['/Users/siata/Dropbox (SIATA)/SGC_Siata_Aire/01_Gestion_Operativa/03_Registros/HojasVida_FichasTecnicas/ESTACIONES DE AIRE/08_MEDELLIN/MED-PJIC/CO(A)/VERIFICACIONES/2021/07_JULIO/F-GAA-RA-34_MED-PJIC_CO_MP_2021-07-28.xlsx', '/Users/siata/Dropbox (SIATA)/SGC_Siata_Aire/01_Gestion_Operativa/03_Registros/HojasVida_FichasTecnicas/ESTACIONES DE AIRE/08_MEDELLIN/MED-PJIC/CO(A)/VERIFICACIONES/2021/07_JULIO/F-GAA-RA-34_MED-PJIC_CO_PR_2021-07-30.xlsx']\n",
      "/Users/siata/Dropbox (SIATA)/SGC_Siata_Aire/01_Gestion_Operativa/03_Registros/HojasVida_FichasTecnicas/ESTACIONES DE AIRE/08_MEDELLIN/MED-PJIC/CO(A)/VERIFICACIONES/2021/07_JULIO/F-GAA-RA-34_MED-PJIC_CO_MP_2021-07-28.xlsx\n",
      "Leo la tabla1 de MP\n",
      "Leo la tabla2 de MP\n",
      "Leo la tabla3 de MP\n",
      "Leo la tabla7.1 de MP\n",
      "Leo la tabla7.2 de MP\n",
      "Leo la tabla9 de MP\n",
      "Leo la tabla11 de MP\n",
      "/Users/siata/Dropbox (SIATA)/SGC_Siata_Aire/01_Gestion_Operativa/03_Registros/HojasVida_FichasTecnicas/ESTACIONES DE AIRE/08_MEDELLIN/MED-PJIC/CO(A)/VERIFICACIONES/2021/07_JULIO/F-GAA-RA-34_MED-PJIC_CO_PR_2021-07-30.xlsx\n",
      "Leo la tabla1 de PR\n",
      "Leo la tabla2 de PR\n",
      "Leo la tabla3 de PR\n",
      "Leo la tabla7.1 de PR\n",
      "7.1\n",
      "Leo la tabla7.2 de PR\n",
      "7.2\n",
      "Leo la tabla10 de PR\n",
      "10\n",
      "Leo la tabla12 de PR\n",
      "2021-08-31 00:00:00\n",
      "MED-PJIC\n",
      "/Users/siata/Dropbox (SIATA)/SGC_Siata_Aire/01_Gestion_Operativa/03_Registros/HojasVida_FichasTecnicas/ESTACIONES DE AIRE/08_MEDELLIN/MED-PJIC/CO(A)/VERIFICACIONES/2021/08*\n",
      "['/Users/siata/Dropbox (SIATA)/SGC_Siata_Aire/01_Gestion_Operativa/03_Registros/HojasVida_FichasTecnicas/ESTACIONES DE AIRE/08_MEDELLIN/MED-PJIC/CO(A)/VERIFICACIONES/2021/08_AGOSTO/F-GAA-RA-34_MED-PJIC_CO_CS_2021-08-09.xlsx', '/Users/siata/Dropbox (SIATA)/SGC_Siata_Aire/01_Gestion_Operativa/03_Registros/HojasVida_FichasTecnicas/ESTACIONES DE AIRE/08_MEDELLIN/MED-PJIC/CO(A)/VERIFICACIONES/2021/08_AGOSTO/F-GAA-RA-34_MED-PJIC_CO_PR_2021-08-23.xlsx']\n",
      "/Users/siata/Dropbox (SIATA)/SGC_Siata_Aire/01_Gestion_Operativa/03_Registros/HojasVida_FichasTecnicas/ESTACIONES DE AIRE/08_MEDELLIN/MED-PJIC/CO(A)/VERIFICACIONES/2021/08_AGOSTO/F-GAA-RA-34_MED-PJIC_CO_CS_2021-08-09.xlsx\n",
      "Leo la tabla1 de CS\n",
      "Leo la tabla2 de CS\n",
      "Leo la tabla3 de CS\n",
      "Leo la tabla7.1 de CS\n",
      "7.1\n",
      "Leo la tabla7.2 de CS\n",
      "7.2\n",
      "Leo la tabla10 de CS\n",
      "10\n",
      "Leo la tabla12 de CS\n",
      "/Users/siata/Dropbox (SIATA)/SGC_Siata_Aire/01_Gestion_Operativa/03_Registros/HojasVida_FichasTecnicas/ESTACIONES DE AIRE/08_MEDELLIN/MED-PJIC/CO(A)/VERIFICACIONES/2021/08_AGOSTO/F-GAA-RA-34_MED-PJIC_CO_PR_2021-08-23.xlsx\n",
      "Leo la tabla1 de PR\n",
      "Leo la tabla2 de PR\n",
      "Leo la tabla3 de PR\n",
      "Leo la tabla7.1 de PR\n",
      "7.1\n",
      "Leo la tabla7.2 de PR\n",
      "7.2\n",
      "Leo la tabla10 de PR\n",
      "10\n",
      "Leo la tabla12 de PR\n",
      "2021-09-30 00:00:00\n",
      "MED-PJIC\n",
      "/Users/siata/Dropbox (SIATA)/SGC_Siata_Aire/01_Gestion_Operativa/03_Registros/HojasVida_FichasTecnicas/ESTACIONES DE AIRE/08_MEDELLIN/MED-PJIC/CO(A)/VERIFICACIONES/2021/09*\n",
      "['/Users/siata/Dropbox (SIATA)/SGC_Siata_Aire/01_Gestion_Operativa/03_Registros/HojasVida_FichasTecnicas/ESTACIONES DE AIRE/08_MEDELLIN/MED-PJIC/CO(A)/VERIFICACIONES/2021/09_SEPTIEMBRE/F-GAA-RA-34_MED-PJIC_CO_PR_2021-09-30.xlsx', '/Users/siata/Dropbox (SIATA)/SGC_Siata_Aire/01_Gestion_Operativa/03_Registros/HojasVida_FichasTecnicas/ESTACIONES DE AIRE/08_MEDELLIN/MED-PJIC/CO(A)/VERIFICACIONES/2021/09_SEPTIEMBRE/F-GAA-RA-34_MED-PJIC_CO_PR_2021-09-16.xlsx', '/Users/siata/Dropbox (SIATA)/SGC_Siata_Aire/01_Gestion_Operativa/03_Registros/HojasVida_FichasTecnicas/ESTACIONES DE AIRE/08_MEDELLIN/MED-PJIC/CO(A)/VERIFICACIONES/2021/09_SEPTIEMBRE/F-GAA-RA-34_MED-PJIC_CO_MP_2021-09-14.xlsx']\n",
      "/Users/siata/Dropbox (SIATA)/SGC_Siata_Aire/01_Gestion_Operativa/03_Registros/HojasVida_FichasTecnicas/ESTACIONES DE AIRE/08_MEDELLIN/MED-PJIC/CO(A)/VERIFICACIONES/2021/09_SEPTIEMBRE/F-GAA-RA-34_MED-PJIC_CO_PR_2021-09-30.xlsx\n",
      "Leo la tabla1 de AP\n",
      "Leo la tabla2 de AP\n",
      "Leo la tabla3 de AP\n",
      "Leo la tabla7.1 de AP\n",
      "Leo la tabla7.2 de AP\n",
      "Leo la tabla10 de AP\n",
      "Leo la tabla12 de AP\n",
      "/Users/siata/Dropbox (SIATA)/SGC_Siata_Aire/01_Gestion_Operativa/03_Registros/HojasVida_FichasTecnicas/ESTACIONES DE AIRE/08_MEDELLIN/MED-PJIC/CO(A)/VERIFICACIONES/2021/09_SEPTIEMBRE/F-GAA-RA-34_MED-PJIC_CO_PR_2021-09-16.xlsx\n",
      "Leo la tabla1 de PR\n",
      "Leo la tabla2 de PR\n",
      "Leo la tabla3 de PR\n",
      "Leo la tabla7.1 de PR\n",
      "7.1\n",
      "Leo la tabla7.2 de PR\n",
      "7.2\n",
      "Leo la tabla10 de PR\n",
      "10\n",
      "Leo la tabla12 de PR\n",
      "/Users/siata/Dropbox (SIATA)/SGC_Siata_Aire/01_Gestion_Operativa/03_Registros/HojasVida_FichasTecnicas/ESTACIONES DE AIRE/08_MEDELLIN/MED-PJIC/CO(A)/VERIFICACIONES/2021/09_SEPTIEMBRE/F-GAA-RA-34_MED-PJIC_CO_MP_2021-09-14.xlsx\n",
      "Leo la tabla1 de MP\n",
      "Leo la tabla2 de MP\n",
      "Leo la tabla3 de MP\n",
      "Leo la tabla7.1 de MP\n",
      "7.1\n",
      "Leo la tabla7.2 de MP\n",
      "7.2\n",
      "Leo la tabla9 de MP\n",
      "Leo la tabla11 de MP\n"
     ]
    }
   ],
   "source": [
    "VAR='CO'\n",
    "self.Read_Verification(var=VAR)"
   ]
  },
  {
   "cell_type": "code",
   "execution_count": 5,
   "metadata": {},
   "outputs": [],
   "source": [
    "temporal1=pd.DataFrame(self.L[self.L.columns[6:8]].dropna().values)"
   ]
  },
  {
   "cell_type": "code",
   "execution_count": 6,
   "metadata": {},
   "outputs": [
    {
     "ename": "KeyError",
     "evalue": "'None of [0] are in the columns'",
     "output_type": "error",
     "traceback": [
      "\u001b[0;31m---------------------------------------------------------------------------\u001b[0m",
      "\u001b[0;31mKeyError\u001b[0m                                  Traceback (most recent call last)",
      "\u001b[0;32m/var/folders/r_/zs7g20jn0659kp2nyn_sp92r0000gn/T/ipykernel_1194/1186794734.py\u001b[0m in \u001b[0;36m<module>\u001b[0;34m\u001b[0m\n\u001b[0;32m----> 1\u001b[0;31m \u001b[0mtemporal1\u001b[0m\u001b[0;34m.\u001b[0m\u001b[0mset_index\u001b[0m\u001b[0;34m(\u001b[0m\u001b[0;36m0\u001b[0m\u001b[0;34m)\u001b[0m\u001b[0;34m\u001b[0m\u001b[0;34m\u001b[0m\u001b[0m\n\u001b[0m",
      "\u001b[0;32m~/opt/anaconda3/lib/python3.9/site-packages/pandas/util/_decorators.py\u001b[0m in \u001b[0;36mwrapper\u001b[0;34m(*args, **kwargs)\u001b[0m\n\u001b[1;32m    309\u001b[0m                     \u001b[0mstacklevel\u001b[0m\u001b[0;34m=\u001b[0m\u001b[0mstacklevel\u001b[0m\u001b[0;34m,\u001b[0m\u001b[0;34m\u001b[0m\u001b[0;34m\u001b[0m\u001b[0m\n\u001b[1;32m    310\u001b[0m                 )\n\u001b[0;32m--> 311\u001b[0;31m             \u001b[0;32mreturn\u001b[0m \u001b[0mfunc\u001b[0m\u001b[0;34m(\u001b[0m\u001b[0;34m*\u001b[0m\u001b[0margs\u001b[0m\u001b[0;34m,\u001b[0m \u001b[0;34m**\u001b[0m\u001b[0mkwargs\u001b[0m\u001b[0;34m)\u001b[0m\u001b[0;34m\u001b[0m\u001b[0;34m\u001b[0m\u001b[0m\n\u001b[0m\u001b[1;32m    312\u001b[0m \u001b[0;34m\u001b[0m\u001b[0m\n\u001b[1;32m    313\u001b[0m         \u001b[0;32mreturn\u001b[0m \u001b[0mwrapper\u001b[0m\u001b[0;34m\u001b[0m\u001b[0;34m\u001b[0m\u001b[0m\n",
      "\u001b[0;32m~/opt/anaconda3/lib/python3.9/site-packages/pandas/core/frame.py\u001b[0m in \u001b[0;36mset_index\u001b[0;34m(self, keys, drop, append, inplace, verify_integrity)\u001b[0m\n\u001b[1;32m   5449\u001b[0m \u001b[0;34m\u001b[0m\u001b[0m\n\u001b[1;32m   5450\u001b[0m         \u001b[0;32mif\u001b[0m \u001b[0mmissing\u001b[0m\u001b[0;34m:\u001b[0m\u001b[0;34m\u001b[0m\u001b[0;34m\u001b[0m\u001b[0m\n\u001b[0;32m-> 5451\u001b[0;31m             \u001b[0;32mraise\u001b[0m \u001b[0mKeyError\u001b[0m\u001b[0;34m(\u001b[0m\u001b[0;34mf\"None of {missing} are in the columns\"\u001b[0m\u001b[0;34m)\u001b[0m\u001b[0;34m\u001b[0m\u001b[0;34m\u001b[0m\u001b[0m\n\u001b[0m\u001b[1;32m   5452\u001b[0m \u001b[0;34m\u001b[0m\u001b[0m\n\u001b[1;32m   5453\u001b[0m         \u001b[0;32mif\u001b[0m \u001b[0minplace\u001b[0m\u001b[0;34m:\u001b[0m\u001b[0;34m\u001b[0m\u001b[0;34m\u001b[0m\u001b[0m\n",
      "\u001b[0;31mKeyError\u001b[0m: 'None of [0] are in the columns'"
     ]
    }
   ],
   "source": [
    "temporal1.set_index(0)"
   ]
  },
  {
   "cell_type": "code",
   "execution_count": 6,
   "metadata": {},
   "outputs": [],
   "source": [
    "#zero_rango={'Ozono':3.1,'SO2':3.1,'CO':0.41,'NOx':3.1,'NO':3.1,'NO2':3.1}\n",
    "#Referencia={'Ozono':250,'SO2':200,'CO':10,'NOx':500,'NO':500,'NO2':300}\n",
    "#Span={'Ozono':7.1/100.,'SO2':10.1/100.,'CO':10.1/100.,'NOx':10.1/100.,'NO':10.0/100.,'NO2':10.0/100.}\n",
    "#Presition={'Ozono':7.1/100.,'SO2':10.1/100.,'CO':10.1/100.,'NOx':15.1/100.,'NO':15.1/100.,'NO2':15.1/100.}\n",
    "\n",
    "zero_rango={'Ozono':3.1,'SO2':3.1,'CO':0.41,'NOx':3.1,'NO':3.1,'NO2':3.1}\n",
    "Referencia={'Ozono':250,'SO2':200,'CO':10,'NOx':500,'NO':500,'NO2':300}\n",
    "Span={'Ozono':7.1/100.,'SO2':10.1/100.,'CO':10.1/100.,'NOx':10.1/100.,'NO':10.0/100.,'NO2':10.0/100.}\n",
    "Precition={'Ozono':7.1/100.,'SO2':10.1/100.,'CO':10.1/100.,'NOx':15.1/100.,'NO':15.1/100.,'NO2':15.1/100.}"
   ]
  },
  {
   "cell_type": "markdown",
   "metadata": {},
   "source": [
    "## Figuras PR"
   ]
  },
  {
   "cell_type": "code",
   "execution_count": 7,
   "metadata": {
    "scrolled": true
   },
   "outputs": [
    {
     "ename": "NameError",
     "evalue": "name 'est' is not defined",
     "output_type": "error",
     "traceback": [
      "\u001b[0;31m---------------------------------------------------------------------------\u001b[0m",
      "\u001b[0;31mNameError\u001b[0m                                 Traceback (most recent call last)",
      "\u001b[0;32m/var/folders/r_/zs7g20jn0659kp2nyn_sp92r0000gn/T/ipykernel_3853/1122083542.py\u001b[0m in \u001b[0;36m<module>\u001b[0;34m\u001b[0m\n\u001b[0;32m----> 1\u001b[0;31m \u001b[0mself\u001b[0m\u001b[0;34m.\u001b[0m\u001b[0mC\u001b[0m\u001b[0;34m[\u001b[0m\u001b[0;34m'MP'\u001b[0m\u001b[0;34m]\u001b[0m\u001b[0;34m[\u001b[0m\u001b[0mest\u001b[0m\u001b[0;34m]\u001b[0m\u001b[0;34m[\u001b[0m\u001b[0;36m7\u001b[0m\u001b[0;34m]\u001b[0m\u001b[0;34m\u001b[0m\u001b[0;34m\u001b[0m\u001b[0m\n\u001b[0m",
      "\u001b[0;31mNameError\u001b[0m: name 'est' is not defined"
     ]
    }
   ],
   "source": [
    "self.C['MP'][est][7]"
   ]
  },
  {
   "cell_type": "code",
   "execution_count": 8,
   "metadata": {},
   "outputs": [
    {
     "ename": "NameError",
     "evalue": "name 'Presition' is not defined",
     "output_type": "error",
     "traceback": [
      "\u001b[0;31m---------------------------------------------------------------------------\u001b[0m",
      "\u001b[0;31mNameError\u001b[0m                                 Traceback (most recent call last)",
      "\u001b[0;32m/var/folders/r_/zs7g20jn0659kp2nyn_sp92r0000gn/T/ipykernel_3853/3708186826.py\u001b[0m in \u001b[0;36m<module>\u001b[0;34m\u001b[0m\n\u001b[1;32m     49\u001b[0m                 \u001b[0;31m#ax[2].bar(np.arange(len(Diferencia)),Diferencia['20% Precisión'],color='purple')\u001b[0m\u001b[0;34m\u001b[0m\u001b[0;34m\u001b[0m\u001b[0m\n\u001b[1;32m     50\u001b[0m                 \u001b[0max\u001b[0m\u001b[0;34m[\u001b[0m\u001b[0;36m2\u001b[0m\u001b[0;34m]\u001b[0m\u001b[0;34m.\u001b[0m\u001b[0mscatter\u001b[0m\u001b[0;34m(\u001b[0m\u001b[0mnp\u001b[0m\u001b[0;34m.\u001b[0m\u001b[0marange\u001b[0m\u001b[0;34m(\u001b[0m\u001b[0mlen\u001b[0m\u001b[0;34m(\u001b[0m\u001b[0mDiferencia\u001b[0m\u001b[0;34m)\u001b[0m\u001b[0;34m)\u001b[0m\u001b[0;34m,\u001b[0m\u001b[0mDiferencia\u001b[0m\u001b[0;34m[\u001b[0m\u001b[0;34m'20% Precisión'\u001b[0m\u001b[0;34m]\u001b[0m\u001b[0;34m,\u001b[0m\u001b[0mcolor\u001b[0m\u001b[0;34m=\u001b[0m\u001b[0;34m'purple'\u001b[0m\u001b[0;34m)\u001b[0m\u001b[0;34m\u001b[0m\u001b[0;34m\u001b[0m\u001b[0m\n\u001b[0;32m---> 51\u001b[0;31m                 \u001b[0max\u001b[0m\u001b[0;34m[\u001b[0m\u001b[0;36m2\u001b[0m\u001b[0;34m]\u001b[0m\u001b[0;34m.\u001b[0m\u001b[0mfill_between\u001b[0m\u001b[0;34m(\u001b[0m\u001b[0mindex_ext\u001b[0m\u001b[0;34m,\u001b[0m\u001b[0;34m(\u001b[0m\u001b[0mtemporal1\u001b[0m\u001b[0;34m[\u001b[0m\u001b[0;34m'20% Precisión'\u001b[0m\u001b[0;34m]\u001b[0m\u001b[0;34m*\u001b[0m\u001b[0mPresition\u001b[0m\u001b[0;34m[\u001b[0m\u001b[0mvar\u001b[0m\u001b[0;34m]\u001b[0m\u001b[0;34m)\u001b[0m\u001b[0;34m*\u001b[0m\u001b[0;34m-\u001b[0m\u001b[0;36m1\u001b[0m\u001b[0;34m,\u001b[0m\u001b[0;34m(\u001b[0m\u001b[0mtemporal1\u001b[0m\u001b[0;34m[\u001b[0m\u001b[0;34m'20% Precisión'\u001b[0m\u001b[0;34m]\u001b[0m\u001b[0;34m*\u001b[0m\u001b[0mPresition\u001b[0m\u001b[0;34m[\u001b[0m\u001b[0mvar\u001b[0m\u001b[0;34m]\u001b[0m\u001b[0;34m)\u001b[0m\u001b[0;34m,\u001b[0m\u001b[0mcolor\u001b[0m\u001b[0;34m=\u001b[0m\u001b[0;34m[\u001b[0m\u001b[0;36m155\u001b[0m\u001b[0;34m/\u001b[0m\u001b[0;36m255.\u001b[0m\u001b[0;34m,\u001b[0m\u001b[0;36m196\u001b[0m\u001b[0;34m/\u001b[0m\u001b[0;36m255.\u001b[0m\u001b[0;34m,\u001b[0m\u001b[0;36m184\u001b[0m\u001b[0;34m/\u001b[0m\u001b[0;36m255.\u001b[0m\u001b[0;34m,\u001b[0m\u001b[0;34m]\u001b[0m\u001b[0;34m,\u001b[0m\u001b[0malpha\u001b[0m\u001b[0;34m=\u001b[0m\u001b[0;36m0.3\u001b[0m\u001b[0;34m)\u001b[0m\u001b[0;34m\u001b[0m\u001b[0;34m\u001b[0m\u001b[0m\n\u001b[0m\u001b[1;32m     52\u001b[0m                 \u001b[0max\u001b[0m\u001b[0;34m[\u001b[0m\u001b[0;36m2\u001b[0m\u001b[0;34m]\u001b[0m\u001b[0;34m.\u001b[0m\u001b[0mset_xticks\u001b[0m\u001b[0;34m(\u001b[0m\u001b[0mlist\u001b[0m\u001b[0;34m(\u001b[0m\u001b[0mrange\u001b[0m\u001b[0;34m(\u001b[0m\u001b[0mlen\u001b[0m\u001b[0;34m(\u001b[0m\u001b[0mDiferencia\u001b[0m\u001b[0;34m)\u001b[0m\u001b[0;34m)\u001b[0m\u001b[0;34m)\u001b[0m\u001b[0;34m)\u001b[0m\u001b[0;34m\u001b[0m\u001b[0;34m\u001b[0m\u001b[0m\n\u001b[1;32m     53\u001b[0m                 \u001b[0max\u001b[0m\u001b[0;34m[\u001b[0m\u001b[0;36m2\u001b[0m\u001b[0;34m]\u001b[0m\u001b[0;34m.\u001b[0m\u001b[0mset_xticklabels\u001b[0m\u001b[0;34m(\u001b[0m\u001b[0mDiferencia\u001b[0m\u001b[0;34m.\u001b[0m\u001b[0mindex\u001b[0m\u001b[0;34m.\u001b[0m\u001b[0mtolist\u001b[0m\u001b[0;34m(\u001b[0m\u001b[0;34m)\u001b[0m\u001b[0;34m)\u001b[0m\u001b[0;34m\u001b[0m\u001b[0;34m\u001b[0m\u001b[0m\n",
      "\u001b[0;31mNameError\u001b[0m: name 'Presition' is not defined"
     ]
    },
    {
     "data": {
      "image/png": "[encoded data removed]",
      "text/plain": [
       "<Figure size 864x288 with 2 Axes>"
      ]
     },
     "metadata": {},
     "output_type": "display_data"
    }
   ],
   "source": [
    "from messages import Email\n",
    "var1=VAR\n",
    "for est in self.C['PR'].keys():\n",
    "    for var in (['NO','NO2','NOx'] if var1=='NOx' else [var1]):\n",
    "        #if (est!='MED-PJIC' and var=='CO'):\n",
    "        \n",
    "            if (len(self.C['PR'][est][7])>0):\n",
    "            \n",
    "                n=0.2\n",
    "                if var!='NO2':                \n",
    "                    temporal=self.C['PR'][est][7].T['Lectura' if var not in ['NO','NOx','NO2'] else 'Lectura '+(var if var in ['NO','NO2'] else 'NOX') ]\n",
    "                else:\n",
    "                    temporal=self.C['PR'][est][9].T['NO2']                \n",
    "                    \n",
    "                temporal=temporal.dropna(how='all',axis=1)\n",
    "                temporal.index=pd.to_datetime(temporal.index)\n",
    "                if var!='NO2':\n",
    "                    temporal1=self.C['PR'][est][7].T['Conc. Actual / Valor Ajuste' if var=='Ozono' else 'Lectura Actual NO / Valor Ajuste NO' if var in ['NO','NOx','NO2'] else 'Lectura Actual']\n",
    "                else:\n",
    "                    temporal1=self.C['PR'][est][9].T['Valor Esperado NO2']\n",
    "                                        \n",
    "                temporal1=temporal1.dropna(how='all',axis=1)\n",
    "                temporal1.index=pd.to_datetime(temporal1.index)\n",
    "                temporal1=temporal1.astype(float)\n",
    "                Diferencia=temporal-temporal1\n",
    "                Diferencia.index=list(map(lambda x: x.strftime('%d %b\\n%Y'),Diferencia.index))\n",
    "                \n",
    "                plt.close('all')\n",
    "                fig = plt.figure(2,figsize=(12, 4),facecolor='w',edgecolor='w')\n",
    "                plt.subplots_adjust(wspace=.2,hspace=.35,bottom=0.2,left=0.1,right=0.9,top=0.8)\n",
    "                plt.rcParams[\"ytick.labelsize\"]=12\n",
    "                plt.rcParams[\"xtick.labelsize\"]=12\n",
    "                plt.rcParams[\"xtick.color\"]='gray'\n",
    "                plt.rcParams[\"ytick.color\"]='gray'\n",
    "\n",
    "\n",
    "                ax={}\n",
    "                ax[1] = fig.add_axes((0.05,0.05,0.4,0.7))\n",
    "                ax[2] = fig.add_axes((0.52,0.05,0.4,0.7))\n",
    "                index_ext=[-0.5]+list(range(1,len(Diferencia[:-1])))+[len(Diferencia)-0.5]\n",
    "                #ax[1].bar(np.arange(len(Diferencia)),Diferencia['Zero Dejado'],color='purple')\n",
    "                ax[1].scatter(np.arange(len(Diferencia)),Diferencia['Zero Dejado'],color='purple')\n",
    "                ax[1].fill_between(index_ext,zero_rango[var]*-1,zero_rango[var],color=[155/255.,196/255.,184/255.,],alpha=0.3)\n",
    "                ax[1].set_xticks(list(range(len(Diferencia))))                \n",
    "                ax[1].set_xticklabels(Diferencia.index.tolist())\n",
    "                ax[1].set_title('Punto de verificación 0%',fontsize=14, color='dimgray',loc='right')\n",
    "                \n",
    "                \n",
    "                #ax[2].bar(np.arange(len(Diferencia)),Diferencia['20% Precisión'],color='purple')\n",
    "                ax[2].scatter(np.arange(len(Diferencia)),Diferencia['20% Precisión'],color='purple')\n",
    "                ax[2].fill_between(index_ext,(temporal1['20% Precisión']*Presition[var])*-1,(temporal1['20% Precisión']*Presition[var]),color=[155/255.,196/255.,184/255.,],alpha=0.3)\n",
    "                ax[2].set_xticks(list(range(len(Diferencia))))                \n",
    "                ax[2].set_xticklabels(Diferencia.index.tolist())                \n",
    "                ax[2].set_title('Punto de verificación 20%',fontsize=14, color='dimgray',loc='right')\n",
    "                \n",
    "                for i in [1,2]:                \n",
    "                    ax[i].hlines(0,-0.5,len(Diferencia.index)-0.5,linestyle='-',color='k',lw=1)\n",
    "                    ax[i].set_ylabel('%s [%s]'%(var,'ppb' if var!='CO' else 'ppm'), fontsize=13, color='gray')\n",
    "\n",
    "                #Diferencia['Zero Dejado'].plot.bar(ax=ax[1])\n",
    "                fig.suptitle('Error: Prueba Precisión %s - %s\\n(Rango analizador %d %s)'%(var,est,Referencia[var],'ppb' if var!='CO' else 'ppm'), fontsize=16)\n",
    "                \n",
    "                plt.savefig('Figuras/ErrorVerification_PR_%s_%s.png'%(var,est), bbox_inches='tight', format='png')\n",
    "                \n",
    "\n",
    "                for i in np.array(range(len(Diferencia['Zero Dejado']))):\n",
    "                    codigoTablaStr = []\n",
    "                    codigoTablaStr = u\"La verificacion de precision realizada en la estacion {0}, para la variable {1} en la fecha {2} se encontro con valor de {3}, {4}:  {5}\"\\\n",
    "                    .format (est, VAR, Diferencia.index[i], Diferencia['Zero Dejado'][i], u\"Cerca al rango permitido\", zero_rango[var])\n",
    "                \n",
    "                    print (Diferencia['Zero Dejado'][i])\n",
    "                    \n",
    "                    if Diferencia['Zero Dejado'][i] >= (0.8*zero_rango[var]):\n",
    "\n",
    "                        m = Email(\n",
    "                            from_ = \"complex.siata@gmail.com\",\n",
    "                            to = [\"alina.miranda@siata.gov.co\"],\n",
    "                            auth = \"C0mplex#\",   \n",
    "                            subject= \"Alerta de verificación precisión cerca del rango permitido\",\n",
    "                            body = codigoTablaStr,\n",
    "                            attachments = [\"Figuras/ErrorVerification_PR_%s_%s.png\"%(var,est)],\n",
    "                           )\n",
    "\n",
    "                        m.send() "
   ]
  },
  {
   "cell_type": "code",
   "execution_count": null,
   "metadata": {},
   "outputs": [],
   "source": [
    "codigoTablaStr = []\n",
    "codigoTablaStr = u\"La verificación de precisión realizada en la estación {0}, para la variable {1} en la fecha {2} se encontró con valor de {3}, {4}:  {5}\"\\\n",
    ".format (est, VAR, Diferencia.index[i], Diferencia['Zero Dejado'][i], u\"Cerca al rango permitido\", zero_rango[var])\n",
    "                "
   ]
  },
  {
   "cell_type": "code",
   "execution_count": null,
   "metadata": {},
   "outputs": [],
   "source": [
    "codigoTablaStr"
   ]
  },
  {
   "cell_type": "markdown",
   "metadata": {},
   "source": [
    "## Figuras CS"
   ]
  },
  {
   "cell_type": "code",
   "execution_count": null,
   "metadata": {},
   "outputs": [],
   "source": [
    "var1=VAR\n",
    "for est in self.C['CS'].keys():\n",
    "    for var in (['NO','NOx','NO2'] if var1=='NOx' else [var1]):\n",
    "        #if (est!='MED-PJIC' and var=='CO'):\n",
    "        \n",
    "            if len(self.C['CS'][est][7])>0:\n",
    "                if var!='NO2':\n",
    "                    temporal=self.C['CS'][est][7].T['Lectura' if var not in ['NO','NOx','NO2'] else 'Lectura '+(var if var in ['NO','NO2'] else 'NOX') ]\n",
    "                else:\n",
    "                    temporal=self.C['CS'][est][9].T['NO2']                \n",
    "                temporal=temporal.dropna(how='all',axis=1)\n",
    "                temporal.index=pd.to_datetime(temporal.index)\n",
    "                if var!='NO2':\n",
    "                    temporal1=self.C['CS'][est][7].T['Conc. Actual / Valor Ajuste' if var=='Ozono' else 'Lectura Actual NO / Valor Ajuste NO' if var in ['NO','NOx','NO2'] else 'Lectura Actual']\n",
    "                else:\n",
    "                    temporal1=self.C['CS'][est][9].T['Valor Esperado NO2']\n",
    "                    \n",
    "                temporal1=temporal1.dropna(how='all',axis=1)\n",
    "                temporal1.index=pd.to_datetime(temporal1.index)\n",
    "                temporal1=temporal1.astype(float)\n",
    "                Diferencia=temporal-temporal1\n",
    "                Diferencia.index=list(map(lambda x: x.strftime('%b\\n%Y'),Diferencia.index))\n",
    "                \n",
    "                plt.close('all')\n",
    "                fig = plt.figure(2,figsize=(12, 4),facecolor='w',edgecolor='w')\n",
    "                plt.subplots_adjust(wspace=.2,hspace=.35,bottom=0.2,left=0.1,right=0.9,top=0.8)\n",
    "                plt.rcParams[\"ytick.labelsize\"]=12\n",
    "                plt.rcParams[\"xtick.labelsize\"]=12\n",
    "                plt.rcParams[\"xtick.color\"]='gray'\n",
    "                plt.rcParams[\"ytick.color\"]='gray'\n",
    "\n",
    "\n",
    "                ax={}\n",
    "                ax[1] = fig.add_axes((0.05,0.05,0.4,0.7))\n",
    "                ax[2] = fig.add_axes((0.52,0.05,0.4,0.7))\n",
    "                \n",
    "                index_ext=[-0.5]+list(range(1,len(Diferencia[:-1])))+[len(Diferencia)-0.5]\n",
    "                ax[1].scatter(np.arange(len(Diferencia)),Diferencia['Zero Dejado'],color='purple')\n",
    "                #ax[1].scatter(temporal1.index,temporal1['ZERO\\nDejado' if var not in ['NO','NOx','NO2','CO'] else 'Zero Dejado'],s=100,color='purple')\n",
    "                ax[1].fill_between(index_ext,zero_rango[var]*-1,zero_rango[var],color=[155/255.,196/255.,184/255.,],alpha=0.3)\n",
    "                ax[1].set_xticks(list(range(len(Diferencia))))                \n",
    "                ax[1].set_xticklabels(Diferencia.index.tolist())\n",
    "                ax[1].set_title('Punto de verificación 0%',fontsize=14, color='dimgray',loc='right')\n",
    "                \n",
    "                ax[2].scatter(np.arange(len(Diferencia)),Diferencia['80% SPAN Dejado'],color='purple')\n",
    "                #ax[2].bar(np.arange(len(Diferencia)),Diferencia['80% SPAN Dejado'],color='purple')\n",
    "                ax[2].fill_between(index_ext,(temporal1['80% SPAN Dejado']*Span[var])*-1,(temporal1['80% SPAN Dejado']*Span[var]),color=[155/255.,196/255.,184/255.,],alpha=0.3)\n",
    "                ax[2].set_xticks(list(range(len(Diferencia))))                \n",
    "                ax[2].set_xticklabels(Diferencia.index.tolist())                \n",
    "                ax[2].set_title('Punto de verificación 80%',fontsize=14, color='dimgray',loc='right')\n",
    "                \n",
    "                for i in [1,2]:                \n",
    "                    ax[i].hlines(0,-0.5,len(Diferencia.index)-0.5,linestyle='-',color='k',lw=1)\n",
    "                    ax[i].set_ylabel('%s [%s]'%(var,'ppb' if var!='CO' else 'ppm'), fontsize=13, color='gray')\n",
    "\n",
    "                #Diferencia['Zero Dejado'].plot.bar(ax=ax[1])\n",
    "                fig.suptitle('Error: Prueba Precisión %s - %s\\n(Rango analizador %d %s)'%(var,est,Referencia[var],'ppb' if var!='CO' else 'ppm'), fontsize=16)\n",
    "                \n",
    "\n",
    "                plt.savefig('Figuras/ErrorVerification_CS_%s_%s.png'%(var,est), bbox_inches='tight', format='png')\n",
    "                \n",
    "                for i in np.array(range(len(Diferencia['Zero Dejado']))):\n",
    "                    codigoTablaStr = []\n",
    "                    codigoTablaStr = u\"La verificacion de cero y spam realizada en la estacion {0}, para la variable {1} en la fecha {2} se encontro con valor de {3}, {4}:  {5}\"\\\n",
    "                    .format (est, VAR, Diferencia.index[i], Diferencia['Zero Dejado'][i], u\"Cerca al rango permitido\", zero_rango[var])\n",
    "\n",
    "                    print (Diferencia['Zero Dejado'][i])\n",
    "\n",
    "                    if Diferencia['Zero Dejado'][i] >= (0.8*zero_rango[var]):\n",
    "\n",
    "                        m = Email(\n",
    "                            from_ = \"complex.siata@gmail.com\",\n",
    "                            to = [\"alina.miranda@siata.gov.co, sgc@siata.gov.co, mauricio.ramirez@siata.gov.co\"],\n",
    "                            auth = \"C0mplex#\",   \n",
    "                            subject= \"Alerta de verificación cero y spam cerca del rango permitido\",\n",
    "                            body = codigoTablaStr,\n",
    "                            attachments = ['Figuras/ErrorVerification_CS_%s_%s.png'%(var,est)],\n",
    "                           )\n",
    "\n",
    "                        m.send() "
   ]
  },
  {
   "cell_type": "code",
   "execution_count": null,
   "metadata": {},
   "outputs": [],
   "source": [
    "index_ext"
   ]
  },
  {
   "cell_type": "code",
   "execution_count": null,
   "metadata": {},
   "outputs": [],
   "source": [
    "zero_rango[var]*-1"
   ]
  },
  {
   "cell_type": "code",
   "execution_count": null,
   "metadata": {},
   "outputs": [],
   "source": [
    "zero_rango[var]"
   ]
  },
  {
   "cell_type": "code",
   "execution_count": null,
   "metadata": {},
   "outputs": [],
   "source": [
    "np.array(range(len(Diferencia['Zero Dejado'])))\n"
   ]
  },
  {
   "cell_type": "code",
   "execution_count": null,
   "metadata": {},
   "outputs": [],
   "source": [
    "temporal1.index\n"
   ]
  },
  {
   "cell_type": "markdown",
   "metadata": {},
   "source": [
    "## Figuras MP"
   ]
  },
  {
   "cell_type": "code",
   "execution_count": null,
   "metadata": {},
   "outputs": [],
   "source": [
    "index_ext"
   ]
  },
  {
   "cell_type": "code",
   "execution_count": null,
   "metadata": {},
   "outputs": [],
   "source": [
    "var1=VAR\n",
    "for est in self.C['MP'].keys():#['MED-ITMR', 'MED-FISC', 'CEN-TRAF', 'MED-PJIC', 'ITA-CJUS', 'SUR-TRAF']:#self.C['MP'].keys():\n",
    "    for var in (['NO','NOx','NO2'] if var1=='NOx' else [var1]):\n",
    "        \n",
    "        \n",
    "        #if (est!='MED-PJIC' and var=='CO'):\n",
    "        \n",
    "            if len(self.C['CS'][est][7])>0:\n",
    "\n",
    "            #try:\n",
    "                if var!='NO2':\n",
    "                    temporal=self.C['MP'][est][7].T['Lectura' if var not in ['NO','NOx','NO2'] else 'Lectura '+(var if var in ['NO','NO2'] else 'NOX') ]\n",
    "                else:\n",
    "                    temporal=self.C['MP'][est][9].T['NO2']\n",
    "                temporal.index=pd.to_datetime(temporal.index)\n",
    "                temporal=temporal.sort_index()\n",
    "                if var!='NO2':\n",
    "                    temporal1=self.C['MP'][est][7].T['Conc. Actual / Valor Ajuste' if var=='Ozono' else 'Lectura Actual NO / Valor Ajuste NO' if var in ['NO','NOx','NO2'] else 'Lectura Actual']\n",
    "                else:\n",
    "                    temporal1=self.C['MP'][est][9].T['Valor Esperado NO2']\n",
    "                temporal1.index=pd.to_datetime(temporal1.index)\n",
    "                temporal1=temporal1.sort_index()\n",
    "                Diferencia=temporal-temporal1\n",
    "                Diferencia.index=list(map(lambda x: x.strftime('%b\\n%Y'),Diferencia.index))\n",
    "                                \n",
    "                plt.close('all')\n",
    "                fig = plt.figure(2,figsize=(12, 12),facecolor='w',edgecolor='w')\n",
    "                plt.subplots_adjust(wspace=.2,hspace=.35,bottom=0.2,left=0.1,right=0.9,top=0.8)\n",
    "                plt.rcParams[\"ytick.labelsize\"]=12\n",
    "                plt.rcParams[\"xtick.labelsize\"]=12\n",
    "                plt.rcParams[\"xtick.color\"]='gray'\n",
    "                plt.rcParams[\"ytick.color\"]='gray'\n",
    "\n",
    "\n",
    "                ax={}\n",
    "                ax[1] = fig.add_axes((0.05,0.67,0.4,0.22))\n",
    "                ax[2] = fig.add_axes((0.52,0.67,0.4,0.22))\n",
    "                ax[3] = fig.add_axes((0.05,0.36,0.4,0.22))\n",
    "                ax[4] = fig.add_axes((0.52,0.36,0.4,0.22))\n",
    "                ax[5] = fig.add_axes((0.52,0.05,0.4,0.22))\n",
    "                \n",
    "                index_ext=[-0.5]+list(range(1,len(Diferencia[:-1])))+[len(Diferencia)-0.5]\n",
    "                ax[1].scatter(np.arange(len(Diferencia)),Diferencia['ZERO\\nDejado' if var not in ['NO','NOx','NO2','CO'] else 'Zero Dejado'],color='purple')\n",
    "                ax[1].fill_between(index_ext,zero_rango[var]*-1,zero_rango[var],color=[155/255.,196/255.,184/255.,],alpha=0.3)\n",
    "                ax[1].set_xticks(list(range(len(Diferencia))))                \n",
    "                ax[1].set_xticklabels(Diferencia.index.tolist())\n",
    "                ax[1].set_title('Punto de verificación 0%',fontsize=14, color='dimgray',loc='right')\n",
    "                for i,n in enumerate([0.2,0.4,0.7,0.9]):\n",
    "                    ax[i+2].scatter(np.arange(len(Diferencia)),Diferencia['%d'%(n*100)+'% Multipunto'+(' Dejado' if n==0.9 else '')],color='purple')\n",
    "                    if n in [0.2]:\n",
    "                        ax[i+2].fill_between(index_ext,(temporal1['%d'%(n*100)+'% Multipunto'+(' Dejado' if n==0.9 else '')]*Presition[var])*-1,(temporal1['%d'%(n*100)+'% Multipunto'+(' Dejado' if n==0.9 else '')]*Presition[var]),color=[155/255.,196/255.,184/255.,],alpha=0.3)\n",
    "                    elif n in [0.9]:\n",
    "                        ax[i+2].fill_between(index_ext,(temporal1['%d'%(n*100)+'% Multipunto'+(' Dejado' if n==0.9 else '')]*Span[var])*-1,(temporal1['%d'%(n*100)+'% Multipunto'+(' Dejado' if n==0.9 else '')]*Span[var]),color=[155/255.,196/255.,184/255.,],alpha=0.3)\n",
    "                    elif n in [0.4,0.7]:    \n",
    "                        valorext=max(np.abs(Diferencia['%d'%(n*100)+'% Multipunto'+(' Dejado' if n==0.9 else '')]))\n",
    "                        ax[i+2].set_ylim(-1*valorext-1,valorext+1)\n",
    "                    ax[i+2].set_xticks(list(range(len(Diferencia))))                \n",
    "                    ax[i+2].set_xticklabels(Diferencia.index.tolist())                \n",
    "                    ax[i+2].set_title('Punto de verificación %d'%(n*100)+'%',fontsize=14, color='dimgray',loc='right')\n",
    "                for i in range(5):                \n",
    "                    ax[i+1].hlines(0,-0.5,len(Diferencia.index)-0.5,linestyle='-',color='k',lw=1)\n",
    "                    ax[i+1].set_ylabel('%s [%s]'%(var,'ppb' if var!='CO' else 'ppm'), fontsize=13, color='gray')\n",
    "                plt.savefig('Figuras/ErrorVerification_MP_%s_%s.png'%(var,est), bbox_inches='tight', format='png')\n",
    "                \n",
    "                for i in np.array(range(len(Diferencia['Zero Dejado']))):\n",
    "                    codigoTablaStr = []\n",
    "                    codigoTablaStr = u\"La verificacion de Multipunto realizada en la estacion {0}, para la variable {1} en la fecha {2} se encontro con valor de {3}, {4}:  {5}\"\\\n",
    "                    .format (est, VAR, Diferencia.index[i], Diferencia['Zero Dejado'][i], u\"Cerca al rango permitido\", zero_rango[var])\n",
    "\n",
    "                    print (Diferencia['Zero Dejado'][i])\n",
    "\n",
    "                    if Diferencia['Zero Dejado'][i] >= (0.8*zero_rango[var]):\n",
    "\n",
    "                        m = Email(\n",
    "                            from_ = \"complex.siata@gmail.com\",\n",
    "                            to = [\"alina.miranda@siata.gov.co, sgc@siata.gov.co, mauricio.ramirez@siata.gov.co\"],\n",
    "                            auth = \"C0mplex#\",   \n",
    "                            subject= \"Alerta de verificación multipunto cerca del rango permitido\",\n",
    "                            body = codigoTablaStr,\n",
    "                            attachments = ['Figuras/ErrorVerification_MP_%s_%s.png'%(var,est)],\n",
    "                           )\n",
    "\n",
    "                        m.send() "
   ]
  },
  {
   "cell_type": "code",
   "execution_count": null,
   "metadata": {},
   "outputs": [],
   "source": [
    "for i in len(Diferencia['Zero Dejado'][2].keys):\n",
    "    var1=VAR\n",
    "    for est in self.C['MP'].keys():#['MED-ITMR', 'MED-FISC', 'CEN-TRAF', 'MED-PJIC', 'ITA-CJUS', 'SUR-TRAF']:#self.C['MP'].keys():\n",
    "        for var in (['NO','NOx','NO2'] if var1=='NOx' else [var1]):\n",
    "\n",
    "\n",
    "            #if (est!='MED-PJIC' and var=='CO'):\n",
    "\n",
    "                if len(self.C['CS'][est][7])>0:\n",
    "\n",
    "                #try:\n",
    "                    if var!='NO2':\n",
    "                        temporal=self.C['MP'][est][7].T['Lectura' if var not in ['NO','NOx','NO2'] else 'Lectura '+(var if var in ['NO','NO2'] else 'NOX') ]\n",
    "                    else:\n",
    "                        temporal=self.C['MP'][est][9].T['NO2']\n",
    "                    temporal.index=pd.to_datetime(temporal.index)\n",
    "                    temporal=temporal.sort_index()\n",
    "                    if var!='NO2':\n",
    "                        temporal1=self.C['MP'][est][7].T['Conc. Actual / Valor Ajuste' if var=='Ozono' else 'Lectura Actual NO / Valor Ajuste NO' if var in ['NO','NOx','NO2'] else 'Lectura Actual']\n",
    "                    else:\n",
    "                        temporal1=self.C['MP'][est][9].T['Valor Esperado NO2']\n",
    "                    temporal1.index=pd.to_datetime(temporal1.index)\n",
    "                    temporal1=temporal1.sort_index()\n",
    "                    Diferencia=temporal-temporal1\n",
    "                    Diferencia.index=list(map(lambda x: x.strftime('%b\\n%Y'),Diferencia.index))\n",
    "\n",
    "                    plt.close('all')\n",
    "                    fig = plt.figure(2,figsize=(12, 12),facecolor='w',edgecolor='w')\n",
    "                    plt.subplots_adjust(wspace=.2,hspace=.35,bottom=0.2,left=0.1,right=0.9,top=0.8)\n",
    "                    plt.rcParams[\"ytick.labelsize\"]=12\n",
    "                    plt.rcParams[\"xtick.labelsize\"]=12\n",
    "                    plt.rcParams[\"xtick.color\"]='gray'\n",
    "                    plt.rcParams[\"ytick.color\"]='gray'\n",
    "\n",
    "\n",
    "                    ax={}\n",
    "                    ax[1] = fig.add_axes((0.05,0.67,0.4,0.22))\n",
    "                    ax[2] = fig.add_axes((0.52,0.67,0.4,0.22))\n",
    "                    ax[3] = fig.add_axes((0.05,0.36,0.4,0.22))\n",
    "                    ax[4] = fig.add_axes((0.52,0.36,0.4,0.22))\n",
    "                    ax[5] = fig.add_axes((0.52,0.05,0.4,0.22))\n",
    "\n",
    "                    index_ext=[-0.5]+list(range(1,len(Diferencia[:-1])))+[len(Diferencia)-0.5]\n",
    "                    ax[1].scatter(np.arange(len(Diferencia)),Diferencia['ZERO\\nDejado' if var not in ['NO','NOx','NO2','CO'] else 'Zero Dejado'],color='purple')\n",
    "                    ax[1].fill_between(index_ext,zero_rango[var]*-1,zero_rango[var],color=[155/255.,196/255.,184/255.,],alpha=0.3)\n",
    "                    ax[1].set_xticks(list(range(len(Diferencia))))                \n",
    "                    ax[1].set_xticklabels(Diferencia.index.tolist())\n",
    "                    ax[1].set_title('Punto de verificación 0%',fontsize=14, color='dimgray',loc='right')\n",
    "                    for i,n in enumerate([0.2,0.4,0.7,0.9]):\n",
    "                        ax[i+2].scatter(np.arange(len(Diferencia)),Diferencia['%d'%(n*100)+'% Multipunto'+(' Dejado' if n==0.9 else '')],color='purple')\n",
    "                        if n in [0.2]:\n",
    "                            ax[i+2].fill_between(index_ext,(temporal1['%d'%(n*100)+'% Multipunto'+(' Dejado' if n==0.9 else '')]*Presition[var])*-1,(temporal1['%d'%(n*100)+'% Multipunto'+(' Dejado' if n==0.9 else '')]*Presition[var]),color=[155/255.,196/255.,184/255.,],alpha=0.3)\n",
    "                        elif n in [0.9]:\n",
    "                            ax[i+2].fill_between(index_ext,(temporal1['%d'%(n*100)+'% Multipunto'+(' Dejado' if n==0.9 else '')]*Span[var])*-1,(temporal1['%d'%(n*100)+'% Multipunto'+(' Dejado' if n==0.9 else '')]*Span[var]),color=[155/255.,196/255.,184/255.,],alpha=0.3)\n",
    "                        elif n in [0.4,0.7]:    \n",
    "                            valorext=max(np.abs(Diferencia['%d'%(n*100)+'% Multipunto'+(' Dejado' if n==0.9 else '')]))\n",
    "                            ax[i+2].set_ylim(-1*valorext-1,valorext+1)\n",
    "                        ax[i+2].set_xticks(list(range(len(Diferencia))))                \n",
    "                        ax[i+2].set_xticklabels(Diferencia.index.tolist())                \n",
    "                        ax[i+2].set_title('Punto de verificación %d'%(n*100)+'%',fontsize=14, color='dimgray',loc='right')\n",
    "                    for i in range(5):                \n",
    "                        ax[i+1].hlines(0,-0.5,len(Diferencia.index)-0.5,linestyle='-',color='k',lw=1)\n",
    "                        ax[i+1].set_ylabel('%s [%s]'%(var,'ppb' if var!='CO' else 'ppm'), fontsize=13, color='gray')\n",
    "                    plt.savefig('Figuras/ErrorVerification_MP_%s_%s.png'%(var,est), bbox_inches='tight', format='png')\n"
   ]
  },
  {
   "cell_type": "code",
   "execution_count": null,
   "metadata": {},
   "outputs": [],
   "source": [
    "codigoTablaStr"
   ]
  },
  {
   "cell_type": "code",
   "execution_count": null,
   "metadata": {},
   "outputs": [],
   "source": [
    "codigoTablaStr = []\n",
    "codigoTablaStr = \"<tr> <td> <center> {0} </center> </td> \\\n",
    "        <td> <center> {1} </center> </td> <td> <center> {2} </center> </td> \\\n",
    "        <td> <center> {3} </center> </td> <td> <center> {4} </center> </td> \\\n",
    "        <center> {5} </center> </td> </tr> \"\\\n",
    "        .format (est, VAR, Diferencia.index[i], Diferencia['Zero Dejado'][i], u\"Cerca al rango permitido\", zero_rango[var])"
   ]
  },
  {
   "cell_type": "code",
   "execution_count": null,
   "metadata": {},
   "outputs": [],
   "source": [
    "for i in np.array(range(len(Diferencia['Zero Dejado']))):\n",
    "    print (Diferencia['Zero Dejado'][i])\n",
    "    if Diferencia['Zero Dejado'][i] >= (0.5*zero_rango[var]):\n",
    "        \n",
    "        from messages import Email\n",
    "\n",
    "        m = Email(\n",
    "            from_ = \"complex.siata@gmail.com\",\n",
    "            to = [\"alina.miranda@siata.gov.co\"],\n",
    "            auth = \"C0mplex#\",   \n",
    "            subject= \"Alerta de verificación cerca del rango permitido\",\n",
    "            body = [\"./mail.body.txt\"],\n",
    "            attachments = [\"./LogoA2.jpg\"],\n",
    "           )\n",
    "\n",
    "        m.send()   \n",
    "        \n",
    "        if Diferencia['Zero Dejado'][i] >= (0.5*zero_rango[var]):\n",
    "        \n",
    "        from messages import Email\n",
    "\n",
    "        m = Email(\n",
    "            from_ = \"complex.siata@gmail.com\",\n",
    "            to = [\"alina.miranda@siata.gov.co\"],\n",
    "            auth = \"C0mplex#\",   \n",
    "            subject= \"Alerta de verificación cerca del rango permitido\",\n",
    "            body = [\"./mail.body.txt\"],\n",
    "            attachments = [\"./LogoA2.jpg\"],\n",
    "           )\n",
    "\n",
    "        m.send() "
   ]
  },
  {
   "cell_type": "code",
   "execution_count": null,
   "metadata": {},
   "outputs": [],
   "source": [
    "# You can also send messages inside a script\n",
    "\n",
    "import asyncio\n",
    "\n",
    "from messages import Email\n",
    "\n",
    "RECIPIENTS = [\n",
    "    \"guiller.ayala@udea.edu.co\",\n",
    "    \"mauricio.ramirez@siata.gov.co\",\n",
    "]\n",
    "\n",
    "\n",
    "\n",
    "loop = asyncio.get_event_loop()\n",
    "\n",
    "for r in RECIPIENTS:\n",
    "    e = Email(\n",
    "        from_ = \"alina.miranda@siata.gov.co\",\n",
    "        to = r,\n",
    "        auth = \"Aire2021+\",\n",
    "        subject = \"PruebaCorreos\",\n",
    "        body = \"Anuncio Oficial de que Guiller me cae mal\",\n",
    "        attachments = [\"./LogoA2.jpg\"],\n",
    "    )\n",
    "    \n",
    "loop.create_task(e.send_async())\n",
    "tasks = asyncio.all_tasks(loop=loop)\n",
    "group = asyncio.gather(*tasks)\n",
    "loop.run_until_complete(group)\n"
   ]
  },
  {
   "cell_type": "code",
   "execution_count": null,
   "metadata": {},
   "outputs": [],
   "source": [
    "for i in np.array(range(len(Diferencia['Zero Dejado']))): \n",
    "    if Diferencia['Zero Dejado'][i] >= (0.8*zero_rango[var]): print(\"Alerta\"), print(Diferencia['Zero Dejado'][i])\n",
    "        "
   ]
  },
  {
   "cell_type": "code",
   "execution_count": null,
   "metadata": {},
   "outputs": [],
   "source": [
    "for i in np.array(range(len(Diferencia['Zero Dejado']))):\n",
    "    \n",
    "    if Diferencia['Zero Dejado'][i] >= (0.8*zero_rango[var]):\n",
    "        \n",
    "        codigoTablaStr = codigoTablaStr + \"<tr> <td> <center> {0} </center> </td> \\\n",
    "        <td> <center> {1} </center> </td> <td> <center> {2} </center> </td> \\\n",
    "        <td> <center> {3} </center> </td> <td> <td> <center> {4} </center> </td> \\\n",
    "        <center> {5} </center> </td> </tr> \"\\\n",
    "        .format (est, VAR, Diferencia['Zero Dejado'][i].index, Diferencia['Zero Dejado'][i],\\\n",
    "                 \"Está cerca al rango permitido\", zero_rango[var])"
   ]
  },
  {
   "cell_type": "code",
   "execution_count": null,
   "metadata": {},
   "outputs": [],
   "source": [
    "filenamePlantillaBodyCorreo = \"mail.body.plantilla.html\"\n",
    "filenameBodyCorreoHTML      = \"mail.body.html\"\n",
    "filenameBodyCorreoTXT       = \"mail.body.txt\"\n",
    "\n",
    "fileObjPlantillaBodyCorreo  = open (filenamePlantillaBodyCorreo, \"r\")\n",
    "fileObjBodyCorreoHTML       = open (filenameBodyCorreoHTML, \"w\")\n",
    "fileObjBodyCorreoTXT        = open (filenameBodyCorreoTXT, \"w\")\n",
    "\n",
    "contenidoBodyCorreo = fileObjPlantillaBodyCorreo.read ()\n",
    "#contenidoBodyCorreo = contenidoBodyCorreo.replace (\"{%listaCodigos%}\", codigosStr)\n",
    "contenidoBodyCorreo = contenidoBodyCorreo.replace (\"{%listaCodigosTabla%}\", codigoTablaStr)\n",
    "\n",
    "fileObjBodyCorreoHTML.write (contenidoBodyCorreo)\n",
    "fileObjBodyCorreoTXT.write (contenidoBodyCorreo)\n",
    "\n",
    "fileObjPlantillaBodyCorreo.close ()\n",
    "fileObjBodyCorreoHTML.close ()\n",
    "fileObjBodyCorreoTXT.close ()"
   ]
  },
  {
   "cell_type": "code",
   "execution_count": null,
   "metadata": {},
   "outputs": [],
   "source": [
    "filenameConfiguracion                               = \"mail.config.properties\"\n",
    "\n",
    "descargaCorreoElectronicoSeccionNombre              = \"envio.mail.config\"\n",
    "nombreParametroDirectorioDatos                      = \"siata.mail.datadir\"\n",
    "nombreParametroArchivoDestinatarioCorreoElectronico = \"siata.mail.to.filename\"\n",
    "nombreParametroArchivoBodyCorreoElectronico         = \"siata.mail.body.filename\"\n",
    "nombreParametroUsuarioDireccionCorreoElectronico    = \"siata.mail.smtp.fromaddr\"\n",
    "nombreParametroUsuarioNombreCorreoElectronico       = \"siata.mail.smtp.fromaddr.name\"\n",
    "nombreParametroHostCorreoElectronico                = \"siata.mail.smtp.host\"\n",
    "nombreParametroUsuarioCorreoElectronico             = \"siata.mail.smtp.username\"\n",
    "nombreParametroPasswordCorreoElectronico            = \"siata.mail.smtp.password\""
   ]
  },
  {
   "cell_type": "code",
   "execution_count": null,
   "metadata": {},
   "outputs": [],
   "source": [
    "def loadConfigProperties (filename, propertySection, propertyName):\n",
    "    configParser = ConfigParser.ConfigParser ()\n",
    "    configParser.read (filename)\n",
    "    return configParser.get (propertySection, propertyName)\n",
    "\n",
    "parametroDirectorioDatos = loadConfigProperties (filenameConfiguracion, descargaCorreoElectronicoSeccionNombre, nombreParametroDirectorioDatos)\n",
    "parametroArchivoDestinatarioCorreoElectronico = loadConfigProperties (filenameConfiguracion, descargaCorreoElectronicoSeccionNombre, nombreParametroArchivoDestinatarioCorreoElectronico)\n",
    "parametroArchivoBodyCorreoElectronico = loadConfigProperties (filenameConfiguracion, descargaCorreoElectronicoSeccionNombre, nombreParametroArchivoBodyCorreoElectronico)\n",
    "parametroUsuarioDireccionCorreoElectronico = loadConfigProperties (filenameConfiguracion, descargaCorreoElectronicoSeccionNombre, nombreParametroUsuarioDireccionCorreoElectronico)\n",
    "parametroUsuarioNombreCorreoElectronico = loadConfigProperties (filenameConfiguracion, descargaCorreoElectronicoSeccionNombre, nombreParametroUsuarioNombreCorreoElectronico)\n",
    "parametroHostCorreoElectronico = loadConfigProperties (filenameConfiguracion, descargaCorreoElectronicoSeccionNombre, nombreParametroHostCorreoElectronico)\n",
    "parametroUsuarioCorreoElectronico = loadConfigProperties (filenameConfiguracion, descargaCorreoElectronicoSeccionNombre, nombreParametroUsuarioCorreoElectronico)\n",
    "parametroPasswordCorreoElectronico = loadConfigProperties (filenameConfiguracion, descargaCorreoElectronicoSeccionNombre, nombreParametroPasswordCorreoElectronico)\n"
   ]
  },
  {
   "cell_type": "code",
   "execution_count": null,
   "metadata": {},
   "outputs": [],
   "source": [
    "sendSMTPMessageWithAttachment ([filenameConfiguracion], parametroArchivoDestinatarioCorreoElectronico, \"Solicitud de servicio de calibración equipos aire SC\"+ str(Ultcons)+\" AIRE Act2\", parametroArchivoBodyCorreoElectronico, [])\n"
   ]
  },
  {
   "cell_type": "code",
   "execution_count": null,
   "metadata": {},
   "outputs": [],
   "source": []
  }
 ],
 "metadata": {
  "kernelspec": {
   "display_name": "Python 3 (ipykernel)",
   "language": "python",
   "name": "python3"
  },
  "language_info": {
   "codemirror_mode": {
    "name": "ipython",
    "version": 3
   },
   "file_extension": ".py",
   "mimetype": "text/x-python",
   "name": "python",
   "nbconvert_exporter": "python",
   "pygments_lexer": "ipython3",
   "version": "3.9.7"
  }
 },
 "nbformat": 4,
 "nbformat_minor": 2
}
