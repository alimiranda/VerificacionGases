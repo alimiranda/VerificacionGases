{
 "cells": [
  {
   "cell_type": "code",
   "execution_count": 1,
   "id": "66e1f131",
   "metadata": {},
   "outputs": [],
   "source": [
    "import pandas as pd\n",
    "import glob as gb\n",
    "import numpy as np\n",
    "from dateutil.relativedelta import relativedelta"
   ]
  },
  {
   "cell_type": "code",
   "execution_count": 2,
   "id": "606dcc6d",
   "metadata": {},
   "outputs": [],
   "source": [
    "class Air:\n",
    "    \n",
    "    def __init__(self,Variable=None,Estaciones=None,Fechai=None, Fechaf=None,Freq=5):\n",
    "\n",
    "            self.Fechai      = (dt.datetime.now()-relativedelta(months=1)).strftime('%Y-%m-')+'01 01:00' if (Fechaf == None) else Fechai\n",
    "            self.Fechaf      = (pd.to_datetime(self.Fechai)+ relativedelta(months=1)-dt.timedelta(hours=1)).strftime('%Y-%m-%d %H:%M') if (Fechaf == None) else Fechaf\n",
    "            ##### Modificarlo si se cambia de pc  #####################################\n",
    "            self.Est         = pd.read_csv('Estaciones.txt',index_col=0).sort_values(by='Latitud',ascending=False)\n",
    "            self.Dropbox_path='/Users/siata/Dropbox (SIATA)/SGC_Siata_Aire/01_Gestion_Operativa/03_Registros/HojasVida_FichasTecnicas/ESTACIONES DE AIRE/'\n",
    "            ###########################################################################\n",
    "\n",
    "            self.folder={'BAR':'01_BARBOSA/','BEL':'02_BELLO/','CAL':'03_CALDAS/','COP':'04_COPACABANA/','GIR':'05_GIRARDOTA/','ITA':'06_ITAGUI/','SUR':'07_LA ESTRELLA/','EST':'07_LA ESTRELLA/','MED':'08_MEDELLIN/','CEN':'08_MEDELLIN/','SAB':'09_SABANETA/','ENV':'10_ENVIGADO/'}\n",
    "            self.nombre_tipo={'ZERO/SPAN':'CS','MULTIPUNTO':'MP','PRECISIÓN':'PR','AJUST. PREC.':'AP','VER. CERO':'VC','CERO_SPAN PREC.':'CS_PR'}\n",
    "            self.fecha_range =pd.date_range(self.Fechai,self.Fechaf,freq='M')\n",
    "            \n",
    "    def Read_Verification(self,*args,**kwargs):\n",
    "        self.var\t\t= kwargs.get('var','NOx')\n",
    "        self.tipo\t\t= kwargs.get('tipo','CS') #CS: ZERO/SPAN, 'PRE'\n",
    "\n",
    "        self.C={'CS':{},'MP':{},'PR':{},'AP':{},'VC':{},'CS_PR':{}}\n",
    "\n",
    "        analizador= 'O3(A)' if self.var=='Ozono' else 'NOX(A)' if self.var=='NOx' else 'CO(A)' if self.var=='CO' else 'SO2(A)' if self.var=='SO2' else None\n",
    "        self.estaciones=self.Est['Nombre'][self.Est[self.var]==1].values\n",
    "        for tipofile in self.C.keys():\n",
    "\n",
    "            for est in self.estaciones:\n",
    "                if (self.var in ['NOx','SO2','CO','Ozono']) and (est!='BEL-USBV'): # or (est!='BEL-USBV' and self.var=='Ozono'): # Aquí se debe agregar la regla para el CO que antes estaba en el POLI si se vuelve a intalar... or (est!='MED-PJIC' and self.var=='CO')\n",
    "                    self.C[tipofile][est]={1:{},2:{},3:{},7:{},9 if tipofile=='MP' else 9:{},10:{},11 if self.var=='NOx' else 10:{},11 if tipofile=='MP' else 12:{}}\n",
    "                else:\n",
    "                    self.C[tipofile][est]={1:{},2:{},3:{},7.1:{},7.2:{},9 if tipofile=='MP' else 10:{},11 if tipofile=='MP' else 12:{} }\n",
    "        for est in self.estaciones:\n",
    "            for date in self.fecha_range:\n",
    "                #print (date)\n",
    "                #print (est)\n",
    "                #print (self.Dropbox_path+self.folder[est[:3]]+est+'/'+analizador+'/VERIFICACIONES/'+date.strftime('%Y/%m')+'*')\n",
    "                self.foldermes=gb.glob(self.Dropbox_path+self.folder[est[:3]]+est+'/'+analizador+'/VERIFICACIONES/'+date.strftime('%Y/%m')+'*')\n",
    "                if len(self.foldermes)>0:\n",
    "                    XLS=gb.glob(self.foldermes[0]+'/F*.xlsx')\n",
    "                    #print (XLS)\n",
    "\n",
    "                    for name in XLS:\n",
    "                        print (name)\n",
    "                        self.xl = pd.ExcelFile(name)\n",
    "                        self.DF = self.xl.parse(0)"
   ]
  },
  {
   "cell_type": "code",
   "execution_count": 3,
   "id": "1ac5955f",
   "metadata": {},
   "outputs": [],
   "source": [
    "self=Air(Fechai='2021-11-01',Fechaf='2021-12-31')"
   ]
  },
  {
   "cell_type": "code",
   "execution_count": 4,
   "id": "6b3bfe8a",
   "metadata": {},
   "outputs": [
    {
     "name": "stdout",
     "output_type": "stream",
     "text": [
      "/Users/siata/Dropbox (SIATA)/SGC_Siata_Aire/01_Gestion_Operativa/03_Registros/HojasVida_FichasTecnicas/ESTACIONES DE AIRE/05_GIRARDOTA/GIR-EPM/CO(A)/VERIFICACIONES/2021/11_Noviembre/F-GAA-RA-31_GIR-EPM_CO_MP_2021-11-19.xlsx\n"
     ]
    },
    {
     "name": "stderr",
     "output_type": "stream",
     "text": [
      "/Users/siata/opt/anaconda3/lib/python3.9/site-packages/openpyxl/worksheet/_reader.py:312: UserWarning: Conditional Formatting extension is not supported and will be removed\n",
      "  warn(msg)\n"
     ]
    },
    {
     "name": "stdout",
     "output_type": "stream",
     "text": [
      "/Users/siata/Dropbox (SIATA)/SGC_Siata_Aire/01_Gestion_Operativa/03_Registros/HojasVida_FichasTecnicas/ESTACIONES DE AIRE/05_GIRARDOTA/GIR-EPM/CO(A)/VERIFICACIONES/2021/12_Diciembre/F-GAA-RA-31_GIR-EPM_CO_MP_2021-12-03.xlsx\n",
      "/Users/siata/Dropbox (SIATA)/SGC_Siata_Aire/01_Gestion_Operativa/03_Registros/HojasVida_FichasTecnicas/ESTACIONES DE AIRE/08_MEDELLIN/MED-PJIC/CO(A)/VERIFICACIONES/2021/11_NOVIEMBRE/F-GAA-RA-34_MED-PJIC_CO_CSPR_2021-11-08.xlsx\n"
     ]
    },
    {
     "name": "stderr",
     "output_type": "stream",
     "text": [
      "/Users/siata/opt/anaconda3/lib/python3.9/site-packages/openpyxl/worksheet/_reader.py:312: UserWarning: Conditional Formatting extension is not supported and will be removed\n",
      "  warn(msg)\n"
     ]
    }
   ],
   "source": [
    "VAR=(['CO', 'NOx', 'SO2', 'Ozono'])\n",
    "self.Read_Verification(var=VAR[0])"
   ]
  },
  {
   "cell_type": "code",
   "execution_count": 5,
   "id": "d988469f",
   "metadata": {},
   "outputs": [
    {
     "data": {
      "text/plain": [
       "'Versión : 8'"
      ]
     },
     "execution_count": 5,
     "metadata": {},
     "output_type": "execute_result"
    }
   ],
   "source": [
    "self.DF[self.DF.columns[9]][1]"
   ]
  },
  {
   "cell_type": "code",
   "execution_count": 6,
   "id": "0fc9619d",
   "metadata": {},
   "outputs": [],
   "source": [
    "if np.logical_not(pd.isnull(self.DF[self.DF.columns[9]][1])):\n",
    "\t\t\t\t\t\t\tversion=int(self.DF[self.DF.columns[9]][1][-1])\n",
    "self.version=version"
   ]
  },
  {
   "cell_type": "code",
   "execution_count": 7,
   "id": "0d3b6b96",
   "metadata": {},
   "outputs": [
    {
     "data": {
      "text/plain": [
       "8"
      ]
     },
     "execution_count": 7,
     "metadata": {},
     "output_type": "execute_result"
    }
   ],
   "source": [
    "self.version"
   ]
  },
  {
   "cell_type": "code",
   "execution_count": 9,
   "id": "b2ca9817",
   "metadata": {},
   "outputs": [
    {
     "name": "stdout",
     "output_type": "stream",
     "text": [
      "24\n",
      "CS_PR\n"
     ]
    }
   ],
   "source": [
    "\n",
    "dondeTipoVerificacion=np.where(self.DF['Unnamed: 1'].str.find('%d. '%4)==0)[0][0]\n",
    "tipofile=self.nombre_tipo[self.DF[self.DF.columns[2]][dondeTipoVerificacion+1]]\n",
    "print (dondeTipoVerificacion)\n",
    "print (tipofile)\n"
   ]
  },
  {
   "cell_type": "code",
   "execution_count": 10,
   "id": "c7eaa989",
   "metadata": {},
   "outputs": [],
   "source": [
    "\n",
    "numtablas= ([1,3,7] if (self.var in ['NOx','SO2','Ozono','CO'])  or (est!='BEL-USBV' and self.var=='Ozono') else ([1,7.2])) ## 9 NOx  , agregaf a la regla \"or (est!='MED-PJIC' and self.var=='CO')\" si se vuelve a instalar el CO que estaba en el pòli\n",
    "\n",
    "#numtablas= ([1,2,3,7]+([9,11] if tipofile=='MP' else [10,12] if self.var!='NOx' else [9,10,12])) if (self.var in ['NOx','SO2'])  or (est!='BEL-USBV' and self.var=='Ozono') else ([1,2,3,7.1,7.2]+([9,11] if tipofile=='MP' else [10,12])) ## 9 NOx  , agregaf a la regla \"or (est!='MED-PJIC' and self.var=='CO')\" si se vuelve a instalar el CO que estaba en el pòli\n",
    "\n"
   ]
  },
  {
   "cell_type": "code",
   "execution_count": 15,
   "id": "690b7a00",
   "metadata": {},
   "outputs": [
    {
     "name": "stdout",
     "output_type": "stream",
     "text": [
      "************+++++++++++++++++++++*************\n",
      "1\n",
      "************+++++++++++++++++++++*************\n",
      "3\n",
      "************+++++++++++++++++++++*************\n",
      "7\n"
     ]
    }
   ],
   "source": [
    "for i in numtablas:\n",
    "\n",
    "    #print ('Leo la tabla'+str(i)+' de '+tipofile)\n",
    "    if i not in [7.1,7.2]:\n",
    "        dondei=np.where(self.DF['Unnamed: 1'].str.find('%d. '%i)==0)[0]\n",
    "    else:\n",
    "        dondei=np.where(self.DF['Unnamed: 1'].str.find('%s '%i)==0)[0]\n",
    "    if len(dondei)>0:\n",
    "        dondei=dondei[0]\n",
    "        print ('************+++++++++++++++++++++*************')\n",
    "        print(i)\n",
    "        dondej= dondeTipoVerificacion if i==3 else np.where(self.DF['Unnamed: 1'].str.find('%d. '%(i+1))==0)[0][0]\n",
    "\n",
    "    elif i==7.2 and self.var!='NOx':\n",
    "        dondej= dondeTipoVerificacion if i==3 else np.where(self.DF['Unnamed: 1'].str.find('7.2 ')==0)[0][0]\n",
    "    else:\n",
    "        dondej= dondeTipoVerificacion if i==3 else np.where(self.DF['Unnamed: 1'].str.find('%d. '%(i+1))==0)[0]\n",
    "\n",
    "        dondej=dondeTipoVerificacion if i==3 else dondej[0]\n",
    "        print (dondej)\n",
    "\n"
   ]
  },
  {
   "cell_type": "code",
   "execution_count": 35,
   "id": "ceb82d57",
   "metadata": {},
   "outputs": [
    {
     "data": {
      "text/plain": [
       "5"
      ]
     },
     "execution_count": 35,
     "metadata": {},
     "output_type": "execute_result"
    }
   ],
   "source": [
    "dondei"
   ]
  },
  {
   "cell_type": "code",
   "execution_count": 34,
   "id": "d66bf4c9",
   "metadata": {},
   "outputs": [
    {
     "data": {
      "text/plain": [
       "59"
      ]
     },
     "execution_count": 34,
     "metadata": {},
     "output_type": "execute_result"
    }
   ],
   "source": [
    "dondej"
   ]
  },
  {
   "cell_type": "code",
   "execution_count": 21,
   "id": "7dcc209d",
   "metadata": {},
   "outputs": [
    {
     "name": "stderr",
     "output_type": "stream",
     "text": [
      "/Users/siata/opt/anaconda3/lib/python3.9/site-packages/openpyxl/worksheet/_reader.py:312: UserWarning: Conditional Formatting extension is not supported and will be removed\n",
      "  warn(msg)\n"
     ]
    },
    {
     "data": {
      "text/html": [
       "<div>\n",
       "<style scoped>\n",
       "    .dataframe tbody tr th:only-of-type {\n",
       "        vertical-align: middle;\n",
       "    }\n",
       "\n",
       "    .dataframe tbody tr th {\n",
       "        vertical-align: top;\n",
       "    }\n",
       "\n",
       "    .dataframe thead th {\n",
       "        text-align: right;\n",
       "    }\n",
       "</style>\n",
       "<table border=\"1\" class=\"dataframe\">\n",
       "  <thead>\n",
       "    <tr style=\"text-align: right;\">\n",
       "      <th></th>\n",
       "      <th>Unnamed: 2</th>\n",
       "      <th>Unnamed: 3</th>\n",
       "      <th>Unnamed: 4</th>\n",
       "      <th>Unnamed: 5</th>\n",
       "      <th>Unnamed: 6</th>\n",
       "      <th>Unnamed: 7</th>\n",
       "      <th>Unnamed: 8</th>\n",
       "      <th>Unnamed: 9</th>\n",
       "    </tr>\n",
       "  </thead>\n",
       "  <tbody>\n",
       "    <tr>\n",
       "      <th>0</th>\n",
       "      <td>ZERO\\nDejado</td>\n",
       "      <td>20% Precisión</td>\n",
       "      <td>+</td>\n",
       "      <td>+</td>\n",
       "      <td>80% SPAN Dejado</td>\n",
       "      <td>80% SPAN Encontrado</td>\n",
       "      <td>NaN</td>\n",
       "      <td>NaN</td>\n",
       "    </tr>\n",
       "    <tr>\n",
       "      <th>3</th>\n",
       "      <td>0</td>\n",
       "      <td>2</td>\n",
       "      <td>+</td>\n",
       "      <td>+</td>\n",
       "      <td>8</td>\n",
       "      <td>8</td>\n",
       "      <td>Calibrador Conc. Salida</td>\n",
       "      <td>NaN</td>\n",
       "    </tr>\n",
       "    <tr>\n",
       "      <th>4</th>\n",
       "      <td>0</td>\n",
       "      <td>2</td>\n",
       "      <td>+</td>\n",
       "      <td>+</td>\n",
       "      <td>8</td>\n",
       "      <td>8</td>\n",
       "      <td>Calibrador Lectura Actual / Valor Ajuste</td>\n",
       "      <td>NaN</td>\n",
       "    </tr>\n",
       "    <tr>\n",
       "      <th>5</th>\n",
       "      <td>0.025</td>\n",
       "      <td>2.09</td>\n",
       "      <td>+</td>\n",
       "      <td>+</td>\n",
       "      <td>8.01</td>\n",
       "      <td>7.7</td>\n",
       "      <td>Lectura Analizador</td>\n",
       "      <td>NaN</td>\n",
       "    </tr>\n",
       "    <tr>\n",
       "      <th>6</th>\n",
       "      <td>0.029</td>\n",
       "      <td>2.09</td>\n",
       "      <td>+</td>\n",
       "      <td>+</td>\n",
       "      <td>8.01</td>\n",
       "      <td>7.7</td>\n",
       "      <td>NaN</td>\n",
       "      <td>NaN</td>\n",
       "    </tr>\n",
       "    <tr>\n",
       "      <th>7</th>\n",
       "      <td>0.031</td>\n",
       "      <td>2.09</td>\n",
       "      <td>+</td>\n",
       "      <td>+</td>\n",
       "      <td>8.01</td>\n",
       "      <td>7.7</td>\n",
       "      <td>NaN</td>\n",
       "      <td>NaN</td>\n",
       "    </tr>\n",
       "    <tr>\n",
       "      <th>8</th>\n",
       "      <td>0.031</td>\n",
       "      <td>2.09</td>\n",
       "      <td>+</td>\n",
       "      <td>+</td>\n",
       "      <td>8.02</td>\n",
       "      <td>7.7</td>\n",
       "      <td>NaN</td>\n",
       "      <td>NaN</td>\n",
       "    </tr>\n",
       "    <tr>\n",
       "      <th>9</th>\n",
       "      <td>0.033</td>\n",
       "      <td>2.1</td>\n",
       "      <td>+</td>\n",
       "      <td>+</td>\n",
       "      <td>8.02</td>\n",
       "      <td>7.7</td>\n",
       "      <td>NaN</td>\n",
       "      <td>NaN</td>\n",
       "    </tr>\n",
       "    <tr>\n",
       "      <th>10</th>\n",
       "      <td>0.0298</td>\n",
       "      <td>2.092</td>\n",
       "      <td>+</td>\n",
       "      <td>+</td>\n",
       "      <td>8.014</td>\n",
       "      <td>7.7</td>\n",
       "      <td>Promedio</td>\n",
       "      <td>NaN</td>\n",
       "    </tr>\n",
       "    <tr>\n",
       "      <th>11</th>\n",
       "      <td>0.003033</td>\n",
       "      <td>0.004472</td>\n",
       "      <td>+</td>\n",
       "      <td>+</td>\n",
       "      <td>0.005477</td>\n",
       "      <td>0</td>\n",
       "      <td>Desviación Estandar</td>\n",
       "      <td>NaN</td>\n",
       "    </tr>\n",
       "    <tr>\n",
       "      <th>15</th>\n",
       "      <td>NaN</td>\n",
       "      <td>1</td>\n",
       "      <td>2</td>\n",
       "      <td>7</td>\n",
       "      <td>6</td>\n",
       "      <td>5</td>\n",
       "      <td>4</td>\n",
       "      <td>3</td>\n",
       "    </tr>\n",
       "    <tr>\n",
       "      <th>16</th>\n",
       "      <td>Punto de Calibración</td>\n",
       "      <td>Zero Encontrado</td>\n",
       "      <td>Zero Dejado</td>\n",
       "      <td>20% Precisión</td>\n",
       "      <td>+</td>\n",
       "      <td>+</td>\n",
       "      <td>80% SPAN Dejado</td>\n",
       "      <td>80% SPAN Encontrado</td>\n",
       "    </tr>\n",
       "    <tr>\n",
       "      <th>17</th>\n",
       "      <td>Concentración de Salida</td>\n",
       "      <td>0</td>\n",
       "      <td>0</td>\n",
       "      <td>2</td>\n",
       "      <td>+</td>\n",
       "      <td>+</td>\n",
       "      <td>8</td>\n",
       "      <td>8</td>\n",
       "    </tr>\n",
       "    <tr>\n",
       "      <th>18</th>\n",
       "      <td>Lectura</td>\n",
       "      <td>-0.4792</td>\n",
       "      <td>0.0298</td>\n",
       "      <td>2.092</td>\n",
       "      <td>+</td>\n",
       "      <td>+</td>\n",
       "      <td>8.014</td>\n",
       "      <td>7.7</td>\n",
       "    </tr>\n",
       "    <tr>\n",
       "      <th>19</th>\n",
       "      <td>Estabilidad</td>\n",
       "      <td>0.002387</td>\n",
       "      <td>0.003033</td>\n",
       "      <td>0.004472</td>\n",
       "      <td>+</td>\n",
       "      <td>+</td>\n",
       "      <td>0.005477</td>\n",
       "      <td>0</td>\n",
       "    </tr>\n",
       "  </tbody>\n",
       "</table>\n",
       "</div>"
      ],
      "text/plain": [
       "                 Unnamed: 2       Unnamed: 3   Unnamed: 4     Unnamed: 5  \\\n",
       "0              ZERO\\nDejado    20% Precisión            +              +   \n",
       "3                         0                2            +              +   \n",
       "4                         0                2            +              +   \n",
       "5                     0.025             2.09            +              +   \n",
       "6                     0.029             2.09            +              +   \n",
       "7                     0.031             2.09            +              +   \n",
       "8                     0.031             2.09            +              +   \n",
       "9                     0.033              2.1            +              +   \n",
       "10                   0.0298            2.092            +              +   \n",
       "11                 0.003033         0.004472            +              +   \n",
       "15                      NaN                1            2              7   \n",
       "16    Punto de Calibración   Zero Encontrado  Zero Dejado  20% Precisión   \n",
       "17  Concentración de Salida                0            0              2   \n",
       "18                  Lectura          -0.4792       0.0298          2.092   \n",
       "19              Estabilidad         0.002387     0.003033       0.004472   \n",
       "\n",
       "         Unnamed: 6           Unnamed: 7  \\\n",
       "0   80% SPAN Dejado  80% SPAN Encontrado   \n",
       "3                 8                    8   \n",
       "4                 8                    8   \n",
       "5              8.01                  7.7   \n",
       "6              8.01                  7.7   \n",
       "7              8.01                  7.7   \n",
       "8              8.02                  7.7   \n",
       "9              8.02                  7.7   \n",
       "10            8.014                  7.7   \n",
       "11         0.005477                    0   \n",
       "15                6                    5   \n",
       "16                +                    +   \n",
       "17                +                    +   \n",
       "18                +                    +   \n",
       "19                +                    +   \n",
       "\n",
       "                                  Unnamed: 8           Unnamed: 9  \n",
       "0                                        NaN                  NaN  \n",
       "3                    Calibrador Conc. Salida                  NaN  \n",
       "4   Calibrador Lectura Actual / Valor Ajuste                  NaN  \n",
       "5                         Lectura Analizador                  NaN  \n",
       "6                                        NaN                  NaN  \n",
       "7                                        NaN                  NaN  \n",
       "8                                        NaN                  NaN  \n",
       "9                                        NaN                  NaN  \n",
       "10                                  Promedio                  NaN  \n",
       "11                       Desviación Estandar                  NaN  \n",
       "15                                         4                    3  \n",
       "16                           80% SPAN Dejado  80% SPAN Encontrado  \n",
       "17                                         8                    8  \n",
       "18                                     8.014                  7.7  \n",
       "19                                  0.005477                    0  "
      ]
     },
     "execution_count": 21,
     "metadata": {},
     "output_type": "execute_result"
    }
   ],
   "source": [
    "self.xl.parse(0, skiprows=dondei+1,nrows=dondej-dondei-2,\\\n",
    "              header=2,usecols=np.arange(2,11))\\\n",
    "            .dropna(axis=1, how='all').dropna(axis=0, how='all')\n"
   ]
  },
  {
   "cell_type": "code",
   "execution_count": 33,
   "id": "aa38c9e5",
   "metadata": {},
   "outputs": [
    {
     "name": "stderr",
     "output_type": "stream",
     "text": [
      "/Users/siata/opt/anaconda3/lib/python3.9/site-packages/openpyxl/worksheet/_reader.py:312: UserWarning: Conditional Formatting extension is not supported and will be removed\n",
      "  warn(msg)\n"
     ]
    },
    {
     "ename": "ValueError",
     "evalue": "'nrows' must be an integer >=0",
     "output_type": "error",
     "traceback": [
      "\u001b[0;31m---------------------------------------------------------------------------\u001b[0m",
      "\u001b[0;31mValueError\u001b[0m                                Traceback (most recent call last)",
      "\u001b[0;32m/var/folders/r_/zs7g20jn0659kp2nyn_sp92r0000gn/T/ipykernel_3581/2811614377.py\u001b[0m in \u001b[0;36m<module>\u001b[0;34m\u001b[0m\n\u001b[0;32m----> 1\u001b[0;31m self.xl.parse(0, skiprows=dondei+1,nrows=dondei-dondej,\\\n\u001b[0m\u001b[1;32m      2\u001b[0m               header=0,usecols=np.arange(11)).dropna(axis=1, how='all')\\\n\u001b[1;32m      3\u001b[0m             \u001b[0;34m.\u001b[0m\u001b[0mdropna\u001b[0m\u001b[0;34m(\u001b[0m\u001b[0maxis\u001b[0m\u001b[0;34m=\u001b[0m\u001b[0;36m0\u001b[0m\u001b[0;34m,\u001b[0m \u001b[0mhow\u001b[0m\u001b[0;34m=\u001b[0m\u001b[0;34m'all'\u001b[0m\u001b[0;34m)\u001b[0m\u001b[0;34m\u001b[0m\u001b[0;34m\u001b[0m\u001b[0m\n",
      "\u001b[0;32m~/opt/anaconda3/lib/python3.9/site-packages/pandas/io/excel/_base.py\u001b[0m in \u001b[0;36mparse\u001b[0;34m(self, sheet_name, header, names, index_col, usecols, squeeze, converters, true_values, false_values, skiprows, nrows, na_values, parse_dates, date_parser, thousands, comment, skipfooter, convert_float, mangle_dupe_cols, **kwds)\u001b[0m\n\u001b[1;32m   1270\u001b[0m             \u001b[0mDataFrame\u001b[0m \u001b[0;32mfrom\u001b[0m \u001b[0mthe\u001b[0m \u001b[0mpassed\u001b[0m \u001b[0;32min\u001b[0m \u001b[0mExcel\u001b[0m \u001b[0mfile\u001b[0m\u001b[0;34m.\u001b[0m\u001b[0;34m\u001b[0m\u001b[0;34m\u001b[0m\u001b[0m\n\u001b[1;32m   1271\u001b[0m         \"\"\"\n\u001b[0;32m-> 1272\u001b[0;31m         return self._reader.parse(\n\u001b[0m\u001b[1;32m   1273\u001b[0m             \u001b[0msheet_name\u001b[0m\u001b[0;34m=\u001b[0m\u001b[0msheet_name\u001b[0m\u001b[0;34m,\u001b[0m\u001b[0;34m\u001b[0m\u001b[0;34m\u001b[0m\u001b[0m\n\u001b[1;32m   1274\u001b[0m             \u001b[0mheader\u001b[0m\u001b[0;34m=\u001b[0m\u001b[0mheader\u001b[0m\u001b[0;34m,\u001b[0m\u001b[0;34m\u001b[0m\u001b[0;34m\u001b[0m\u001b[0m\n",
      "\u001b[0;32m~/opt/anaconda3/lib/python3.9/site-packages/pandas/io/excel/_base.py\u001b[0m in \u001b[0;36mparse\u001b[0;34m(self, sheet_name, header, names, index_col, usecols, squeeze, dtype, true_values, false_values, skiprows, nrows, na_values, verbose, parse_dates, date_parser, thousands, comment, skipfooter, convert_float, mangle_dupe_cols, **kwds)\u001b[0m\n\u001b[1;32m    625\u001b[0m                 )\n\u001b[1;32m    626\u001b[0m \u001b[0;34m\u001b[0m\u001b[0m\n\u001b[0;32m--> 627\u001b[0;31m                 \u001b[0moutput\u001b[0m\u001b[0;34m[\u001b[0m\u001b[0masheetname\u001b[0m\u001b[0;34m]\u001b[0m \u001b[0;34m=\u001b[0m \u001b[0mparser\u001b[0m\u001b[0;34m.\u001b[0m\u001b[0mread\u001b[0m\u001b[0;34m(\u001b[0m\u001b[0mnrows\u001b[0m\u001b[0;34m=\u001b[0m\u001b[0mnrows\u001b[0m\u001b[0;34m)\u001b[0m\u001b[0;34m\u001b[0m\u001b[0;34m\u001b[0m\u001b[0m\n\u001b[0m\u001b[1;32m    628\u001b[0m \u001b[0;34m\u001b[0m\u001b[0m\n\u001b[1;32m    629\u001b[0m                 \u001b[0;32mif\u001b[0m \u001b[0;32mnot\u001b[0m \u001b[0msqueeze\u001b[0m \u001b[0;32mor\u001b[0m \u001b[0misinstance\u001b[0m\u001b[0;34m(\u001b[0m\u001b[0moutput\u001b[0m\u001b[0;34m[\u001b[0m\u001b[0masheetname\u001b[0m\u001b[0;34m]\u001b[0m\u001b[0;34m,\u001b[0m \u001b[0mDataFrame\u001b[0m\u001b[0;34m)\u001b[0m\u001b[0;34m:\u001b[0m\u001b[0;34m\u001b[0m\u001b[0;34m\u001b[0m\u001b[0m\n",
      "\u001b[0;32m~/opt/anaconda3/lib/python3.9/site-packages/pandas/io/parsers/readers.py\u001b[0m in \u001b[0;36mread\u001b[0;34m(self, nrows)\u001b[0m\n\u001b[1;32m   1044\u001b[0m \u001b[0;34m\u001b[0m\u001b[0m\n\u001b[1;32m   1045\u001b[0m     \u001b[0;32mdef\u001b[0m \u001b[0mread\u001b[0m\u001b[0;34m(\u001b[0m\u001b[0mself\u001b[0m\u001b[0;34m,\u001b[0m \u001b[0mnrows\u001b[0m\u001b[0;34m=\u001b[0m\u001b[0;32mNone\u001b[0m\u001b[0;34m)\u001b[0m\u001b[0;34m:\u001b[0m\u001b[0;34m\u001b[0m\u001b[0;34m\u001b[0m\u001b[0m\n\u001b[0;32m-> 1046\u001b[0;31m         \u001b[0mnrows\u001b[0m \u001b[0;34m=\u001b[0m \u001b[0mvalidate_integer\u001b[0m\u001b[0;34m(\u001b[0m\u001b[0;34m\"nrows\"\u001b[0m\u001b[0;34m,\u001b[0m \u001b[0mnrows\u001b[0m\u001b[0;34m)\u001b[0m\u001b[0;34m\u001b[0m\u001b[0;34m\u001b[0m\u001b[0m\n\u001b[0m\u001b[1;32m   1047\u001b[0m         \u001b[0mindex\u001b[0m\u001b[0;34m,\u001b[0m \u001b[0mcolumns\u001b[0m\u001b[0;34m,\u001b[0m \u001b[0mcol_dict\u001b[0m \u001b[0;34m=\u001b[0m \u001b[0mself\u001b[0m\u001b[0;34m.\u001b[0m\u001b[0m_engine\u001b[0m\u001b[0;34m.\u001b[0m\u001b[0mread\u001b[0m\u001b[0;34m(\u001b[0m\u001b[0mnrows\u001b[0m\u001b[0;34m)\u001b[0m\u001b[0;34m\u001b[0m\u001b[0;34m\u001b[0m\u001b[0m\n\u001b[1;32m   1048\u001b[0m \u001b[0;34m\u001b[0m\u001b[0m\n",
      "\u001b[0;32m~/opt/anaconda3/lib/python3.9/site-packages/pandas/io/parsers/readers.py\u001b[0m in \u001b[0;36mvalidate_integer\u001b[0;34m(name, val, min_val)\u001b[0m\n\u001b[1;32m    436\u001b[0m             \u001b[0mval\u001b[0m \u001b[0;34m=\u001b[0m \u001b[0mint\u001b[0m\u001b[0;34m(\u001b[0m\u001b[0mval\u001b[0m\u001b[0;34m)\u001b[0m\u001b[0;34m\u001b[0m\u001b[0;34m\u001b[0m\u001b[0m\n\u001b[1;32m    437\u001b[0m         \u001b[0;32melif\u001b[0m \u001b[0;32mnot\u001b[0m \u001b[0;34m(\u001b[0m\u001b[0mis_integer\u001b[0m\u001b[0;34m(\u001b[0m\u001b[0mval\u001b[0m\u001b[0;34m)\u001b[0m \u001b[0;32mand\u001b[0m \u001b[0mval\u001b[0m \u001b[0;34m>=\u001b[0m \u001b[0mmin_val\u001b[0m\u001b[0;34m)\u001b[0m\u001b[0;34m:\u001b[0m\u001b[0;34m\u001b[0m\u001b[0;34m\u001b[0m\u001b[0m\n\u001b[0;32m--> 438\u001b[0;31m             \u001b[0;32mraise\u001b[0m \u001b[0mValueError\u001b[0m\u001b[0;34m(\u001b[0m\u001b[0mmsg\u001b[0m\u001b[0;34m)\u001b[0m\u001b[0;34m\u001b[0m\u001b[0;34m\u001b[0m\u001b[0m\n\u001b[0m\u001b[1;32m    439\u001b[0m \u001b[0;34m\u001b[0m\u001b[0m\n\u001b[1;32m    440\u001b[0m     \u001b[0;32mreturn\u001b[0m \u001b[0mval\u001b[0m\u001b[0;34m\u001b[0m\u001b[0;34m\u001b[0m\u001b[0m\n",
      "\u001b[0;31mValueError\u001b[0m: 'nrows' must be an integer >=0"
     ]
    }
   ],
   "source": [
    "self.xl.parse(0, skiprows=dondei+1,nrows=dondei-dondej,\\\n",
    "              header=0,usecols=np.arange(11)).dropna(axis=1, how='all')\\\n",
    "            .dropna(axis=0, how='all')"
   ]
  },
  {
   "cell_type": "code",
   "execution_count": 23,
   "id": "4532c67d",
   "metadata": {},
   "outputs": [],
   "source": [
    "if i in [1,2,3]:\n",
    "    print ('+++++++++++++++++++++')\n",
    "    print(i)\n",
    "\n",
    "    L=self.xl.parse(0, skiprows=dondei+1,nrows=dondej-dondei,\\\n",
    "              header=0,usecols=np.arange(11)).dropna(axis=1, how='all')\\\n",
    "            .dropna(axis=0, how='all')\n",
    "else:\n",
    "\n",
    "    L= self.xl.parse(0, skiprows=dondei+1,nrows=dondej-dondei,\\\n",
    "              header=2,usecols=np.arange(2,11))\\\n",
    "            .dropna(axis=1, how='all').dropna(axis=0, how='all')\n",
    "\n",
    "    self.L=L.copy()"
   ]
  },
  {
   "cell_type": "code",
   "execution_count": 24,
   "id": "d341d980",
   "metadata": {},
   "outputs": [
    {
     "name": "stdout",
     "output_type": "stream",
     "text": [
      "[  5  93 115]\n",
      "5\n"
     ]
    }
   ],
   "source": [
    "dondei=np.where(self.DF['Unnamed: 1'].str.find('%d. '%1)==0)[0]\n",
    "print (dondei)\n",
    "if len(dondei)>0:\n",
    "    dondei=dondei[0]\n",
    "    print (dondei)"
   ]
  },
  {
   "cell_type": "code",
   "execution_count": 27,
   "id": "8cde9c1a",
   "metadata": {},
   "outputs": [],
   "source": [
    "\n",
    "temporal=pd.DataFrame(L[L.columns[:2]].values).append(L[L.columns[2:4]].values.tolist(),ignore_index=True)\n",
    "temporal[0][7] = temporal[1][7]\n",
    "temporal[1][7] = str(L[L.columns[4:]].values[2][0])[:10]\n",
    "temporal = temporal.dropna()\n",
    "temporal=temporal.set_index(0)"
   ]
  },
  {
   "cell_type": "code",
   "execution_count": 31,
   "id": "6774303f",
   "metadata": {},
   "outputs": [
    {
     "name": "stdout",
     "output_type": "stream",
     "text": [
      "8\n"
     ]
    }
   ],
   "source": [
    "fecha= str(L[L.columns[4:]].values[2][0])[:10]\n",
    "print(fecha)"
   ]
  },
  {
   "cell_type": "code",
   "execution_count": 29,
   "id": "4be97a9c",
   "metadata": {},
   "outputs": [
    {
     "ename": "NameError",
     "evalue": "name 'fecha' is not defined",
     "output_type": "error",
     "traceback": [
      "\u001b[0;31m---------------------------------------------------------------------------\u001b[0m",
      "\u001b[0;31mNameError\u001b[0m                                 Traceback (most recent call last)",
      "\u001b[0;32m/var/folders/r_/zs7g20jn0659kp2nyn_sp92r0000gn/T/ipykernel_3581/2524922705.py\u001b[0m in \u001b[0;36m<module>\u001b[0;34m\u001b[0m\n\u001b[1;32m     21\u001b[0m     \u001b[0;32melse\u001b[0m\u001b[0;34m:\u001b[0m\u001b[0;34m\u001b[0m\u001b[0;34m\u001b[0m\u001b[0m\n\u001b[1;32m     22\u001b[0m         \u001b[0mtemporal1\u001b[0m\u001b[0;34m=\u001b[0m\u001b[0mpd\u001b[0m\u001b[0;34m.\u001b[0m\u001b[0mDataFrame\u001b[0m\u001b[0;34m(\u001b[0m\u001b[0mself\u001b[0m\u001b[0;34m.\u001b[0m\u001b[0mL\u001b[0m\u001b[0;34m[\u001b[0m\u001b[0mself\u001b[0m\u001b[0;34m.\u001b[0m\u001b[0mL\u001b[0m\u001b[0;34m.\u001b[0m\u001b[0mcolumns\u001b[0m\u001b[0;34m[\u001b[0m\u001b[0;36m6\u001b[0m\u001b[0;34m:\u001b[0m\u001b[0;36m8\u001b[0m\u001b[0;34m]\u001b[0m\u001b[0;34m]\u001b[0m\u001b[0;34m.\u001b[0m\u001b[0mdropna\u001b[0m\u001b[0;34m(\u001b[0m\u001b[0;34m)\u001b[0m\u001b[0;34m.\u001b[0m\u001b[0mvalues\u001b[0m\u001b[0;34m)\u001b[0m\u001b[0;34m\u001b[0m\u001b[0;34m\u001b[0m\u001b[0m\n\u001b[0;32m---> 23\u001b[0;31m     \u001b[0mtemporal1\u001b[0m\u001b[0;34m=\u001b[0m\u001b[0mtemporal1\u001b[0m\u001b[0;34m.\u001b[0m\u001b[0mrename\u001b[0m\u001b[0;34m(\u001b[0m\u001b[0;34m{\u001b[0m\u001b[0;36m1\u001b[0m\u001b[0;34m:\u001b[0m\u001b[0mfecha\u001b[0m\u001b[0;34m}\u001b[0m\u001b[0;34m)\u001b[0m\u001b[0;34m\u001b[0m\u001b[0;34m\u001b[0m\u001b[0m\n\u001b[0m\u001b[1;32m     24\u001b[0m     \u001b[0mself\u001b[0m\u001b[0;34m.\u001b[0m\u001b[0mtemporal1\u001b[0m\u001b[0;34m=\u001b[0m\u001b[0mtemporal1\u001b[0m\u001b[0;34m\u001b[0m\u001b[0;34m\u001b[0m\u001b[0m\n\u001b[1;32m     25\u001b[0m     \u001b[0mtemporal1\u001b[0m\u001b[0;34m=\u001b[0m\u001b[0mtemporal1\u001b[0m\u001b[0;34m.\u001b[0m\u001b[0mset_index\u001b[0m\u001b[0;34m(\u001b[0m\u001b[0;36m0\u001b[0m\u001b[0;34m)\u001b[0m\u001b[0;34m\u001b[0m\u001b[0;34m\u001b[0m\u001b[0m\n",
      "\u001b[0;31mNameError\u001b[0m: name 'fecha' is not defined"
     ]
    }
   ],
   "source": [
    "temporal=L[L.index==(2 if self.var=='NOx' else 1)][L.columns[:8 if version>=9 or self.var!='NOx' else 6]]\n",
    "#print(\"soy temporal\")\n",
    "#print (temporal)\n",
    "\n",
    "if version>=9 or self.var!='NOx':\n",
    "    temporal=pd.DataFrame(temporal[temporal.columns[:2]].values).append(temporal[temporal.columns[2:4]].values.tolist(),ignore_index=True).append(temporal[temporal.columns[4:6]].values.tolist(),ignore_index=True).append(temporal[temporal.columns[6:8]].values.tolist(),ignore_index=True)\n",
    "else:\n",
    "    temporal=pd.DataFrame(temporal[temporal.columns[:2]].values).append(temporal[temporal.columns[2:4]].values.tolist(),ignore_index=True).append(temporal[temporal.columns[4:6]].values.tolist(),ignore_index=True)\n",
    "\n",
    "temporal2=L[L.index==(5 if self.var=='NOx' else 3)][L.columns[:8 if version>=9 or self.var!='NOx' else 6]]\n",
    "if version>=9 or self.var!='NOx':\n",
    "    temporal2=pd.DataFrame(temporal2[temporal2.columns[:2]].values).append(temporal2[temporal2.columns[2:4]].values.tolist(),ignore_index=True).append(temporal2[temporal2.columns[4:6]].values.tolist(),ignore_index=True).append(temporal2[temporal2.columns[6:8]].values.tolist(),ignore_index=True)\n",
    "else:\n",
    "    temporal2=pd.DataFrame(temporal2[temporal2.columns[:2]].values).append(temporal2[temporal2.columns[2:4]].values.tolist(),ignore_index=True).append(temporal2[temporal2.columns[4:6]].values.tolist(),ignore_index=True)\n",
    "if self.var!='Ozono':\n",
    "    if version>=9 and self.var=='CO':\n",
    "        temporal1= self.L[self.L.index==(5 if self.var=='NOx' else 5)][self.L.columns[:8 if self.version>=9 or self.var!='NOx' else 6]]\n",
    "        temporal1= pd.DataFrame(temporal1[temporal1.columns[:2]].values).append(temporal1[temporal1.columns[2:4]].values.tolist(),ignore_index=True).append(temporal1[temporal1.columns[4:6]].values.tolist(),ignore_index=True).append(temporal1[temporal1.columns[6:8]].values.tolist(),ignore_index=True)\n",
    "    elif version>=9 or self.var!='NOx':\n",
    "        temporal1=pd.DataFrame(self.L[self.L.columns[8:10]].dropna().values)\n",
    "    else:\n",
    "        temporal1=pd.DataFrame(self.L[self.L.columns[6:8]].dropna().values)\n",
    "    temporal1=temporal1.rename({1:fecha})\n",
    "    self.temporal1=temporal1\n",
    "    temporal1=temporal1.set_index(0)"
   ]
  },
  {
   "cell_type": "code",
   "execution_count": null,
   "id": "81438269",
   "metadata": {},
   "outputs": [],
   "source": []
  },
  {
   "cell_type": "code",
   "execution_count": 32,
   "id": "97f04641",
   "metadata": {},
   "outputs": [
    {
     "data": {
      "text/plain": [
       "'CS_PR'"
      ]
     },
     "execution_count": 32,
     "metadata": {},
     "output_type": "execute_result"
    }
   ],
   "source": [
    "self.nombre_tipo[self.DF[self.DF.columns[2]][dondeTipoVerificacion+1]]\n"
   ]
  },
  {
   "cell_type": "code",
   "execution_count": null,
   "id": "99f58437",
   "metadata": {},
   "outputs": [],
   "source": [
    "def Read_Verification(self,*args,**kwargs):\n",
    "\t\tself.var\t\t= kwargs.get('var','NOx')\n",
    "\t\tself.tipo\t\t= kwargs.get('tipo','CS') #CS: ZERO/SPAN, 'PRE'\n",
    "\n",
    "\t\tself.C={'CS':{},'MP':{},'PR':{},'AP':{},'VC':{},'CS_PR':{}}\n",
    "\n",
    "\t\tanalizador= 'O3(A)' if self.var=='Ozono' else 'NOX(A)' if self.var=='NOx' else 'CO(A)' if self.var=='CO' else 'SO2(A)' if self.var=='SO2' else None\n",
    "\t\tself.estaciones=self.Est['Nombre'][self.Est[self.var]==1].values\n",
    "\t\tfor tipofile in self.C.keys():\n",
    "\n",
    "\t\t\tfor est in self.estaciones:\n",
    "\t\t\t\tif (self.var in ['NOx','SO2','CO','Ozono']) and (est!='BEL-USBV'): # or (est!='BEL-USBV' and self.var=='Ozono'): # Aquí se debe agregar la regla para el CO que antes estaba en el POLI si se vuelve a intalar... or (est!='MED-PJIC' and self.var=='CO')\n",
    "\t\t\t\t\tself.C[tipofile][est]={1:{},2:{},3:{},7:{},9 if tipofile=='MP' else 9:{},10:{},11 if self.var=='NOx' else 10:{},11 if tipofile=='MP' else 12:{}}\n",
    "\t\t\t\telse:\n",
    "\t\t\t\t\tself.C[tipofile][est]={1:{},2:{},3:{},7.1:{},7.2:{},9 if tipofile=='MP' else 10:{},11 if tipofile=='MP' else 12:{} }\n",
    "\t\tfor est in self.estaciones:\n",
    "\t\t\tfor date in self.fecha_range:\n",
    "\t\t\t\t#print (date)\n",
    "\t\t\t\t#print (est)\n",
    "\t\t\t\t#print (self.Dropbox_path+self.folder[est[:3]]+est+'/'+analizador+'/VERIFICACIONES/'+date.strftime('%Y/%m')+'*')\n",
    "\t\t\t\tself.foldermes=gb.glob(self.Dropbox_path+self.folder[est[:3]]+est+'/'+analizador+'/VERIFICACIONES/'+date.strftime('%Y/%m')+'*')\n",
    "\t\t\t\tif len(self.foldermes)>0:\n",
    "\t\t\t\t\tXLS=gb.glob(self.foldermes[0]+'/F*.xlsx')\n",
    "\t\t\t\t\t#print (XLS)\n",
    "\n",
    "\t\t\t\t\tfor name in XLS:\n",
    "\t\t\t\t\t\tprint (name)\n",
    "\t\t\t\t\t\tself.xl = pd.ExcelFile(name)\n",
    "\t\t\t\t\t\tself.DF = self.xl.parse(0)\n",
    "\n",
    "\t\t\t\t\t\tif np.logical_not(pd.isnull(self.DF[self.DF.columns[8]][1])):\n",
    "\t\t\t\t\t\t\tversion=int(self.DF[self.DF.columns[8]][1][-1])\n",
    "\t\t\t\t\t\telif np.logical_not(pd.isnull(self.DF[self.DF.columns[8]][0])):\n",
    "\t\t\t\t\t\t\tversion=int(self.DF[self.DF.columns[8]][0][-1])\n",
    "\t\t\t\t\t\telif np.logical_not(pd.isnull(self.DF[self.DF.columns[9]][1])):\n",
    "\t\t\t\t\t\t\tversion=int(self.DF[self.DF.columns[9]][1][-1])\n",
    "\t\t\t\t\t\telif np.logical_not(pd.isnull(self.DF[self.DF.columns[10]][1])):\n",
    "\t\t\t\t\t\t\tversion=int(self.DF[self.DF.columns[10]][1][-1])\n",
    "\t\t\t\t\t\tself.version=version\n",
    "\n",
    "\t\t\t\t\t\tdondej=np.where(self.DF['Unnamed: 1'].str.find('%d. '%(4+1))==0)[0][0]\n",
    "\n",
    "\t\t\t\t\t\ttry:\n",
    "\t\t\t\t\t\t\tdondei4=np.where(self.DF['Unnamed: 1'].str.find('%d. '%4)==0)[0][0]\n",
    "\t\t\t\t\t\t\tif pd.isnull(self.DF[self.DF.columns[2]][dondei4+1]):\n",
    "\t\t\t\t\t\t\t\ttipofile=self.nombre_tipo[self.DF[self.DF.columns[3]][dondei4+1]]\n",
    "\t\t\t\t\t\t\telse:\n",
    "\t\t\t\t\t\t\t\ttipofile=self.nombre_tipo[self.DF[self.DF.columns[2]][dondei4+1]]\n",
    "\t\t\t\t\t\texcept:\n",
    "\t\t\t\t\t\t\tdondei4=np.where(self.DF['Unnamed: 1'].str.find('Seleccionar')==0)[0][0]\n",
    "\t\t\t\t\t\t\ttipofile=self.nombre_tipo[self.DF[self.DF.columns[3]][dondei4]]\n",
    "\t\t\t\t\t\tnumtablas= ([1,2,3,7]+([9,11] if tipofile=='MP' else [10,12] if self.var!='NOx' else [9,10,12])) if (self.var in ['NOx','SO2'])  or (est!='BEL-USBV' and self.var=='Ozono') else ([1,2,3,7.1,7.2]+([9,11] if tipofile=='MP' else [10,12])) ## 9 NOx  , agregaf a la regla \"or (est!='MED-PJIC' and self.var=='CO')\" si se vuelve a instalar el CO que estaba en el pòli\n",
    "\t\t\t\t\t\tfor i in numtablas:\n",
    "\n",
    "\t\t\t\t\t\t\t#print ('Leo la tabla'+str(i)+' de '+tipofile)\n",
    "\t\t\t\t\t\t\tif i not in [7.1,7.2]:\n",
    "\t\t\t\t\t\t\t\tdondei=np.where(self.DF['Unnamed: 1'].str.find('%d. '%i)==0)[0]\n",
    "\t\t\t\t\t\t\t\tif i==11 and len(np.where(self.DF['Unnamed: 1'].str.find('11. OBS')==0)[0]>0):\n",
    "\t\t\t\t\t\t\t\t\tdondei=[]\n",
    "\t\t\t\t\t\t\telse:\n",
    "\t\t\t\t\t\t\t\tdondei=np.where(self.DF['Unnamed: 1'].str.find('%s '%i)==0)[0]\n",
    "\t\t\t\t\t\t\tif len(dondei)>0:\n",
    "\t\t\t\t\t\t\t\tdondei=dondei[0]\n",
    "\t\t\t\t\t\t\t\tprint ('************+++++++++++++++++++++*************')\n",
    "\t\t\t\t\t\t\t\tprint(i)\n",
    "\t\t\t\t\t\t\t\t#dondej= dondei4 if i==3 else np.where(self.DF['Unnamed: 1'].str.find('%d. '%(i+1))==0)[0][0]\n",
    "\t\t\t\t\t\t\t\tif i==11:\n",
    "\t\t\t\t\t\t\t\t\tdondej=68+np.where(self.DF['Unnamed: 1'][70:].str.find('Zero')==0)[0][0]\n",
    "\t\t\t\t\t\t\t\t\tdondej11= dondei4 if i==3 else np.where(self.DF['Unnamed: 1'].str.find('%d. '%(i+1))==0)[0][0]\n",
    "\t\t\t\t\t\t\t\telif i==9 and self.var!='NOx':\n",
    "\t\t\t\t\t\t\t\t\tdondej=(dondei-2)+np.where(self.DF['Unnamed: 1'][dondei:].str.find('Zero')==0)[0][0]\n",
    "\t\t\t\t\t\t\t\t\tdondej9= np.where(self.DF['Unnamed: 1'].str.find('%d. '%(i+1 if i!=10 else i+3))==0)[0][0]\n",
    "\n",
    "\n",
    "\t\t\t\t\t\t\t\telif i==7.1 and self.var!='NOx':\n",
    "\t\t\t\t\t\t\t\t\tdondej= dondei4 if i==3 else np.where(self.DF['Unnamed: 1'].str.find('7.2 ')==0)[0][0]\n",
    "\t\t\t\t\t\t\t\telse:\n",
    "\t\t\t\t\t\t\t\t\tdondej= dondei4 if i==3 else np.where(self.DF['Unnamed: 1'].str.find('%d. '%(i+1))==0)[0]\n",
    "\t\t\t\t\t\t\t\t\tif  i==10 and (len(dondej)==0):\n",
    "\t\t\t\t\t\t\t\t\t\t\tdondej= dondei4 if i==3 else np.where(self.DF['Unnamed: 1'].str.find('%d. '%(i+3))==0)[0]\n",
    "\t\t\t\t\t\t\t\t\tif  i==10 and (len(dondej)==0):\n",
    "\t\t\t\t\t\t\t\t\t\t\tdondej= np.where(self.DF['Unnamed: 1'].str.find('Observaciones')==0)[0]\n",
    "\t\t\t\t\t\t\t\t\tprint (\"______dondej_____\")\n",
    "\t\t\t\t\t\t\t\t\tprint (dondej)\n",
    "\t\t\t\t\t\t\t\t\tprint (\"______dondei4_____\")\n",
    "\t\t\t\t\t\t\t\t\tprint (dondei4)\n",
    "\t\t\t\t\t\t\t\t\tdondej=dondei4 if i==3 else dondej[0]\n",
    "\t\t\t\t\t\t\t\t\tprint (dondej)\n",
    "\n",
    "\t\t\t\t\t\t\t\tif i in [1,2,3]:\n",
    "\t\t\t\t\t\t\t\t\tprint ('+++++++++++++++++++++')\n",
    "\t\t\t\t\t\t\t\t\tprint(i)\n",
    "\n",
    "\t\t\t\t\t\t\t\t\tL=self.xl.parse(0, skiprows=dondei+1,nrows=dondej-dondei-2,header=0,usecols=np.arange(11)).dropna(axis=1, how='all').dropna(axis=0, how='all')\n",
    "\n",
    "\t\t\t\t\t\t\t\telse:\n",
    "\n",
    "\t\t\t\t\t\t\t\t\tL=self.xl.parse(0, skiprows=dondei+1,nrows=dondej-dondei-(4 if i==7.1 else 2),header=2 if i in [7,7.2] else 1,usecols=np.arange(2 if i in [7,7.2] or (i==9 and self.var=='NOx') else 1,11)).dropna(axis=1, how='all').dropna(axis=0, how='all')\n",
    "\n",
    "\t\t\t\t\t\t\t\tself.L=L.copy()\n",
    "\t\t\t\t\t\t\t\t#print (self.L)\n",
    "\t\t\t\t\t\t\t\tif i==1:\n",
    "\t\t\t\t\t\t\t\t\ttemporal=pd.DataFrame(L[L.columns[:2]].values).append(L[L.columns[2:4]].values.tolist(),ignore_index=True)\n",
    "\t\t\t\t\t\t\t\t\ttemporal[0][7] = temporal[1][7]\n",
    "\t\t\t\t\t\t\t\t\ttemporal[1][7] = str(L[L.columns[4:]].values[2][0])[:10]\n",
    "\t\t\t\t\t\t\t\t\ttemporal = temporal.dropna()\n",
    "\t\t\t\t\t\t\t\t\ttemporal=temporal.set_index(0)\n",
    "\n",
    "\t\t\t\t\t\t\t\telif i==2:\n",
    "\t\t\t\t\t\t\t\t\ttemporal=pd.DataFrame(L[L.columns[:2]].values).append(L[L.columns[2:4]].values.tolist(),ignore_index=True).append(L[L.columns[4:]].values.tolist(),ignore_index=True)\n",
    "\t\t\t\t\t\t\t\t\ttemporal = temporal.dropna()\n",
    "\t\t\t\t\t\t\t\t\ttemporal=temporal.rename({1:fecha})\n",
    "\n",
    "\t\t\t\t\t\t\t\t\ttemporal=temporal.set_index(0)\n",
    "\n",
    "\t\t\t\t\t\t\t\telif i==3:\n",
    "\n",
    "\t\t\t\t\t\t\t\t\ttemporal=L[L.index==(2 if self.var=='NOx' else 1)][L.columns[:8 if version>=9 or self.var!='NOx' else 6]]\n",
    "\t\t\t\t\t\t\t\t\t#print(\"soy temporal\")\n",
    "\t\t\t\t\t\t\t\t\t#print (temporal)\n",
    "\n",
    "\t\t\t\t\t\t\t\t\tif version>=9 or self.var!='NOx':\n",
    "\t\t\t\t\t\t\t\t\t\ttemporal=pd.DataFrame(temporal[temporal.columns[:2]].values).append(temporal[temporal.columns[2:4]].values.tolist(),ignore_index=True).append(temporal[temporal.columns[4:6]].values.tolist(),ignore_index=True).append(temporal[temporal.columns[6:8]].values.tolist(),ignore_index=True)\n",
    "\t\t\t\t\t\t\t\t\telse:\n",
    "\t\t\t\t\t\t\t\t\t\ttemporal=pd.DataFrame(temporal[temporal.columns[:2]].values).append(temporal[temporal.columns[2:4]].values.tolist(),ignore_index=True).append(temporal[temporal.columns[4:6]].values.tolist(),ignore_index=True)\n",
    "\n",
    "\t\t\t\t\t\t\t\t\ttemporal2=L[L.index==(5 if self.var=='NOx' else 3)][L.columns[:8 if version>=9 or self.var!='NOx' else 6]]\n",
    "\t\t\t\t\t\t\t\t\tif version>=9 or self.var!='NOx':\n",
    "\t\t\t\t\t\t\t\t\t\ttemporal2=pd.DataFrame(temporal2[temporal2.columns[:2]].values).append(temporal2[temporal2.columns[2:4]].values.tolist(),ignore_index=True).append(temporal2[temporal2.columns[4:6]].values.tolist(),ignore_index=True).append(temporal2[temporal2.columns[6:8]].values.tolist(),ignore_index=True)\n",
    "\t\t\t\t\t\t\t\t\telse:\n",
    "\t\t\t\t\t\t\t\t\t\ttemporal2=pd.DataFrame(temporal2[temporal2.columns[:2]].values).append(temporal2[temporal2.columns[2:4]].values.tolist(),ignore_index=True).append(temporal2[temporal2.columns[4:6]].values.tolist(),ignore_index=True)\n",
    "\t\t\t\t\t\t\t\t\tif self.var!='Ozono':\n",
    "\t\t\t\t\t\t\t\t\t\tif version>=9 and self.var=='CO':\n",
    "\t\t\t\t\t\t\t\t\t\t\ttemporal1= self.L[self.L.index==(5 if self.var=='NOx' else 5)][self.L.columns[:8 if self.version>=9 or self.var!='NOx' else 6]]\n",
    "\t\t\t\t\t\t\t\t\t\t\ttemporal1= pd.DataFrame(temporal1[temporal1.columns[:2]].values).append(temporal1[temporal1.columns[2:4]].values.tolist(),ignore_index=True).append(temporal1[temporal1.columns[4:6]].values.tolist(),ignore_index=True).append(temporal1[temporal1.columns[6:8]].values.tolist(),ignore_index=True)\n",
    "\t\t\t\t\t\t\t\t\t\telif version>=9 or self.var!='NOx':\n",
    "\t\t\t\t\t\t\t\t\t\t\ttemporal1=pd.DataFrame(self.L[self.L.columns[8:10]].dropna().values)\n",
    "\t\t\t\t\t\t\t\t\t\telse:\n",
    "\t\t\t\t\t\t\t\t\t\t\ttemporal1=pd.DataFrame(self.L[self.L.columns[6:8]].dropna().values)\n",
    "\t\t\t\t\t\t\t\t\t\ttemporal1=temporal1.rename({1:fecha})\n",
    "\t\t\t\t\t\t\t\t\t\tself.temporal1=temporal1\n",
    "\t\t\t\t\t\t\t\t\t\ttemporal1=temporal1.set_index(0)\n",
    "\n",
    "\n",
    "\t\t\t\t\t\t\t\tif i in [7.2,9,10]:#[7,7.2,9,10]\n",
    "\t\t\t\t\t\t\t\t\tL=(L[L.columns[:4]]) if self.var!='NOx' else (L[L.columns[:8]])\n",
    "\n",
    "\n",
    "\t\t\t\t\t\t\t\tif i in [7.1,7.2,7,9,10,11,12]:\n",
    "\t\t\t\t\t\t\t\t\tL=L.set_index(L.columns[-1 if i==7.1 else 0])\n",
    "\t\t\t\t\t\t\t\t\ttemporal=L.stack()\n",
    "\t\t\t\t\t\t\t\t\ttemporal=pd.DataFrame({fecha:temporal})\n",
    "\n",
    "\t\t\t\t\t\t\t\tif i==9 and self.var!='NOx':\n",
    "\t\t\t\t\t\t\t\t\tL=self.xl.parse(0, skiprows=dondej+1,nrows=dondej9-dondej-2,header=0,usecols=np.arange(1,11)).dropna(axis=1, how='all').dropna(axis=0, how='all')\n",
    "\t\t\t\t\t\t\t\t\tL=L.set_index(L.columns[0])\n",
    "\t\t\t\t\t\t\t\t\ttemporal1=L.stack()\n",
    "\t\t\t\t\t\t\t\t\ttemporal1=pd.DataFrame({fecha:temporal1})\n",
    "\t\t\t\t\t\t\t\tif i ==11:\n",
    "\t\t\t\t\t\t\t\t\tL=self.xl.parse(0, skiprows=dondej+1,nrows=dondej11-dondej-2,header=0,usecols=np.arange(1,11)).dropna(axis=1, how='all').dropna(axis=0, how='all')\n",
    "\t\t\t\t\t\t\t\t\tL=L.set_index(L.columns[0])\n",
    "\t\t\t\t\t\t\t\t\ttemporal1=L.stack()\n",
    "\t\t\t\t\t\t\t\t\ttemporal1=pd.DataFrame({fecha:temporal1})\n",
    "\t\t\t\t\t\t\t\tself.temporal=temporal\n",
    "\t\t\t\t\t\t\t\tif len(self.C[tipofile][est][i])==0:\n",
    "\t\t\t\t\t\t\t\t\ttemporal[(temporal=='---')|(temporal=='+')]=np.nan\n",
    "\t\t\t\t\t\t\t\t\tif i==1:\n",
    "\n",
    "\t\t\t\t\t\t\t\t\t\tfecha= str(L[L.columns[4:]].values[2][0])[:10]\n",
    "\n",
    "\t\t\t\t\t\t\t\t\tif i in [1,2]:\n",
    "\n",
    "\t\t\t\t\t\t\t\t\t\tself.C[tipofile][est][i]=temporal.T\n",
    "\t\t\t\t\t\t\t\t\tif i ==3:\n",
    "\t\t\t\t\t\t\t\t\t\t#print (fecha)\n",
    "\t\t\t\t\t\t\t\t\t\ttemporal2[(temporal2=='---')|(temporal2=='+')]=np.nan\n",
    "\t\t\t\t\t\t\t\t\t\ttemporal.index=temporal[0]\n",
    "\t\t\t\t\t\t\t\t\t\ttemporal=temporal.drop(columns=[0])\n",
    "\t\t\t\t\t\t\t\t\t\ttemporal=temporal.rename({1:fecha})\n",
    "\t\t\t\t\t\t\t\t\t\ttemporal2.index=temporal2[0]\n",
    "\t\t\t\t\t\t\t\t\t\ttemporal2=temporal2.drop(columns=[0])\n",
    "\t\t\t\t\t\t\t\t\t\ttemporal2=temporal2.rename({1:fecha})\n",
    "\t\t\t\t\t\t\t\t\t\tself.C[tipofile][est][i]={}\n",
    "\t\t\t\t\t\t\t\t\t\tself.C[tipofile][est][i]['Calibrador D']=temporal.T\n",
    "\t\t\t\t\t\t\t\t\t\tself.C[tipofile][est][i]['Generador AC']=temporal2.T\n",
    "\t\t\t\t\t\t\t\t\t\tif self.var!='Ozono':\n",
    "\t\t\t\t\t\t\t\t\t\t\ttemporal1[(temporal1=='---')|(temporal1=='+')]=np.nan\n",
    "\t\t\t\t\t\t\t\t\t\t\tself.C[tipofile][est][i]['Cilindro G']=temporal1.T\n",
    "\t\t\t\t\t\t\t\t\tif i == 11:\n",
    "\t\t\t\t\t\t\t\t\t\tself.C[tipofile][est][i]={}\n",
    "\t\t\t\t\t\t\t\t\t\ttemporal1[(temporal1=='---')|(temporal1=='+')]=np.nan\n",
    "\t\t\t\t\t\t\t\t\t\tself.C[tipofile][est][i]['calibration']=temporal\n",
    "\t\t\t\t\t\t\t\t\t\tself.C[tipofile][est][i]['zero']=temporal1\n",
    "\t\t\t\t\t\t\t\t\tif (i == 9) and self.var!='NOx':\n",
    "\t\t\t\t\t\t\t\t\t\tself.C[tipofile][est][i]={}\n",
    "\t\t\t\t\t\t\t\t\t\ttemporal1[(temporal1=='---')|(temporal1=='+')]=np.nan\n",
    "\t\t\t\t\t\t\t\t\t\tself.C[tipofile][est][i]['punto']=temporal\n",
    "\t\t\t\t\t\t\t\t\t\tself.C[tipofile][est][i]['zero']=temporal1\n",
    "\t\t\t\t\t\t\t\t\tif i in [7,7.1,7.2,10,12] or (i==9 and self.var=='NOx'):\n",
    "\n",
    "\t\t\t\t\t\t\t\t\t\tself.C[tipofile][est][i]=temporal\n",
    "\t\t\t\t\t\t\t\telse:\n",
    "\t\t\t\t\t\t\t\t\ttemporal[(temporal=='---')|(temporal=='+')]=np.nan\n",
    "\t\t\t\t\t\t\t\t\tif i==1:\n",
    "\t\t\t\t\t\t\t\t\t\tfecha= str(L[L.columns[4:]].values[2][0])[:10]\n",
    "\t\t\t\t\t\t\t\t\tif i in [1,2]:\n",
    "\t\t\t\t\t\t\t\t\t\tself.C[tipofile][est][i]=self.C[tipofile][est][i].append(temporal.T)\n",
    "\t\t\t\t\t\t\t\t\tif i ==3:\n",
    "\n",
    "\t\t\t\t\t\t\t\t\t\ttemporal2[(temporal2=='---')|(temporal2=='+')]=np.nan\n",
    "\t\t\t\t\t\t\t\t\t\ttemporal.index=temporal[0]\n",
    "\t\t\t\t\t\t\t\t\t\ttemporal=temporal.drop(columns=[0])\n",
    "\t\t\t\t\t\t\t\t\t\ttemporal=temporal.rename({1:fecha})\n",
    "\t\t\t\t\t\t\t\t\t\ttemporal2.index=temporal2[0]\n",
    "\t\t\t\t\t\t\t\t\t\ttemporal2=temporal2.drop(columns=[0])\n",
    "\t\t\t\t\t\t\t\t\t\ttemporal2=temporal2.rename({1:fecha})\n",
    "\t\t\t\t\t\t\t\t\t\tself.C[tipofile][est][i]['Calibrador D']=self.C[tipofile][est][i]['Calibrador D'].append(temporal.T)\n",
    "\t\t\t\t\t\t\t\t\t\tself.C[tipofile][est][i]['Generador AC']=self.C[tipofile][est][i]['Generador AC'].append(temporal2.T)\n",
    "\t\t\t\t\t\t\t\t\t\tif self.var!='Ozono':\n",
    "\t\t\t\t\t\t\t\t\t\t\ttemporal1[(temporal1=='---')|(temporal1=='+')]=np.nan\n",
    "\t\t\t\t\t\t\t\t\t\t\t#print(temporal1)\n",
    "\t\t\t\t\t\t\t\t\t\t\t#print(tipofile)\n",
    "\t\t\t\t\t\t\t\t\t\t\tself.C[tipofile][est][i]['Cilindro G']=self.C[tipofile][est][i]['Cilindro G'].append(temporal1.T)\n",
    "\t\t\t\t\t\t\t\t\tif i==11:\n",
    "\t\t\t\t\t\t\t\t\t\ttemporal1[(temporal1=='---')|(temporal1=='+')]=np.nan\n",
    "\t\t\t\t\t\t\t\t\t\tself.C[tipofile][est][i]['calibration']=pd.concat([self.C[tipofile][est][i]['calibration'],temporal],axis=1)\n",
    "\t\t\t\t\t\t\t\t\t\tself.C[tipofile][est][i]['zero']=pd.concat([self.C[tipofile][est][i]['zero'],temporal1],axis=1)\n",
    "\t\t\t\t\t\t\t\t\tif i==9 and self.var!='NOx':\n",
    "\t\t\t\t\t\t\t\t\t\ttemporal1[(temporal1=='---')|(temporal1=='+')]=np.nan\n",
    "\t\t\t\t\t\t\t\t\t\tself.C[tipofile][est][i]['punto']=pd.concat([self.C[tipofile][est][i]['punto'],temporal],axis=1)\n",
    "\t\t\t\t\t\t\t\t\t\tself.C[tipofile][est][i]['zero']=pd.concat([self.C[tipofile][est][i]['zero'],temporal1],axis=1)\n",
    "\t\t\t\t\t\t\t\t\tif i in [7.1,7.2,7,10,12] or (i==9 and self.var=='NOx'):\n",
    "\t\t\t\t\t\t\t\t\t\tself.temporal=temporal\n",
    "\t\t\t\t\t\t\t\t\t\t#print (i)\n",
    "\t\t\t\t\t\t\t\t\t\tself.C[tipofile][est][i]=pd.concat([self.C[tipofile][est][i],temporal],axis=1)\n"
   ]
  },
  {
   "cell_type": "code",
   "execution_count": null,
   "id": "360c9584",
   "metadata": {},
   "outputs": [],
   "source": []
  }
 ],
 "metadata": {
  "kernelspec": {
   "display_name": "Python 3 (ipykernel)",
   "language": "python",
   "name": "python3"
  },
  "language_info": {
   "codemirror_mode": {
    "name": "ipython",
    "version": 3
   },
   "file_extension": ".py",
   "mimetype": "text/x-python",
   "name": "python",
   "nbconvert_exporter": "python",
   "pygments_lexer": "ipython3",
   "version": "3.9.7"
  }
 },
 "nbformat": 4,
 "nbformat_minor": 5
}
