{
 "cells": [
  {
   "cell_type": "code",
   "execution_count": 6,
   "id": "0fcb2f06",
   "metadata": {},
   "outputs": [],
   "source": [
    "#!/usr/bin/env python\n",
    "#-- coding: utf-8 --\n",
    "import matplotlib\n",
    "%matplotlib inline\n",
    "import matplotlib.pyplot as plt \n",
    "import matplotlib.dates as mdates\n",
    "import datetime\n",
    "import pandas as pd\n",
    "import numpy as np\n",
    "import messages\n",
    "from importlib import reload\n",
    "import pandas as pd\n",
    "import glob as gb\n",
    "import numpy as np\n",
    "from dateutil.relativedelta import relativedelta\n",
    "\n",
    "\n"
   ]
  },
  {
   "cell_type": "code",
   "execution_count": 7,
   "id": "c1bd2487",
   "metadata": {},
   "outputs": [],
   "source": [
    "class Air:\n",
    "\n",
    "    def __init__(self,Variable=None,Estaciones=None,Fechai=None, Fechaf=None,Freq=5):\n",
    "\n",
    "        self.Fechai      = (dt.datetime.now()-relativedelta(months=1)).strftime('%Y-%m-')+'01 01:00' if (Fechaf == None) else Fechai\n",
    "        self.Fechaf      = (pd.to_datetime(self.Fechai)+ relativedelta(months=1)-dt.timedelta(hours=1)).strftime('%Y-%m-%d %H:%M') if (Fechaf == None) else Fechaf\n",
    "        ##### Modificarlo si se cambia de pc  #####################################\n",
    "        self.Est         = pd.read_csv('Estaciones.txt',index_col=0).sort_values(by='Latitud',ascending=False)\n",
    "        self.Dropbox_path='/Users/siata/SIATA Dropbox/SGC_Siata_ Aire/01_Gestion_Operativa/03_Registros/HojasVida_FichasTecnicas/ESTACIONES DE AIRE/'\n",
    "        ###########################################################################\n",
    "\n",
    "        self.folder={'BAR':'01_BARBOSA/','BEL':'02_BELLO/','CAL':'03_CALDAS/','COP':'04_COPACABANA/','GIR':'05_GIRARDOTA/','ITA':'06_ITAGUI/','SUR':'07_LA ESTRELLA/','EST':'07_LA ESTRELLA/','MED':'08_MEDELLIN/','CEN':'08_MEDELLIN/','SAB':'09_SABANETA/','ENV':'10_ENVIGADO/'}\n",
    "        self.nombre_tipo={'MULTIPUNTO':'MP','VER. CERO':'VC','CERO_SPAN PREC.':'CS_PR'}\n",
    "        self.fecha_range =pd.date_range(self.Fechai,self.Fechaf,freq='M')\n",
    "    def Read_Verification(self,*args,**kwargs):\n",
    "        self.var\t\t= kwargs.get('var','NOx')\n",
    "        self.tipo\t\t= kwargs.get('tipo','CS') #CS: ZERO/SPAN, 'PRE'\n",
    "\n",
    "        self.C={'MP':{},'VC':{},'CS_PR':{}}\n",
    "\n",
    "        analizador= 'O3(A)' if self.var=='Ozono' else 'NOX(A)' if self.var=='NOx' else 'CO(A)' if self.var=='CO' else 'SO2(A)' if self.var=='SO2' else None\n",
    "        self.estaciones=self.Est['Nombre'][self.Est[self.var]==1].values\n",
    "\n",
    "        for est in self.estaciones:\n",
    "            for date in self.fecha_range:\n",
    "                #print (date)\n",
    "                #print (est)\n",
    "                #print (self.Dropbox_path+self.folder[est[:3]]+est+'/'+analizador+'/VERIFICACIONES/'+date.strftime('%Y/%m')+'*')\n",
    "                self.foldermes=gb.glob(self.Dropbox_path+self.folder[est[:3]]+est+'/'+analizador+'/VERIFICACIONES/'+date.strftime('%Y/%m')+'*')\n",
    "                if len(self.foldermes)>0:\n",
    "                    XLS=gb.glob(self.foldermes[0]+'/F*.xlsx')\n",
    "                    print (XLS)\n",
    "\n",
    "                    for name in XLS:\n",
    "                        print (name)\n",
    "                        self.xl = pd.ExcelFile(name)\n",
    "                        self.DF = self.xl.parse(0)\n",
    "                        print('++++++++++ calcula cada variable por archivo ++++++')\n",
    "        for tipofile in self.C.keys():\n",
    "            print(tipofile)\n",
    "            print ('****************tipofile*******************')\n",
    "\n",
    "            \n",
    "            \n",
    "            "
   ]
  },
  {
   "cell_type": "code",
   "execution_count": 8,
   "id": "142a9ab4",
   "metadata": {},
   "outputs": [],
   "source": [
    "Fechai = '2022-07-01'\n",
    "Fechaf='2022-08-01'\n",
    "self=Air(Fechai=Fechai,Fechaf=Fechaf)"
   ]
  },
  {
   "cell_type": "code",
   "execution_count": 9,
   "id": "604233c5",
   "metadata": {},
   "outputs": [
    {
     "name": "stdout",
     "output_type": "stream",
     "text": [
      "['/Users/siata/SIATA Dropbox/SGC_Siata_ Aire/01_Gestion_Operativa/03_Registros/HojasVida_FichasTecnicas/ESTACIONES DE AIRE/05_GIRARDOTA/GIR-EPM/NOX(A)/VERIFICACIONES/2022/07_Julio/F-GAA-RA-21_GIR-EPM_NOx_CSPR_2022-07-21.xlsx', '/Users/siata/SIATA Dropbox/SGC_Siata_ Aire/01_Gestion_Operativa/03_Registros/HojasVida_FichasTecnicas/ESTACIONES DE AIRE/05_GIRARDOTA/GIR-EPM/NOX(A)/VERIFICACIONES/2022/07_Julio/F-GAA-RA-22_GIR-EPM_NOx_MP_2022-07-07.xlsx']\n",
      "/Users/siata/SIATA Dropbox/SGC_Siata_ Aire/01_Gestion_Operativa/03_Registros/HojasVida_FichasTecnicas/ESTACIONES DE AIRE/05_GIRARDOTA/GIR-EPM/NOX(A)/VERIFICACIONES/2022/07_Julio/F-GAA-RA-21_GIR-EPM_NOx_CSPR_2022-07-21.xlsx\n",
      "++++++++++ calcula cada variable por archivo ++++++\n",
      "/Users/siata/SIATA Dropbox/SGC_Siata_ Aire/01_Gestion_Operativa/03_Registros/HojasVida_FichasTecnicas/ESTACIONES DE AIRE/05_GIRARDOTA/GIR-EPM/NOX(A)/VERIFICACIONES/2022/07_Julio/F-GAA-RA-22_GIR-EPM_NOx_MP_2022-07-07.xlsx\n"
     ]
    },
    {
     "name": "stderr",
     "output_type": "stream",
     "text": [
      "/Users/siata/opt/anaconda3/lib/python3.9/site-packages/openpyxl/worksheet/_reader.py:312: UserWarning: Conditional Formatting extension is not supported and will be removed\n",
      "  warn(msg)\n"
     ]
    },
    {
     "name": "stdout",
     "output_type": "stream",
     "text": [
      "++++++++++ calcula cada variable por archivo ++++++\n",
      "['/Users/siata/SIATA Dropbox/SGC_Siata_ Aire/01_Gestion_Operativa/03_Registros/HojasVida_FichasTecnicas/ESTACIONES DE AIRE/08_MEDELLIN/MED-ITMR/NOX(A)/VERIFICACIONES/2022/07_JULIO/F-GAA-RA-22_MED-ITMR_NOx_CSPR_2022-07-12.xlsx', '/Users/siata/SIATA Dropbox/SGC_Siata_ Aire/01_Gestion_Operativa/03_Registros/HojasVida_FichasTecnicas/ESTACIONES DE AIRE/08_MEDELLIN/MED-ITMR/NOX(A)/VERIFICACIONES/2022/07_JULIO/F-GAA-RA-22_MED-ITMR_NOx_CSPR_2022-07-26.xlsx']\n",
      "/Users/siata/SIATA Dropbox/SGC_Siata_ Aire/01_Gestion_Operativa/03_Registros/HojasVida_FichasTecnicas/ESTACIONES DE AIRE/08_MEDELLIN/MED-ITMR/NOX(A)/VERIFICACIONES/2022/07_JULIO/F-GAA-RA-22_MED-ITMR_NOx_CSPR_2022-07-12.xlsx\n",
      "++++++++++ calcula cada variable por archivo ++++++\n",
      "/Users/siata/SIATA Dropbox/SGC_Siata_ Aire/01_Gestion_Operativa/03_Registros/HojasVida_FichasTecnicas/ESTACIONES DE AIRE/08_MEDELLIN/MED-ITMR/NOX(A)/VERIFICACIONES/2022/07_JULIO/F-GAA-RA-22_MED-ITMR_NOx_CSPR_2022-07-26.xlsx\n"
     ]
    },
    {
     "name": "stderr",
     "output_type": "stream",
     "text": [
      "/Users/siata/opt/anaconda3/lib/python3.9/site-packages/openpyxl/worksheet/_reader.py:312: UserWarning: Conditional Formatting extension is not supported and will be removed\n",
      "  warn(msg)\n"
     ]
    },
    {
     "name": "stdout",
     "output_type": "stream",
     "text": [
      "++++++++++ calcula cada variable por archivo ++++++\n",
      "['/Users/siata/SIATA Dropbox/SGC_Siata_ Aire/01_Gestion_Operativa/03_Registros/HojasVida_FichasTecnicas/ESTACIONES DE AIRE/08_MEDELLIN/MED-FISC/NOX(A)/VERIFICACIONES/2022/07_JULIO/F-GAA-RA-22_MED-FISC_NOx_SPCR_2022-07-25.xlsx', '/Users/siata/SIATA Dropbox/SGC_Siata_ Aire/01_Gestion_Operativa/03_Registros/HojasVida_FichasTecnicas/ESTACIONES DE AIRE/08_MEDELLIN/MED-FISC/NOX(A)/VERIFICACIONES/2022/07_JULIO/F-GAA-RA-22_MED-FISC_NOx_SPCR_2022-07-12.xlsx']\n",
      "/Users/siata/SIATA Dropbox/SGC_Siata_ Aire/01_Gestion_Operativa/03_Registros/HojasVida_FichasTecnicas/ESTACIONES DE AIRE/08_MEDELLIN/MED-FISC/NOX(A)/VERIFICACIONES/2022/07_JULIO/F-GAA-RA-22_MED-FISC_NOx_SPCR_2022-07-25.xlsx\n",
      "++++++++++ calcula cada variable por archivo ++++++\n",
      "/Users/siata/SIATA Dropbox/SGC_Siata_ Aire/01_Gestion_Operativa/03_Registros/HojasVida_FichasTecnicas/ESTACIONES DE AIRE/08_MEDELLIN/MED-FISC/NOX(A)/VERIFICACIONES/2022/07_JULIO/F-GAA-RA-22_MED-FISC_NOx_SPCR_2022-07-12.xlsx\n"
     ]
    },
    {
     "name": "stderr",
     "output_type": "stream",
     "text": [
      "/Users/siata/opt/anaconda3/lib/python3.9/site-packages/openpyxl/worksheet/_reader.py:312: UserWarning: Conditional Formatting extension is not supported and will be removed\n",
      "  warn(msg)\n"
     ]
    },
    {
     "name": "stdout",
     "output_type": "stream",
     "text": [
      "++++++++++ calcula cada variable por archivo ++++++\n",
      "['/Users/siata/SIATA Dropbox/SGC_Siata_ Aire/01_Gestion_Operativa/03_Registros/HojasVida_FichasTecnicas/ESTACIONES DE AIRE/08_MEDELLIN/CEN-TRAF/NOX(A)/VERIFICACIONES/2022/07_Julio/F-GAA-RA-22_TAPI_CEN-TRAF_NOx_CSPR_2022-07-22.xlsx', '/Users/siata/SIATA Dropbox/SGC_Siata_ Aire/01_Gestion_Operativa/03_Registros/HojasVida_FichasTecnicas/ESTACIONES DE AIRE/08_MEDELLIN/CEN-TRAF/NOX(A)/VERIFICACIONES/2022/07_Julio/F-GAA-RA-22_TAPI_CEN-TRAF_NOx_MP_2022-07-05.xlsx']\n",
      "/Users/siata/SIATA Dropbox/SGC_Siata_ Aire/01_Gestion_Operativa/03_Registros/HojasVida_FichasTecnicas/ESTACIONES DE AIRE/08_MEDELLIN/CEN-TRAF/NOX(A)/VERIFICACIONES/2022/07_Julio/F-GAA-RA-22_TAPI_CEN-TRAF_NOx_CSPR_2022-07-22.xlsx\n",
      "++++++++++ calcula cada variable por archivo ++++++\n",
      "/Users/siata/SIATA Dropbox/SGC_Siata_ Aire/01_Gestion_Operativa/03_Registros/HojasVida_FichasTecnicas/ESTACIONES DE AIRE/08_MEDELLIN/CEN-TRAF/NOX(A)/VERIFICACIONES/2022/07_Julio/F-GAA-RA-22_TAPI_CEN-TRAF_NOx_MP_2022-07-05.xlsx\n"
     ]
    },
    {
     "name": "stderr",
     "output_type": "stream",
     "text": [
      "/Users/siata/opt/anaconda3/lib/python3.9/site-packages/openpyxl/worksheet/_reader.py:312: UserWarning: Conditional Formatting extension is not supported and will be removed\n",
      "  warn(msg)\n"
     ]
    },
    {
     "name": "stdout",
     "output_type": "stream",
     "text": [
      "++++++++++ calcula cada variable por archivo ++++++\n",
      "['/Users/siata/SIATA Dropbox/SGC_Siata_ Aire/01_Gestion_Operativa/03_Registros/HojasVida_FichasTecnicas/ESTACIONES DE AIRE/08_MEDELLIN/MED-PJIC/NOX(A)/VERIFICACIONES/2022/07_JULIO/F-GAA-RA-22_MED-PJIC_NOx_CSPR_2022-07-28.xlsx', '/Users/siata/SIATA Dropbox/SGC_Siata_ Aire/01_Gestion_Operativa/03_Registros/HojasVida_FichasTecnicas/ESTACIONES DE AIRE/08_MEDELLIN/MED-PJIC/NOX(A)/VERIFICACIONES/2022/07_JULIO/F-GAA-RA-22_MED-PJIC_NOx_CSPR_2022-07-18.xlsx']\n",
      "/Users/siata/SIATA Dropbox/SGC_Siata_ Aire/01_Gestion_Operativa/03_Registros/HojasVida_FichasTecnicas/ESTACIONES DE AIRE/08_MEDELLIN/MED-PJIC/NOX(A)/VERIFICACIONES/2022/07_JULIO/F-GAA-RA-22_MED-PJIC_NOx_CSPR_2022-07-28.xlsx\n"
     ]
    },
    {
     "name": "stderr",
     "output_type": "stream",
     "text": [
      "/Users/siata/opt/anaconda3/lib/python3.9/site-packages/openpyxl/worksheet/_reader.py:312: UserWarning: Conditional Formatting extension is not supported and will be removed\n",
      "  warn(msg)\n"
     ]
    },
    {
     "name": "stdout",
     "output_type": "stream",
     "text": [
      "++++++++++ calcula cada variable por archivo ++++++\n",
      "/Users/siata/SIATA Dropbox/SGC_Siata_ Aire/01_Gestion_Operativa/03_Registros/HojasVida_FichasTecnicas/ESTACIONES DE AIRE/08_MEDELLIN/MED-PJIC/NOX(A)/VERIFICACIONES/2022/07_JULIO/F-GAA-RA-22_MED-PJIC_NOx_CSPR_2022-07-18.xlsx\n",
      "++++++++++ calcula cada variable por archivo ++++++\n",
      "['/Users/siata/SIATA Dropbox/SGC_Siata_ Aire/01_Gestion_Operativa/03_Registros/HojasVida_FichasTecnicas/ESTACIONES DE AIRE/06_ITAGUI/ITA-CJUS/NOX(A)/VERIFICACIONES/2022/07_Julio/F-GAA-RA-22_ITA-CJUS_NOx_CSPR_2022-07-12.xlsx', '/Users/siata/SIATA Dropbox/SGC_Siata_ Aire/01_Gestion_Operativa/03_Registros/HojasVida_FichasTecnicas/ESTACIONES DE AIRE/06_ITAGUI/ITA-CJUS/NOX(A)/VERIFICACIONES/2022/07_Julio/F-GAA-RA-22_ITA-CJUS_NOx_CSPR_2022-07-26.xlsx']\n",
      "/Users/siata/SIATA Dropbox/SGC_Siata_ Aire/01_Gestion_Operativa/03_Registros/HojasVida_FichasTecnicas/ESTACIONES DE AIRE/06_ITAGUI/ITA-CJUS/NOX(A)/VERIFICACIONES/2022/07_Julio/F-GAA-RA-22_ITA-CJUS_NOx_CSPR_2022-07-12.xlsx\n"
     ]
    },
    {
     "name": "stderr",
     "output_type": "stream",
     "text": [
      "/Users/siata/opt/anaconda3/lib/python3.9/site-packages/openpyxl/worksheet/_reader.py:312: UserWarning: Conditional Formatting extension is not supported and will be removed\n",
      "  warn(msg)\n"
     ]
    },
    {
     "name": "stdout",
     "output_type": "stream",
     "text": [
      "++++++++++ calcula cada variable por archivo ++++++\n",
      "/Users/siata/SIATA Dropbox/SGC_Siata_ Aire/01_Gestion_Operativa/03_Registros/HojasVida_FichasTecnicas/ESTACIONES DE AIRE/06_ITAGUI/ITA-CJUS/NOX(A)/VERIFICACIONES/2022/07_Julio/F-GAA-RA-22_ITA-CJUS_NOx_CSPR_2022-07-26.xlsx\n",
      "++++++++++ calcula cada variable por archivo ++++++\n",
      "['/Users/siata/SIATA Dropbox/SGC_Siata_ Aire/01_Gestion_Operativa/03_Registros/HojasVida_FichasTecnicas/ESTACIONES DE AIRE/07_LA ESTRELLA/SUR-TRAF/NOX(A)/VERIFICACIONES/2022/07_Julio/F-GAA-RA-22_SURTRAF_NOx_CSPR_2022-07-21.xlsx', '/Users/siata/SIATA Dropbox/SGC_Siata_ Aire/01_Gestion_Operativa/03_Registros/HojasVida_FichasTecnicas/ESTACIONES DE AIRE/07_LA ESTRELLA/SUR-TRAF/NOX(A)/VERIFICACIONES/2022/07_Julio/F-GAA-RA-22_SURTRAF_NOx_MP_2022-07-07.xlsx']\n",
      "/Users/siata/SIATA Dropbox/SGC_Siata_ Aire/01_Gestion_Operativa/03_Registros/HojasVida_FichasTecnicas/ESTACIONES DE AIRE/07_LA ESTRELLA/SUR-TRAF/NOX(A)/VERIFICACIONES/2022/07_Julio/F-GAA-RA-22_SURTRAF_NOx_CSPR_2022-07-21.xlsx\n"
     ]
    },
    {
     "name": "stderr",
     "output_type": "stream",
     "text": [
      "/Users/siata/opt/anaconda3/lib/python3.9/site-packages/openpyxl/worksheet/_reader.py:312: UserWarning: Conditional Formatting extension is not supported and will be removed\n",
      "  warn(msg)\n"
     ]
    },
    {
     "name": "stdout",
     "output_type": "stream",
     "text": [
      "++++++++++ calcula cada variable por archivo ++++++\n",
      "/Users/siata/SIATA Dropbox/SGC_Siata_ Aire/01_Gestion_Operativa/03_Registros/HojasVida_FichasTecnicas/ESTACIONES DE AIRE/07_LA ESTRELLA/SUR-TRAF/NOX(A)/VERIFICACIONES/2022/07_Julio/F-GAA-RA-22_SURTRAF_NOx_MP_2022-07-07.xlsx\n",
      "++++++++++ calcula cada variable por archivo ++++++\n",
      "MP\n",
      "****************tipofile*******************\n",
      "VC\n",
      "****************tipofile*******************\n",
      "CS_PR\n",
      "****************tipofile*******************\n",
      "NOx\n",
      "MP\n",
      "****************tipofile*******************\n",
      "['/Users/siata/SIATA Dropbox/SGC_Siata_ Aire/01_Gestion_Operativa/03_Registros/HojasVida_FichasTecnicas/ESTACIONES DE AIRE/05_GIRARDOTA/GIR-EPM/NOX(A)/VERIFICACIONES/2022/07_Julio/F-GAA-RA-21_GIR-EPM_NOx_CSPR_2022-07-21.xlsx', '/Users/siata/SIATA Dropbox/SGC_Siata_ Aire/01_Gestion_Operativa/03_Registros/HojasVida_FichasTecnicas/ESTACIONES DE AIRE/05_GIRARDOTA/GIR-EPM/NOX(A)/VERIFICACIONES/2022/07_Julio/F-GAA-RA-22_GIR-EPM_NOx_MP_2022-07-07.xlsx']\n",
      "/Users/siata/SIATA Dropbox/SGC_Siata_ Aire/01_Gestion_Operativa/03_Registros/HojasVida_FichasTecnicas/ESTACIONES DE AIRE/05_GIRARDOTA/GIR-EPM/NOX(A)/VERIFICACIONES/2022/07_Julio/F-GAA-RA-21_GIR-EPM_NOx_CSPR_2022-07-21.xlsx\n"
     ]
    },
    {
     "name": "stderr",
     "output_type": "stream",
     "text": [
      "/Users/siata/opt/anaconda3/lib/python3.9/site-packages/openpyxl/worksheet/_reader.py:312: UserWarning: Conditional Formatting extension is not supported and will be removed\n",
      "  warn(msg)\n"
     ]
    },
    {
     "name": "stdout",
     "output_type": "stream",
     "text": [
      "CERO_SPAN PREC.\n",
      "Tipo:   *******************\n",
      "/Users/siata/SIATA Dropbox/SGC_Siata_ Aire/01_Gestion_Operativa/03_Registros/HojasVida_FichasTecnicas/ESTACIONES DE AIRE/05_GIRARDOTA/GIR-EPM/NOX(A)/VERIFICACIONES/2022/07_Julio/F-GAA-RA-22_GIR-EPM_NOx_MP_2022-07-07.xlsx\n",
      "MULTIPUNTO\n",
      "Tipo:   *******************\n",
      "['/Users/siata/SIATA Dropbox/SGC_Siata_ Aire/01_Gestion_Operativa/03_Registros/HojasVida_FichasTecnicas/ESTACIONES DE AIRE/08_MEDELLIN/MED-ITMR/NOX(A)/VERIFICACIONES/2022/07_JULIO/F-GAA-RA-22_MED-ITMR_NOx_CSPR_2022-07-12.xlsx', '/Users/siata/SIATA Dropbox/SGC_Siata_ Aire/01_Gestion_Operativa/03_Registros/HojasVida_FichasTecnicas/ESTACIONES DE AIRE/08_MEDELLIN/MED-ITMR/NOX(A)/VERIFICACIONES/2022/07_JULIO/F-GAA-RA-22_MED-ITMR_NOx_CSPR_2022-07-26.xlsx']\n",
      "/Users/siata/SIATA Dropbox/SGC_Siata_ Aire/01_Gestion_Operativa/03_Registros/HojasVida_FichasTecnicas/ESTACIONES DE AIRE/08_MEDELLIN/MED-ITMR/NOX(A)/VERIFICACIONES/2022/07_JULIO/F-GAA-RA-22_MED-ITMR_NOx_CSPR_2022-07-12.xlsx\n"
     ]
    },
    {
     "name": "stderr",
     "output_type": "stream",
     "text": [
      "/Users/siata/opt/anaconda3/lib/python3.9/site-packages/openpyxl/worksheet/_reader.py:312: UserWarning: Conditional Formatting extension is not supported and will be removed\n",
      "  warn(msg)\n"
     ]
    },
    {
     "name": "stdout",
     "output_type": "stream",
     "text": [
      "CERO_SPAN PREC.\n",
      "Tipo:   *******************\n",
      "/Users/siata/SIATA Dropbox/SGC_Siata_ Aire/01_Gestion_Operativa/03_Registros/HojasVida_FichasTecnicas/ESTACIONES DE AIRE/08_MEDELLIN/MED-ITMR/NOX(A)/VERIFICACIONES/2022/07_JULIO/F-GAA-RA-22_MED-ITMR_NOx_CSPR_2022-07-26.xlsx\n",
      "CERO_SPAN PREC.\n",
      "Tipo:   *******************\n",
      "['/Users/siata/SIATA Dropbox/SGC_Siata_ Aire/01_Gestion_Operativa/03_Registros/HojasVida_FichasTecnicas/ESTACIONES DE AIRE/08_MEDELLIN/MED-FISC/NOX(A)/VERIFICACIONES/2022/07_JULIO/F-GAA-RA-22_MED-FISC_NOx_SPCR_2022-07-25.xlsx', '/Users/siata/SIATA Dropbox/SGC_Siata_ Aire/01_Gestion_Operativa/03_Registros/HojasVida_FichasTecnicas/ESTACIONES DE AIRE/08_MEDELLIN/MED-FISC/NOX(A)/VERIFICACIONES/2022/07_JULIO/F-GAA-RA-22_MED-FISC_NOx_SPCR_2022-07-12.xlsx']\n",
      "/Users/siata/SIATA Dropbox/SGC_Siata_ Aire/01_Gestion_Operativa/03_Registros/HojasVida_FichasTecnicas/ESTACIONES DE AIRE/08_MEDELLIN/MED-FISC/NOX(A)/VERIFICACIONES/2022/07_JULIO/F-GAA-RA-22_MED-FISC_NOx_SPCR_2022-07-25.xlsx\n"
     ]
    },
    {
     "name": "stderr",
     "output_type": "stream",
     "text": [
      "/Users/siata/opt/anaconda3/lib/python3.9/site-packages/openpyxl/worksheet/_reader.py:312: UserWarning: Conditional Formatting extension is not supported and will be removed\n",
      "  warn(msg)\n"
     ]
    },
    {
     "name": "stdout",
     "output_type": "stream",
     "text": [
      "CERO_SPAN PREC.\n",
      "Tipo:   *******************\n",
      "/Users/siata/SIATA Dropbox/SGC_Siata_ Aire/01_Gestion_Operativa/03_Registros/HojasVida_FichasTecnicas/ESTACIONES DE AIRE/08_MEDELLIN/MED-FISC/NOX(A)/VERIFICACIONES/2022/07_JULIO/F-GAA-RA-22_MED-FISC_NOx_SPCR_2022-07-12.xlsx\n",
      "CERO_SPAN PREC.\n",
      "Tipo:   *******************\n",
      "['/Users/siata/SIATA Dropbox/SGC_Siata_ Aire/01_Gestion_Operativa/03_Registros/HojasVida_FichasTecnicas/ESTACIONES DE AIRE/08_MEDELLIN/CEN-TRAF/NOX(A)/VERIFICACIONES/2022/07_Julio/F-GAA-RA-22_TAPI_CEN-TRAF_NOx_CSPR_2022-07-22.xlsx', '/Users/siata/SIATA Dropbox/SGC_Siata_ Aire/01_Gestion_Operativa/03_Registros/HojasVida_FichasTecnicas/ESTACIONES DE AIRE/08_MEDELLIN/CEN-TRAF/NOX(A)/VERIFICACIONES/2022/07_Julio/F-GAA-RA-22_TAPI_CEN-TRAF_NOx_MP_2022-07-05.xlsx']\n",
      "/Users/siata/SIATA Dropbox/SGC_Siata_ Aire/01_Gestion_Operativa/03_Registros/HojasVida_FichasTecnicas/ESTACIONES DE AIRE/08_MEDELLIN/CEN-TRAF/NOX(A)/VERIFICACIONES/2022/07_Julio/F-GAA-RA-22_TAPI_CEN-TRAF_NOx_CSPR_2022-07-22.xlsx\n"
     ]
    },
    {
     "name": "stderr",
     "output_type": "stream",
     "text": [
      "/Users/siata/opt/anaconda3/lib/python3.9/site-packages/openpyxl/worksheet/_reader.py:312: UserWarning: Conditional Formatting extension is not supported and will be removed\n",
      "  warn(msg)\n"
     ]
    },
    {
     "name": "stdout",
     "output_type": "stream",
     "text": [
      "CERO_SPAN PREC.\n",
      "Tipo:   *******************\n",
      "/Users/siata/SIATA Dropbox/SGC_Siata_ Aire/01_Gestion_Operativa/03_Registros/HojasVida_FichasTecnicas/ESTACIONES DE AIRE/08_MEDELLIN/CEN-TRAF/NOX(A)/VERIFICACIONES/2022/07_Julio/F-GAA-RA-22_TAPI_CEN-TRAF_NOx_MP_2022-07-05.xlsx\n",
      "MULTIPUNTO\n",
      "Tipo:   *******************\n",
      "['/Users/siata/SIATA Dropbox/SGC_Siata_ Aire/01_Gestion_Operativa/03_Registros/HojasVida_FichasTecnicas/ESTACIONES DE AIRE/08_MEDELLIN/MED-PJIC/NOX(A)/VERIFICACIONES/2022/07_JULIO/F-GAA-RA-22_MED-PJIC_NOx_CSPR_2022-07-28.xlsx', '/Users/siata/SIATA Dropbox/SGC_Siata_ Aire/01_Gestion_Operativa/03_Registros/HojasVida_FichasTecnicas/ESTACIONES DE AIRE/08_MEDELLIN/MED-PJIC/NOX(A)/VERIFICACIONES/2022/07_JULIO/F-GAA-RA-22_MED-PJIC_NOx_CSPR_2022-07-18.xlsx']\n",
      "/Users/siata/SIATA Dropbox/SGC_Siata_ Aire/01_Gestion_Operativa/03_Registros/HojasVida_FichasTecnicas/ESTACIONES DE AIRE/08_MEDELLIN/MED-PJIC/NOX(A)/VERIFICACIONES/2022/07_JULIO/F-GAA-RA-22_MED-PJIC_NOx_CSPR_2022-07-28.xlsx\n"
     ]
    },
    {
     "name": "stderr",
     "output_type": "stream",
     "text": [
      "/Users/siata/opt/anaconda3/lib/python3.9/site-packages/openpyxl/worksheet/_reader.py:312: UserWarning: Conditional Formatting extension is not supported and will be removed\n",
      "  warn(msg)\n"
     ]
    },
    {
     "name": "stdout",
     "output_type": "stream",
     "text": [
      "CERO_SPAN PREC.\n",
      "Tipo:   *******************\n",
      "/Users/siata/SIATA Dropbox/SGC_Siata_ Aire/01_Gestion_Operativa/03_Registros/HojasVida_FichasTecnicas/ESTACIONES DE AIRE/08_MEDELLIN/MED-PJIC/NOX(A)/VERIFICACIONES/2022/07_JULIO/F-GAA-RA-22_MED-PJIC_NOx_CSPR_2022-07-18.xlsx\n",
      "CERO_SPAN PREC.\n",
      "Tipo:   *******************\n",
      "['/Users/siata/SIATA Dropbox/SGC_Siata_ Aire/01_Gestion_Operativa/03_Registros/HojasVida_FichasTecnicas/ESTACIONES DE AIRE/06_ITAGUI/ITA-CJUS/NOX(A)/VERIFICACIONES/2022/07_Julio/F-GAA-RA-22_ITA-CJUS_NOx_CSPR_2022-07-12.xlsx', '/Users/siata/SIATA Dropbox/SGC_Siata_ Aire/01_Gestion_Operativa/03_Registros/HojasVida_FichasTecnicas/ESTACIONES DE AIRE/06_ITAGUI/ITA-CJUS/NOX(A)/VERIFICACIONES/2022/07_Julio/F-GAA-RA-22_ITA-CJUS_NOx_CSPR_2022-07-26.xlsx']\n",
      "/Users/siata/SIATA Dropbox/SGC_Siata_ Aire/01_Gestion_Operativa/03_Registros/HojasVida_FichasTecnicas/ESTACIONES DE AIRE/06_ITAGUI/ITA-CJUS/NOX(A)/VERIFICACIONES/2022/07_Julio/F-GAA-RA-22_ITA-CJUS_NOx_CSPR_2022-07-12.xlsx\n"
     ]
    },
    {
     "name": "stderr",
     "output_type": "stream",
     "text": [
      "/Users/siata/opt/anaconda3/lib/python3.9/site-packages/openpyxl/worksheet/_reader.py:312: UserWarning: Conditional Formatting extension is not supported and will be removed\n",
      "  warn(msg)\n"
     ]
    },
    {
     "name": "stdout",
     "output_type": "stream",
     "text": [
      "CERO_SPAN PREC.\n",
      "Tipo:   *******************\n",
      "/Users/siata/SIATA Dropbox/SGC_Siata_ Aire/01_Gestion_Operativa/03_Registros/HojasVida_FichasTecnicas/ESTACIONES DE AIRE/06_ITAGUI/ITA-CJUS/NOX(A)/VERIFICACIONES/2022/07_Julio/F-GAA-RA-22_ITA-CJUS_NOx_CSPR_2022-07-26.xlsx\n",
      "CERO_SPAN PREC.\n",
      "Tipo:   *******************\n",
      "['/Users/siata/SIATA Dropbox/SGC_Siata_ Aire/01_Gestion_Operativa/03_Registros/HojasVida_FichasTecnicas/ESTACIONES DE AIRE/07_LA ESTRELLA/SUR-TRAF/NOX(A)/VERIFICACIONES/2022/07_Julio/F-GAA-RA-22_SURTRAF_NOx_CSPR_2022-07-21.xlsx', '/Users/siata/SIATA Dropbox/SGC_Siata_ Aire/01_Gestion_Operativa/03_Registros/HojasVida_FichasTecnicas/ESTACIONES DE AIRE/07_LA ESTRELLA/SUR-TRAF/NOX(A)/VERIFICACIONES/2022/07_Julio/F-GAA-RA-22_SURTRAF_NOx_MP_2022-07-07.xlsx']\n",
      "/Users/siata/SIATA Dropbox/SGC_Siata_ Aire/01_Gestion_Operativa/03_Registros/HojasVida_FichasTecnicas/ESTACIONES DE AIRE/07_LA ESTRELLA/SUR-TRAF/NOX(A)/VERIFICACIONES/2022/07_Julio/F-GAA-RA-22_SURTRAF_NOx_CSPR_2022-07-21.xlsx\n"
     ]
    },
    {
     "name": "stderr",
     "output_type": "stream",
     "text": [
      "/Users/siata/opt/anaconda3/lib/python3.9/site-packages/openpyxl/worksheet/_reader.py:312: UserWarning: Conditional Formatting extension is not supported and will be removed\n",
      "  warn(msg)\n"
     ]
    },
    {
     "name": "stdout",
     "output_type": "stream",
     "text": [
      "CERO_SPAN PREC.\n",
      "Tipo:   *******************\n",
      "/Users/siata/SIATA Dropbox/SGC_Siata_ Aire/01_Gestion_Operativa/03_Registros/HojasVida_FichasTecnicas/ESTACIONES DE AIRE/07_LA ESTRELLA/SUR-TRAF/NOX(A)/VERIFICACIONES/2022/07_Julio/F-GAA-RA-22_SURTRAF_NOx_MP_2022-07-07.xlsx\n",
      "MULTIPUNTO\n",
      "Tipo:   *******************\n",
      "  Variable Tipo      Fecha Hora_inicio  Hora_fin  Estacion\n",
      "0      NOx   MP 2022-07-07    11:40:00  14:30:00   GIR-EPM\n",
      "0      NOx   MP 2022-07-05    11:50:00  15:30:00  CEN-TRAF\n",
      "0      NOx   MP 2022-07-07    10:00:00  15:00:00  SUR-TRAF\n",
      "VC\n",
      "****************tipofile*******************\n",
      "['/Users/siata/SIATA Dropbox/SGC_Siata_ Aire/01_Gestion_Operativa/03_Registros/HojasVida_FichasTecnicas/ESTACIONES DE AIRE/05_GIRARDOTA/GIR-EPM/NOX(A)/VERIFICACIONES/2022/07_Julio/F-GAA-RA-21_GIR-EPM_NOx_CSPR_2022-07-21.xlsx', '/Users/siata/SIATA Dropbox/SGC_Siata_ Aire/01_Gestion_Operativa/03_Registros/HojasVida_FichasTecnicas/ESTACIONES DE AIRE/05_GIRARDOTA/GIR-EPM/NOX(A)/VERIFICACIONES/2022/07_Julio/F-GAA-RA-22_GIR-EPM_NOx_MP_2022-07-07.xlsx']\n",
      "/Users/siata/SIATA Dropbox/SGC_Siata_ Aire/01_Gestion_Operativa/03_Registros/HojasVida_FichasTecnicas/ESTACIONES DE AIRE/05_GIRARDOTA/GIR-EPM/NOX(A)/VERIFICACIONES/2022/07_Julio/F-GAA-RA-21_GIR-EPM_NOx_CSPR_2022-07-21.xlsx\n"
     ]
    },
    {
     "name": "stderr",
     "output_type": "stream",
     "text": [
      "/Users/siata/opt/anaconda3/lib/python3.9/site-packages/openpyxl/worksheet/_reader.py:312: UserWarning: Conditional Formatting extension is not supported and will be removed\n",
      "  warn(msg)\n"
     ]
    },
    {
     "name": "stdout",
     "output_type": "stream",
     "text": [
      "CERO_SPAN PREC.\n",
      "Tipo:   *******************\n",
      "/Users/siata/SIATA Dropbox/SGC_Siata_ Aire/01_Gestion_Operativa/03_Registros/HojasVida_FichasTecnicas/ESTACIONES DE AIRE/05_GIRARDOTA/GIR-EPM/NOX(A)/VERIFICACIONES/2022/07_Julio/F-GAA-RA-22_GIR-EPM_NOx_MP_2022-07-07.xlsx\n",
      "MULTIPUNTO\n",
      "Tipo:   *******************\n",
      "['/Users/siata/SIATA Dropbox/SGC_Siata_ Aire/01_Gestion_Operativa/03_Registros/HojasVida_FichasTecnicas/ESTACIONES DE AIRE/08_MEDELLIN/MED-ITMR/NOX(A)/VERIFICACIONES/2022/07_JULIO/F-GAA-RA-22_MED-ITMR_NOx_CSPR_2022-07-12.xlsx', '/Users/siata/SIATA Dropbox/SGC_Siata_ Aire/01_Gestion_Operativa/03_Registros/HojasVida_FichasTecnicas/ESTACIONES DE AIRE/08_MEDELLIN/MED-ITMR/NOX(A)/VERIFICACIONES/2022/07_JULIO/F-GAA-RA-22_MED-ITMR_NOx_CSPR_2022-07-26.xlsx']\n",
      "/Users/siata/SIATA Dropbox/SGC_Siata_ Aire/01_Gestion_Operativa/03_Registros/HojasVida_FichasTecnicas/ESTACIONES DE AIRE/08_MEDELLIN/MED-ITMR/NOX(A)/VERIFICACIONES/2022/07_JULIO/F-GAA-RA-22_MED-ITMR_NOx_CSPR_2022-07-12.xlsx\n"
     ]
    },
    {
     "name": "stderr",
     "output_type": "stream",
     "text": [
      "/Users/siata/opt/anaconda3/lib/python3.9/site-packages/openpyxl/worksheet/_reader.py:312: UserWarning: Conditional Formatting extension is not supported and will be removed\n",
      "  warn(msg)\n"
     ]
    },
    {
     "name": "stdout",
     "output_type": "stream",
     "text": [
      "CERO_SPAN PREC.\n",
      "Tipo:   *******************\n",
      "/Users/siata/SIATA Dropbox/SGC_Siata_ Aire/01_Gestion_Operativa/03_Registros/HojasVida_FichasTecnicas/ESTACIONES DE AIRE/08_MEDELLIN/MED-ITMR/NOX(A)/VERIFICACIONES/2022/07_JULIO/F-GAA-RA-22_MED-ITMR_NOx_CSPR_2022-07-26.xlsx\n",
      "CERO_SPAN PREC.\n",
      "Tipo:   *******************\n",
      "['/Users/siata/SIATA Dropbox/SGC_Siata_ Aire/01_Gestion_Operativa/03_Registros/HojasVida_FichasTecnicas/ESTACIONES DE AIRE/08_MEDELLIN/MED-FISC/NOX(A)/VERIFICACIONES/2022/07_JULIO/F-GAA-RA-22_MED-FISC_NOx_SPCR_2022-07-25.xlsx', '/Users/siata/SIATA Dropbox/SGC_Siata_ Aire/01_Gestion_Operativa/03_Registros/HojasVida_FichasTecnicas/ESTACIONES DE AIRE/08_MEDELLIN/MED-FISC/NOX(A)/VERIFICACIONES/2022/07_JULIO/F-GAA-RA-22_MED-FISC_NOx_SPCR_2022-07-12.xlsx']\n",
      "/Users/siata/SIATA Dropbox/SGC_Siata_ Aire/01_Gestion_Operativa/03_Registros/HojasVida_FichasTecnicas/ESTACIONES DE AIRE/08_MEDELLIN/MED-FISC/NOX(A)/VERIFICACIONES/2022/07_JULIO/F-GAA-RA-22_MED-FISC_NOx_SPCR_2022-07-25.xlsx\n"
     ]
    },
    {
     "name": "stderr",
     "output_type": "stream",
     "text": [
      "/Users/siata/opt/anaconda3/lib/python3.9/site-packages/openpyxl/worksheet/_reader.py:312: UserWarning: Conditional Formatting extension is not supported and will be removed\n",
      "  warn(msg)\n"
     ]
    },
    {
     "name": "stdout",
     "output_type": "stream",
     "text": [
      "CERO_SPAN PREC.\n",
      "Tipo:   *******************\n",
      "/Users/siata/SIATA Dropbox/SGC_Siata_ Aire/01_Gestion_Operativa/03_Registros/HojasVida_FichasTecnicas/ESTACIONES DE AIRE/08_MEDELLIN/MED-FISC/NOX(A)/VERIFICACIONES/2022/07_JULIO/F-GAA-RA-22_MED-FISC_NOx_SPCR_2022-07-12.xlsx\n",
      "CERO_SPAN PREC.\n",
      "Tipo:   *******************\n",
      "['/Users/siata/SIATA Dropbox/SGC_Siata_ Aire/01_Gestion_Operativa/03_Registros/HojasVida_FichasTecnicas/ESTACIONES DE AIRE/08_MEDELLIN/CEN-TRAF/NOX(A)/VERIFICACIONES/2022/07_Julio/F-GAA-RA-22_TAPI_CEN-TRAF_NOx_CSPR_2022-07-22.xlsx', '/Users/siata/SIATA Dropbox/SGC_Siata_ Aire/01_Gestion_Operativa/03_Registros/HojasVida_FichasTecnicas/ESTACIONES DE AIRE/08_MEDELLIN/CEN-TRAF/NOX(A)/VERIFICACIONES/2022/07_Julio/F-GAA-RA-22_TAPI_CEN-TRAF_NOx_MP_2022-07-05.xlsx']\n",
      "/Users/siata/SIATA Dropbox/SGC_Siata_ Aire/01_Gestion_Operativa/03_Registros/HojasVida_FichasTecnicas/ESTACIONES DE AIRE/08_MEDELLIN/CEN-TRAF/NOX(A)/VERIFICACIONES/2022/07_Julio/F-GAA-RA-22_TAPI_CEN-TRAF_NOx_CSPR_2022-07-22.xlsx\n"
     ]
    },
    {
     "name": "stderr",
     "output_type": "stream",
     "text": [
      "/Users/siata/opt/anaconda3/lib/python3.9/site-packages/openpyxl/worksheet/_reader.py:312: UserWarning: Conditional Formatting extension is not supported and will be removed\n",
      "  warn(msg)\n"
     ]
    },
    {
     "name": "stdout",
     "output_type": "stream",
     "text": [
      "CERO_SPAN PREC.\n",
      "Tipo:   *******************\n",
      "/Users/siata/SIATA Dropbox/SGC_Siata_ Aire/01_Gestion_Operativa/03_Registros/HojasVida_FichasTecnicas/ESTACIONES DE AIRE/08_MEDELLIN/CEN-TRAF/NOX(A)/VERIFICACIONES/2022/07_Julio/F-GAA-RA-22_TAPI_CEN-TRAF_NOx_MP_2022-07-05.xlsx\n",
      "MULTIPUNTO\n",
      "Tipo:   *******************\n",
      "['/Users/siata/SIATA Dropbox/SGC_Siata_ Aire/01_Gestion_Operativa/03_Registros/HojasVida_FichasTecnicas/ESTACIONES DE AIRE/08_MEDELLIN/MED-PJIC/NOX(A)/VERIFICACIONES/2022/07_JULIO/F-GAA-RA-22_MED-PJIC_NOx_CSPR_2022-07-28.xlsx', '/Users/siata/SIATA Dropbox/SGC_Siata_ Aire/01_Gestion_Operativa/03_Registros/HojasVida_FichasTecnicas/ESTACIONES DE AIRE/08_MEDELLIN/MED-PJIC/NOX(A)/VERIFICACIONES/2022/07_JULIO/F-GAA-RA-22_MED-PJIC_NOx_CSPR_2022-07-18.xlsx']\n",
      "/Users/siata/SIATA Dropbox/SGC_Siata_ Aire/01_Gestion_Operativa/03_Registros/HojasVida_FichasTecnicas/ESTACIONES DE AIRE/08_MEDELLIN/MED-PJIC/NOX(A)/VERIFICACIONES/2022/07_JULIO/F-GAA-RA-22_MED-PJIC_NOx_CSPR_2022-07-28.xlsx\n"
     ]
    },
    {
     "name": "stderr",
     "output_type": "stream",
     "text": [
      "/Users/siata/opt/anaconda3/lib/python3.9/site-packages/openpyxl/worksheet/_reader.py:312: UserWarning: Conditional Formatting extension is not supported and will be removed\n",
      "  warn(msg)\n"
     ]
    },
    {
     "name": "stdout",
     "output_type": "stream",
     "text": [
      "CERO_SPAN PREC.\n",
      "Tipo:   *******************\n",
      "/Users/siata/SIATA Dropbox/SGC_Siata_ Aire/01_Gestion_Operativa/03_Registros/HojasVida_FichasTecnicas/ESTACIONES DE AIRE/08_MEDELLIN/MED-PJIC/NOX(A)/VERIFICACIONES/2022/07_JULIO/F-GAA-RA-22_MED-PJIC_NOx_CSPR_2022-07-18.xlsx\n",
      "CERO_SPAN PREC.\n",
      "Tipo:   *******************\n",
      "['/Users/siata/SIATA Dropbox/SGC_Siata_ Aire/01_Gestion_Operativa/03_Registros/HojasVida_FichasTecnicas/ESTACIONES DE AIRE/06_ITAGUI/ITA-CJUS/NOX(A)/VERIFICACIONES/2022/07_Julio/F-GAA-RA-22_ITA-CJUS_NOx_CSPR_2022-07-12.xlsx', '/Users/siata/SIATA Dropbox/SGC_Siata_ Aire/01_Gestion_Operativa/03_Registros/HojasVida_FichasTecnicas/ESTACIONES DE AIRE/06_ITAGUI/ITA-CJUS/NOX(A)/VERIFICACIONES/2022/07_Julio/F-GAA-RA-22_ITA-CJUS_NOx_CSPR_2022-07-26.xlsx']\n",
      "/Users/siata/SIATA Dropbox/SGC_Siata_ Aire/01_Gestion_Operativa/03_Registros/HojasVida_FichasTecnicas/ESTACIONES DE AIRE/06_ITAGUI/ITA-CJUS/NOX(A)/VERIFICACIONES/2022/07_Julio/F-GAA-RA-22_ITA-CJUS_NOx_CSPR_2022-07-12.xlsx\n"
     ]
    },
    {
     "name": "stderr",
     "output_type": "stream",
     "text": [
      "/Users/siata/opt/anaconda3/lib/python3.9/site-packages/openpyxl/worksheet/_reader.py:312: UserWarning: Conditional Formatting extension is not supported and will be removed\n",
      "  warn(msg)\n"
     ]
    },
    {
     "name": "stdout",
     "output_type": "stream",
     "text": [
      "CERO_SPAN PREC.\n",
      "Tipo:   *******************\n",
      "/Users/siata/SIATA Dropbox/SGC_Siata_ Aire/01_Gestion_Operativa/03_Registros/HojasVida_FichasTecnicas/ESTACIONES DE AIRE/06_ITAGUI/ITA-CJUS/NOX(A)/VERIFICACIONES/2022/07_Julio/F-GAA-RA-22_ITA-CJUS_NOx_CSPR_2022-07-26.xlsx\n",
      "CERO_SPAN PREC.\n",
      "Tipo:   *******************\n",
      "['/Users/siata/SIATA Dropbox/SGC_Siata_ Aire/01_Gestion_Operativa/03_Registros/HojasVida_FichasTecnicas/ESTACIONES DE AIRE/07_LA ESTRELLA/SUR-TRAF/NOX(A)/VERIFICACIONES/2022/07_Julio/F-GAA-RA-22_SURTRAF_NOx_CSPR_2022-07-21.xlsx', '/Users/siata/SIATA Dropbox/SGC_Siata_ Aire/01_Gestion_Operativa/03_Registros/HojasVida_FichasTecnicas/ESTACIONES DE AIRE/07_LA ESTRELLA/SUR-TRAF/NOX(A)/VERIFICACIONES/2022/07_Julio/F-GAA-RA-22_SURTRAF_NOx_MP_2022-07-07.xlsx']\n",
      "/Users/siata/SIATA Dropbox/SGC_Siata_ Aire/01_Gestion_Operativa/03_Registros/HojasVida_FichasTecnicas/ESTACIONES DE AIRE/07_LA ESTRELLA/SUR-TRAF/NOX(A)/VERIFICACIONES/2022/07_Julio/F-GAA-RA-22_SURTRAF_NOx_CSPR_2022-07-21.xlsx\n"
     ]
    },
    {
     "name": "stderr",
     "output_type": "stream",
     "text": [
      "/Users/siata/opt/anaconda3/lib/python3.9/site-packages/openpyxl/worksheet/_reader.py:312: UserWarning: Conditional Formatting extension is not supported and will be removed\n",
      "  warn(msg)\n"
     ]
    },
    {
     "name": "stdout",
     "output_type": "stream",
     "text": [
      "CERO_SPAN PREC.\n",
      "Tipo:   *******************\n",
      "/Users/siata/SIATA Dropbox/SGC_Siata_ Aire/01_Gestion_Operativa/03_Registros/HojasVida_FichasTecnicas/ESTACIONES DE AIRE/07_LA ESTRELLA/SUR-TRAF/NOX(A)/VERIFICACIONES/2022/07_Julio/F-GAA-RA-22_SURTRAF_NOx_MP_2022-07-07.xlsx\n",
      "MULTIPUNTO\n",
      "Tipo:   *******************\n",
      "  Variable Tipo      Fecha Hora_inicio  Hora_fin  Estacion\n",
      "0      NOx   MP 2022-07-07    11:40:00  14:30:00   GIR-EPM\n",
      "0      NOx   MP 2022-07-05    11:50:00  15:30:00  CEN-TRAF\n",
      "0      NOx   MP 2022-07-07    10:00:00  15:00:00  SUR-TRAF\n",
      "CS_PR\n",
      "****************tipofile*******************\n",
      "['/Users/siata/SIATA Dropbox/SGC_Siata_ Aire/01_Gestion_Operativa/03_Registros/HojasVida_FichasTecnicas/ESTACIONES DE AIRE/05_GIRARDOTA/GIR-EPM/NOX(A)/VERIFICACIONES/2022/07_Julio/F-GAA-RA-21_GIR-EPM_NOx_CSPR_2022-07-21.xlsx', '/Users/siata/SIATA Dropbox/SGC_Siata_ Aire/01_Gestion_Operativa/03_Registros/HojasVida_FichasTecnicas/ESTACIONES DE AIRE/05_GIRARDOTA/GIR-EPM/NOX(A)/VERIFICACIONES/2022/07_Julio/F-GAA-RA-22_GIR-EPM_NOx_MP_2022-07-07.xlsx']\n",
      "/Users/siata/SIATA Dropbox/SGC_Siata_ Aire/01_Gestion_Operativa/03_Registros/HojasVida_FichasTecnicas/ESTACIONES DE AIRE/05_GIRARDOTA/GIR-EPM/NOX(A)/VERIFICACIONES/2022/07_Julio/F-GAA-RA-21_GIR-EPM_NOx_CSPR_2022-07-21.xlsx\n"
     ]
    },
    {
     "name": "stderr",
     "output_type": "stream",
     "text": [
      "/Users/siata/opt/anaconda3/lib/python3.9/site-packages/openpyxl/worksheet/_reader.py:312: UserWarning: Conditional Formatting extension is not supported and will be removed\n",
      "  warn(msg)\n"
     ]
    },
    {
     "name": "stdout",
     "output_type": "stream",
     "text": [
      "CERO_SPAN PREC.\n",
      "Tipo:   *******************\n",
      "/Users/siata/SIATA Dropbox/SGC_Siata_ Aire/01_Gestion_Operativa/03_Registros/HojasVida_FichasTecnicas/ESTACIONES DE AIRE/05_GIRARDOTA/GIR-EPM/NOX(A)/VERIFICACIONES/2022/07_Julio/F-GAA-RA-22_GIR-EPM_NOx_MP_2022-07-07.xlsx\n",
      "MULTIPUNTO\n",
      "Tipo:   *******************\n",
      "['/Users/siata/SIATA Dropbox/SGC_Siata_ Aire/01_Gestion_Operativa/03_Registros/HojasVida_FichasTecnicas/ESTACIONES DE AIRE/08_MEDELLIN/MED-ITMR/NOX(A)/VERIFICACIONES/2022/07_JULIO/F-GAA-RA-22_MED-ITMR_NOx_CSPR_2022-07-12.xlsx', '/Users/siata/SIATA Dropbox/SGC_Siata_ Aire/01_Gestion_Operativa/03_Registros/HojasVida_FichasTecnicas/ESTACIONES DE AIRE/08_MEDELLIN/MED-ITMR/NOX(A)/VERIFICACIONES/2022/07_JULIO/F-GAA-RA-22_MED-ITMR_NOx_CSPR_2022-07-26.xlsx']\n",
      "/Users/siata/SIATA Dropbox/SGC_Siata_ Aire/01_Gestion_Operativa/03_Registros/HojasVida_FichasTecnicas/ESTACIONES DE AIRE/08_MEDELLIN/MED-ITMR/NOX(A)/VERIFICACIONES/2022/07_JULIO/F-GAA-RA-22_MED-ITMR_NOx_CSPR_2022-07-12.xlsx\n"
     ]
    },
    {
     "name": "stderr",
     "output_type": "stream",
     "text": [
      "/Users/siata/opt/anaconda3/lib/python3.9/site-packages/openpyxl/worksheet/_reader.py:312: UserWarning: Conditional Formatting extension is not supported and will be removed\n",
      "  warn(msg)\n"
     ]
    },
    {
     "name": "stdout",
     "output_type": "stream",
     "text": [
      "CERO_SPAN PREC.\n",
      "Tipo:   *******************\n",
      "/Users/siata/SIATA Dropbox/SGC_Siata_ Aire/01_Gestion_Operativa/03_Registros/HojasVida_FichasTecnicas/ESTACIONES DE AIRE/08_MEDELLIN/MED-ITMR/NOX(A)/VERIFICACIONES/2022/07_JULIO/F-GAA-RA-22_MED-ITMR_NOx_CSPR_2022-07-26.xlsx\n",
      "CERO_SPAN PREC.\n",
      "Tipo:   *******************\n",
      "['/Users/siata/SIATA Dropbox/SGC_Siata_ Aire/01_Gestion_Operativa/03_Registros/HojasVida_FichasTecnicas/ESTACIONES DE AIRE/08_MEDELLIN/MED-FISC/NOX(A)/VERIFICACIONES/2022/07_JULIO/F-GAA-RA-22_MED-FISC_NOx_SPCR_2022-07-25.xlsx', '/Users/siata/SIATA Dropbox/SGC_Siata_ Aire/01_Gestion_Operativa/03_Registros/HojasVida_FichasTecnicas/ESTACIONES DE AIRE/08_MEDELLIN/MED-FISC/NOX(A)/VERIFICACIONES/2022/07_JULIO/F-GAA-RA-22_MED-FISC_NOx_SPCR_2022-07-12.xlsx']\n",
      "/Users/siata/SIATA Dropbox/SGC_Siata_ Aire/01_Gestion_Operativa/03_Registros/HojasVida_FichasTecnicas/ESTACIONES DE AIRE/08_MEDELLIN/MED-FISC/NOX(A)/VERIFICACIONES/2022/07_JULIO/F-GAA-RA-22_MED-FISC_NOx_SPCR_2022-07-25.xlsx\n"
     ]
    },
    {
     "name": "stderr",
     "output_type": "stream",
     "text": [
      "/Users/siata/opt/anaconda3/lib/python3.9/site-packages/openpyxl/worksheet/_reader.py:312: UserWarning: Conditional Formatting extension is not supported and will be removed\n",
      "  warn(msg)\n"
     ]
    },
    {
     "name": "stdout",
     "output_type": "stream",
     "text": [
      "CERO_SPAN PREC.\n",
      "Tipo:   *******************\n",
      "/Users/siata/SIATA Dropbox/SGC_Siata_ Aire/01_Gestion_Operativa/03_Registros/HojasVida_FichasTecnicas/ESTACIONES DE AIRE/08_MEDELLIN/MED-FISC/NOX(A)/VERIFICACIONES/2022/07_JULIO/F-GAA-RA-22_MED-FISC_NOx_SPCR_2022-07-12.xlsx\n",
      "CERO_SPAN PREC.\n",
      "Tipo:   *******************\n",
      "['/Users/siata/SIATA Dropbox/SGC_Siata_ Aire/01_Gestion_Operativa/03_Registros/HojasVida_FichasTecnicas/ESTACIONES DE AIRE/08_MEDELLIN/CEN-TRAF/NOX(A)/VERIFICACIONES/2022/07_Julio/F-GAA-RA-22_TAPI_CEN-TRAF_NOx_CSPR_2022-07-22.xlsx', '/Users/siata/SIATA Dropbox/SGC_Siata_ Aire/01_Gestion_Operativa/03_Registros/HojasVida_FichasTecnicas/ESTACIONES DE AIRE/08_MEDELLIN/CEN-TRAF/NOX(A)/VERIFICACIONES/2022/07_Julio/F-GAA-RA-22_TAPI_CEN-TRAF_NOx_MP_2022-07-05.xlsx']\n",
      "/Users/siata/SIATA Dropbox/SGC_Siata_ Aire/01_Gestion_Operativa/03_Registros/HojasVida_FichasTecnicas/ESTACIONES DE AIRE/08_MEDELLIN/CEN-TRAF/NOX(A)/VERIFICACIONES/2022/07_Julio/F-GAA-RA-22_TAPI_CEN-TRAF_NOx_CSPR_2022-07-22.xlsx\n"
     ]
    },
    {
     "name": "stderr",
     "output_type": "stream",
     "text": [
      "/Users/siata/opt/anaconda3/lib/python3.9/site-packages/openpyxl/worksheet/_reader.py:312: UserWarning: Conditional Formatting extension is not supported and will be removed\n",
      "  warn(msg)\n"
     ]
    },
    {
     "name": "stdout",
     "output_type": "stream",
     "text": [
      "CERO_SPAN PREC.\n",
      "Tipo:   *******************\n",
      "/Users/siata/SIATA Dropbox/SGC_Siata_ Aire/01_Gestion_Operativa/03_Registros/HojasVida_FichasTecnicas/ESTACIONES DE AIRE/08_MEDELLIN/CEN-TRAF/NOX(A)/VERIFICACIONES/2022/07_Julio/F-GAA-RA-22_TAPI_CEN-TRAF_NOx_MP_2022-07-05.xlsx\n",
      "MULTIPUNTO\n",
      "Tipo:   *******************\n",
      "['/Users/siata/SIATA Dropbox/SGC_Siata_ Aire/01_Gestion_Operativa/03_Registros/HojasVida_FichasTecnicas/ESTACIONES DE AIRE/08_MEDELLIN/MED-PJIC/NOX(A)/VERIFICACIONES/2022/07_JULIO/F-GAA-RA-22_MED-PJIC_NOx_CSPR_2022-07-28.xlsx', '/Users/siata/SIATA Dropbox/SGC_Siata_ Aire/01_Gestion_Operativa/03_Registros/HojasVida_FichasTecnicas/ESTACIONES DE AIRE/08_MEDELLIN/MED-PJIC/NOX(A)/VERIFICACIONES/2022/07_JULIO/F-GAA-RA-22_MED-PJIC_NOx_CSPR_2022-07-18.xlsx']\n",
      "/Users/siata/SIATA Dropbox/SGC_Siata_ Aire/01_Gestion_Operativa/03_Registros/HojasVida_FichasTecnicas/ESTACIONES DE AIRE/08_MEDELLIN/MED-PJIC/NOX(A)/VERIFICACIONES/2022/07_JULIO/F-GAA-RA-22_MED-PJIC_NOx_CSPR_2022-07-28.xlsx\n"
     ]
    },
    {
     "name": "stderr",
     "output_type": "stream",
     "text": [
      "/Users/siata/opt/anaconda3/lib/python3.9/site-packages/openpyxl/worksheet/_reader.py:312: UserWarning: Conditional Formatting extension is not supported and will be removed\n",
      "  warn(msg)\n"
     ]
    },
    {
     "name": "stdout",
     "output_type": "stream",
     "text": [
      "CERO_SPAN PREC.\n",
      "Tipo:   *******************\n",
      "/Users/siata/SIATA Dropbox/SGC_Siata_ Aire/01_Gestion_Operativa/03_Registros/HojasVida_FichasTecnicas/ESTACIONES DE AIRE/08_MEDELLIN/MED-PJIC/NOX(A)/VERIFICACIONES/2022/07_JULIO/F-GAA-RA-22_MED-PJIC_NOx_CSPR_2022-07-18.xlsx\n",
      "CERO_SPAN PREC.\n",
      "Tipo:   *******************\n",
      "['/Users/siata/SIATA Dropbox/SGC_Siata_ Aire/01_Gestion_Operativa/03_Registros/HojasVida_FichasTecnicas/ESTACIONES DE AIRE/06_ITAGUI/ITA-CJUS/NOX(A)/VERIFICACIONES/2022/07_Julio/F-GAA-RA-22_ITA-CJUS_NOx_CSPR_2022-07-12.xlsx', '/Users/siata/SIATA Dropbox/SGC_Siata_ Aire/01_Gestion_Operativa/03_Registros/HojasVida_FichasTecnicas/ESTACIONES DE AIRE/06_ITAGUI/ITA-CJUS/NOX(A)/VERIFICACIONES/2022/07_Julio/F-GAA-RA-22_ITA-CJUS_NOx_CSPR_2022-07-26.xlsx']\n",
      "/Users/siata/SIATA Dropbox/SGC_Siata_ Aire/01_Gestion_Operativa/03_Registros/HojasVida_FichasTecnicas/ESTACIONES DE AIRE/06_ITAGUI/ITA-CJUS/NOX(A)/VERIFICACIONES/2022/07_Julio/F-GAA-RA-22_ITA-CJUS_NOx_CSPR_2022-07-12.xlsx\n"
     ]
    },
    {
     "name": "stderr",
     "output_type": "stream",
     "text": [
      "/Users/siata/opt/anaconda3/lib/python3.9/site-packages/openpyxl/worksheet/_reader.py:312: UserWarning: Conditional Formatting extension is not supported and will be removed\n",
      "  warn(msg)\n"
     ]
    },
    {
     "name": "stdout",
     "output_type": "stream",
     "text": [
      "CERO_SPAN PREC.\n",
      "Tipo:   *******************\n",
      "/Users/siata/SIATA Dropbox/SGC_Siata_ Aire/01_Gestion_Operativa/03_Registros/HojasVida_FichasTecnicas/ESTACIONES DE AIRE/06_ITAGUI/ITA-CJUS/NOX(A)/VERIFICACIONES/2022/07_Julio/F-GAA-RA-22_ITA-CJUS_NOx_CSPR_2022-07-26.xlsx\n",
      "CERO_SPAN PREC.\n",
      "Tipo:   *******************\n",
      "['/Users/siata/SIATA Dropbox/SGC_Siata_ Aire/01_Gestion_Operativa/03_Registros/HojasVida_FichasTecnicas/ESTACIONES DE AIRE/07_LA ESTRELLA/SUR-TRAF/NOX(A)/VERIFICACIONES/2022/07_Julio/F-GAA-RA-22_SURTRAF_NOx_CSPR_2022-07-21.xlsx', '/Users/siata/SIATA Dropbox/SGC_Siata_ Aire/01_Gestion_Operativa/03_Registros/HojasVida_FichasTecnicas/ESTACIONES DE AIRE/07_LA ESTRELLA/SUR-TRAF/NOX(A)/VERIFICACIONES/2022/07_Julio/F-GAA-RA-22_SURTRAF_NOx_MP_2022-07-07.xlsx']\n",
      "/Users/siata/SIATA Dropbox/SGC_Siata_ Aire/01_Gestion_Operativa/03_Registros/HojasVida_FichasTecnicas/ESTACIONES DE AIRE/07_LA ESTRELLA/SUR-TRAF/NOX(A)/VERIFICACIONES/2022/07_Julio/F-GAA-RA-22_SURTRAF_NOx_CSPR_2022-07-21.xlsx\n"
     ]
    },
    {
     "name": "stderr",
     "output_type": "stream",
     "text": [
      "/Users/siata/opt/anaconda3/lib/python3.9/site-packages/openpyxl/worksheet/_reader.py:312: UserWarning: Conditional Formatting extension is not supported and will be removed\n",
      "  warn(msg)\n"
     ]
    },
    {
     "name": "stdout",
     "output_type": "stream",
     "text": [
      "CERO_SPAN PREC.\n",
      "Tipo:   *******************\n",
      "/Users/siata/SIATA Dropbox/SGC_Siata_ Aire/01_Gestion_Operativa/03_Registros/HojasVida_FichasTecnicas/ESTACIONES DE AIRE/07_LA ESTRELLA/SUR-TRAF/NOX(A)/VERIFICACIONES/2022/07_Julio/F-GAA-RA-22_SURTRAF_NOx_MP_2022-07-07.xlsx\n",
      "MULTIPUNTO\n",
      "Tipo:   *******************\n",
      "  Variable   Tipo      Fecha Hora_inicio  Hora_fin  Estacion\n",
      "0      NOx     MP 2022-07-07    11:40:00  14:30:00   GIR-EPM\n",
      "0      NOx     MP 2022-07-05    11:50:00  15:30:00  CEN-TRAF\n",
      "0      NOx     MP 2022-07-07    10:00:00  15:00:00  SUR-TRAF\n",
      "0      NOx  CS_PR 2022-07-21    09:40:00  11:20:00   GIR-EPM\n",
      "0      NOx  CS_PR 2022-07-12    13:05:00  16:24:00  MED-ITMR\n",
      "0      NOx  CS_PR 2022-07-26    09:09:00  13:45:00  MED-ITMR\n",
      "0      NOx  CS_PR 2022-07-25    09:03:00  12:34:00  MED-FISC\n",
      "0      NOx  CS_PR 2022-07-12    09:45:00  11:35:00  MED-FISC\n",
      "0      NOx  CS_PR 2022-07-22    14:45:00  16:15:00  CEN-TRAF\n",
      "0      NOx  CS_PR 2022-07-28    09:00:00  10:40:00  MED-PJIC\n",
      "0      NOx  CS_PR 2022-07-18    13:00:00  15:30:00  MED-PJIC\n",
      "0      NOx  CS_PR 2022-07-12    13:00:00  15:45:00  ITA-CJUS\n",
      "0      NOx  CS_PR 2022-07-26    08:40:00  11:00:00  ITA-CJUS\n",
      "0      NOx  CS_PR 2022-07-21    11:30:00  14:10:00  SUR-TRAF\n",
      "['/Users/siata/SIATA Dropbox/SGC_Siata_ Aire/01_Gestion_Operativa/03_Registros/HojasVida_FichasTecnicas/ESTACIONES DE AIRE/05_GIRARDOTA/GIR-EPM/CO(A)/VERIFICACIONES/2022/07_Julio/F-GAA-RA-31_GIR-EPM_CO_MP_2022-07-14.xlsx', '/Users/siata/SIATA Dropbox/SGC_Siata_ Aire/01_Gestion_Operativa/03_Registros/HojasVida_FichasTecnicas/ESTACIONES DE AIRE/05_GIRARDOTA/GIR-EPM/CO(A)/VERIFICACIONES/2022/07_Julio/F-GAA-RA-31_GIR-EPM_CO_MP_2022-07-07.xlsx']\n",
      "/Users/siata/SIATA Dropbox/SGC_Siata_ Aire/01_Gestion_Operativa/03_Registros/HojasVida_FichasTecnicas/ESTACIONES DE AIRE/05_GIRARDOTA/GIR-EPM/CO(A)/VERIFICACIONES/2022/07_Julio/F-GAA-RA-31_GIR-EPM_CO_MP_2022-07-14.xlsx\n",
      "++++++++++ calcula cada variable por archivo ++++++\n",
      "/Users/siata/SIATA Dropbox/SGC_Siata_ Aire/01_Gestion_Operativa/03_Registros/HojasVida_FichasTecnicas/ESTACIONES DE AIRE/05_GIRARDOTA/GIR-EPM/CO(A)/VERIFICACIONES/2022/07_Julio/F-GAA-RA-31_GIR-EPM_CO_MP_2022-07-07.xlsx\n"
     ]
    },
    {
     "name": "stderr",
     "output_type": "stream",
     "text": [
      "/Users/siata/opt/anaconda3/lib/python3.9/site-packages/openpyxl/worksheet/_reader.py:312: UserWarning: Conditional Formatting extension is not supported and will be removed\n",
      "  warn(msg)\n"
     ]
    },
    {
     "name": "stdout",
     "output_type": "stream",
     "text": [
      "++++++++++ calcula cada variable por archivo ++++++\n",
      "['/Users/siata/SIATA Dropbox/SGC_Siata_ Aire/01_Gestion_Operativa/03_Registros/HojasVida_FichasTecnicas/ESTACIONES DE AIRE/08_MEDELLIN/MED-PJIC/CO(A)/VERIFICACIONES/2022/07_JULIO/F-GAA-RA-31_MED-PJIC_CO_CSPR_2022-07-28.xlsx', '/Users/siata/SIATA Dropbox/SGC_Siata_ Aire/01_Gestion_Operativa/03_Registros/HojasVida_FichasTecnicas/ESTACIONES DE AIRE/08_MEDELLIN/MED-PJIC/CO(A)/VERIFICACIONES/2022/07_JULIO/F-GAA-RA-31_MED-PJIC_CO_CSPR_2022-07-18.xlsx']\n",
      "/Users/siata/SIATA Dropbox/SGC_Siata_ Aire/01_Gestion_Operativa/03_Registros/HojasVida_FichasTecnicas/ESTACIONES DE AIRE/08_MEDELLIN/MED-PJIC/CO(A)/VERIFICACIONES/2022/07_JULIO/F-GAA-RA-31_MED-PJIC_CO_CSPR_2022-07-28.xlsx\n"
     ]
    },
    {
     "name": "stderr",
     "output_type": "stream",
     "text": [
      "/Users/siata/opt/anaconda3/lib/python3.9/site-packages/openpyxl/worksheet/_reader.py:312: UserWarning: Conditional Formatting extension is not supported and will be removed\n",
      "  warn(msg)\n"
     ]
    },
    {
     "name": "stdout",
     "output_type": "stream",
     "text": [
      "++++++++++ calcula cada variable por archivo ++++++\n",
      "/Users/siata/SIATA Dropbox/SGC_Siata_ Aire/01_Gestion_Operativa/03_Registros/HojasVida_FichasTecnicas/ESTACIONES DE AIRE/08_MEDELLIN/MED-PJIC/CO(A)/VERIFICACIONES/2022/07_JULIO/F-GAA-RA-31_MED-PJIC_CO_CSPR_2022-07-18.xlsx\n",
      "++++++++++ calcula cada variable por archivo ++++++\n",
      "MP\n",
      "****************tipofile*******************\n",
      "VC\n",
      "****************tipofile*******************\n",
      "CS_PR\n",
      "****************tipofile*******************\n",
      "CO\n",
      "MP\n",
      "****************tipofile*******************\n",
      "['/Users/siata/SIATA Dropbox/SGC_Siata_ Aire/01_Gestion_Operativa/03_Registros/HojasVida_FichasTecnicas/ESTACIONES DE AIRE/05_GIRARDOTA/GIR-EPM/CO(A)/VERIFICACIONES/2022/07_Julio/F-GAA-RA-31_GIR-EPM_CO_MP_2022-07-14.xlsx', '/Users/siata/SIATA Dropbox/SGC_Siata_ Aire/01_Gestion_Operativa/03_Registros/HojasVida_FichasTecnicas/ESTACIONES DE AIRE/05_GIRARDOTA/GIR-EPM/CO(A)/VERIFICACIONES/2022/07_Julio/F-GAA-RA-31_GIR-EPM_CO_MP_2022-07-07.xlsx']\n",
      "/Users/siata/SIATA Dropbox/SGC_Siata_ Aire/01_Gestion_Operativa/03_Registros/HojasVida_FichasTecnicas/ESTACIONES DE AIRE/05_GIRARDOTA/GIR-EPM/CO(A)/VERIFICACIONES/2022/07_Julio/F-GAA-RA-31_GIR-EPM_CO_MP_2022-07-14.xlsx\n"
     ]
    },
    {
     "name": "stderr",
     "output_type": "stream",
     "text": [
      "/Users/siata/opt/anaconda3/lib/python3.9/site-packages/openpyxl/worksheet/_reader.py:312: UserWarning: Conditional Formatting extension is not supported and will be removed\n",
      "  warn(msg)\n"
     ]
    },
    {
     "name": "stdout",
     "output_type": "stream",
     "text": [
      "MULTIPUNTO\n",
      "Tipo:   *******************\n",
      "/Users/siata/SIATA Dropbox/SGC_Siata_ Aire/01_Gestion_Operativa/03_Registros/HojasVida_FichasTecnicas/ESTACIONES DE AIRE/05_GIRARDOTA/GIR-EPM/CO(A)/VERIFICACIONES/2022/07_Julio/F-GAA-RA-31_GIR-EPM_CO_MP_2022-07-07.xlsx\n",
      "MULTIPUNTO\n",
      "Tipo:   *******************\n",
      "['/Users/siata/SIATA Dropbox/SGC_Siata_ Aire/01_Gestion_Operativa/03_Registros/HojasVida_FichasTecnicas/ESTACIONES DE AIRE/08_MEDELLIN/MED-PJIC/CO(A)/VERIFICACIONES/2022/07_JULIO/F-GAA-RA-31_MED-PJIC_CO_CSPR_2022-07-28.xlsx', '/Users/siata/SIATA Dropbox/SGC_Siata_ Aire/01_Gestion_Operativa/03_Registros/HojasVida_FichasTecnicas/ESTACIONES DE AIRE/08_MEDELLIN/MED-PJIC/CO(A)/VERIFICACIONES/2022/07_JULIO/F-GAA-RA-31_MED-PJIC_CO_CSPR_2022-07-18.xlsx']\n",
      "/Users/siata/SIATA Dropbox/SGC_Siata_ Aire/01_Gestion_Operativa/03_Registros/HojasVida_FichasTecnicas/ESTACIONES DE AIRE/08_MEDELLIN/MED-PJIC/CO(A)/VERIFICACIONES/2022/07_JULIO/F-GAA-RA-31_MED-PJIC_CO_CSPR_2022-07-28.xlsx\n"
     ]
    },
    {
     "name": "stderr",
     "output_type": "stream",
     "text": [
      "/Users/siata/opt/anaconda3/lib/python3.9/site-packages/openpyxl/worksheet/_reader.py:312: UserWarning: Conditional Formatting extension is not supported and will be removed\n",
      "  warn(msg)\n"
     ]
    },
    {
     "name": "stdout",
     "output_type": "stream",
     "text": [
      "CERO_SPAN PREC.\n",
      "Tipo:   *******************\n",
      "/Users/siata/SIATA Dropbox/SGC_Siata_ Aire/01_Gestion_Operativa/03_Registros/HojasVida_FichasTecnicas/ESTACIONES DE AIRE/08_MEDELLIN/MED-PJIC/CO(A)/VERIFICACIONES/2022/07_JULIO/F-GAA-RA-31_MED-PJIC_CO_CSPR_2022-07-18.xlsx\n",
      "CERO_SPAN PREC.\n",
      "Tipo:   *******************\n",
      "  Variable   Tipo      Fecha Hora_inicio  Hora_fin  Estacion\n",
      "0      NOx     MP 2022-07-07    11:40:00  14:30:00   GIR-EPM\n",
      "0      NOx     MP 2022-07-05    11:50:00  15:30:00  CEN-TRAF\n",
      "0      NOx     MP 2022-07-07    10:00:00  15:00:00  SUR-TRAF\n",
      "0      NOx  CS_PR 2022-07-21    09:40:00  11:20:00   GIR-EPM\n",
      "0      NOx  CS_PR 2022-07-12    13:05:00  16:24:00  MED-ITMR\n",
      "0      NOx  CS_PR 2022-07-26    09:09:00  13:45:00  MED-ITMR\n",
      "0      NOx  CS_PR 2022-07-25    09:03:00  12:34:00  MED-FISC\n",
      "0      NOx  CS_PR 2022-07-12    09:45:00  11:35:00  MED-FISC\n",
      "0      NOx  CS_PR 2022-07-22    14:45:00  16:15:00  CEN-TRAF\n",
      "0      NOx  CS_PR 2022-07-28    09:00:00  10:40:00  MED-PJIC\n",
      "0      NOx  CS_PR 2022-07-18    13:00:00  15:30:00  MED-PJIC\n",
      "0      NOx  CS_PR 2022-07-12    13:00:00  15:45:00  ITA-CJUS\n",
      "0      NOx  CS_PR 2022-07-26    08:40:00  11:00:00  ITA-CJUS\n",
      "0      NOx  CS_PR 2022-07-21    11:30:00  14:10:00  SUR-TRAF\n",
      "0       CO     MP 2022-07-14    11:00:00  13:00:00   GIR-EPM\n",
      "0       CO     MP 2022-07-07    15:00:00  15:50:00   GIR-EPM\n",
      "VC\n",
      "****************tipofile*******************\n",
      "['/Users/siata/SIATA Dropbox/SGC_Siata_ Aire/01_Gestion_Operativa/03_Registros/HojasVida_FichasTecnicas/ESTACIONES DE AIRE/05_GIRARDOTA/GIR-EPM/CO(A)/VERIFICACIONES/2022/07_Julio/F-GAA-RA-31_GIR-EPM_CO_MP_2022-07-14.xlsx', '/Users/siata/SIATA Dropbox/SGC_Siata_ Aire/01_Gestion_Operativa/03_Registros/HojasVida_FichasTecnicas/ESTACIONES DE AIRE/05_GIRARDOTA/GIR-EPM/CO(A)/VERIFICACIONES/2022/07_Julio/F-GAA-RA-31_GIR-EPM_CO_MP_2022-07-07.xlsx']\n",
      "/Users/siata/SIATA Dropbox/SGC_Siata_ Aire/01_Gestion_Operativa/03_Registros/HojasVida_FichasTecnicas/ESTACIONES DE AIRE/05_GIRARDOTA/GIR-EPM/CO(A)/VERIFICACIONES/2022/07_Julio/F-GAA-RA-31_GIR-EPM_CO_MP_2022-07-14.xlsx\n"
     ]
    },
    {
     "name": "stderr",
     "output_type": "stream",
     "text": [
      "/Users/siata/opt/anaconda3/lib/python3.9/site-packages/openpyxl/worksheet/_reader.py:312: UserWarning: Conditional Formatting extension is not supported and will be removed\n",
      "  warn(msg)\n"
     ]
    },
    {
     "name": "stdout",
     "output_type": "stream",
     "text": [
      "MULTIPUNTO\n",
      "Tipo:   *******************\n",
      "/Users/siata/SIATA Dropbox/SGC_Siata_ Aire/01_Gestion_Operativa/03_Registros/HojasVida_FichasTecnicas/ESTACIONES DE AIRE/05_GIRARDOTA/GIR-EPM/CO(A)/VERIFICACIONES/2022/07_Julio/F-GAA-RA-31_GIR-EPM_CO_MP_2022-07-07.xlsx\n",
      "MULTIPUNTO\n",
      "Tipo:   *******************\n",
      "['/Users/siata/SIATA Dropbox/SGC_Siata_ Aire/01_Gestion_Operativa/03_Registros/HojasVida_FichasTecnicas/ESTACIONES DE AIRE/08_MEDELLIN/MED-PJIC/CO(A)/VERIFICACIONES/2022/07_JULIO/F-GAA-RA-31_MED-PJIC_CO_CSPR_2022-07-28.xlsx', '/Users/siata/SIATA Dropbox/SGC_Siata_ Aire/01_Gestion_Operativa/03_Registros/HojasVida_FichasTecnicas/ESTACIONES DE AIRE/08_MEDELLIN/MED-PJIC/CO(A)/VERIFICACIONES/2022/07_JULIO/F-GAA-RA-31_MED-PJIC_CO_CSPR_2022-07-18.xlsx']\n",
      "/Users/siata/SIATA Dropbox/SGC_Siata_ Aire/01_Gestion_Operativa/03_Registros/HojasVida_FichasTecnicas/ESTACIONES DE AIRE/08_MEDELLIN/MED-PJIC/CO(A)/VERIFICACIONES/2022/07_JULIO/F-GAA-RA-31_MED-PJIC_CO_CSPR_2022-07-28.xlsx\n"
     ]
    },
    {
     "name": "stderr",
     "output_type": "stream",
     "text": [
      "/Users/siata/opt/anaconda3/lib/python3.9/site-packages/openpyxl/worksheet/_reader.py:312: UserWarning: Conditional Formatting extension is not supported and will be removed\n",
      "  warn(msg)\n"
     ]
    },
    {
     "name": "stdout",
     "output_type": "stream",
     "text": [
      "CERO_SPAN PREC.\n",
      "Tipo:   *******************\n",
      "/Users/siata/SIATA Dropbox/SGC_Siata_ Aire/01_Gestion_Operativa/03_Registros/HojasVida_FichasTecnicas/ESTACIONES DE AIRE/08_MEDELLIN/MED-PJIC/CO(A)/VERIFICACIONES/2022/07_JULIO/F-GAA-RA-31_MED-PJIC_CO_CSPR_2022-07-18.xlsx\n",
      "CERO_SPAN PREC.\n",
      "Tipo:   *******************\n",
      "  Variable   Tipo      Fecha Hora_inicio  Hora_fin  Estacion\n",
      "0      NOx     MP 2022-07-07    11:40:00  14:30:00   GIR-EPM\n",
      "0      NOx     MP 2022-07-05    11:50:00  15:30:00  CEN-TRAF\n",
      "0      NOx     MP 2022-07-07    10:00:00  15:00:00  SUR-TRAF\n",
      "0      NOx  CS_PR 2022-07-21    09:40:00  11:20:00   GIR-EPM\n",
      "0      NOx  CS_PR 2022-07-12    13:05:00  16:24:00  MED-ITMR\n",
      "0      NOx  CS_PR 2022-07-26    09:09:00  13:45:00  MED-ITMR\n",
      "0      NOx  CS_PR 2022-07-25    09:03:00  12:34:00  MED-FISC\n",
      "0      NOx  CS_PR 2022-07-12    09:45:00  11:35:00  MED-FISC\n",
      "0      NOx  CS_PR 2022-07-22    14:45:00  16:15:00  CEN-TRAF\n",
      "0      NOx  CS_PR 2022-07-28    09:00:00  10:40:00  MED-PJIC\n",
      "0      NOx  CS_PR 2022-07-18    13:00:00  15:30:00  MED-PJIC\n",
      "0      NOx  CS_PR 2022-07-12    13:00:00  15:45:00  ITA-CJUS\n",
      "0      NOx  CS_PR 2022-07-26    08:40:00  11:00:00  ITA-CJUS\n",
      "0      NOx  CS_PR 2022-07-21    11:30:00  14:10:00  SUR-TRAF\n",
      "0       CO     MP 2022-07-14    11:00:00  13:00:00   GIR-EPM\n",
      "0       CO     MP 2022-07-07    15:00:00  15:50:00   GIR-EPM\n",
      "CS_PR\n",
      "****************tipofile*******************\n",
      "['/Users/siata/SIATA Dropbox/SGC_Siata_ Aire/01_Gestion_Operativa/03_Registros/HojasVida_FichasTecnicas/ESTACIONES DE AIRE/05_GIRARDOTA/GIR-EPM/CO(A)/VERIFICACIONES/2022/07_Julio/F-GAA-RA-31_GIR-EPM_CO_MP_2022-07-14.xlsx', '/Users/siata/SIATA Dropbox/SGC_Siata_ Aire/01_Gestion_Operativa/03_Registros/HojasVida_FichasTecnicas/ESTACIONES DE AIRE/05_GIRARDOTA/GIR-EPM/CO(A)/VERIFICACIONES/2022/07_Julio/F-GAA-RA-31_GIR-EPM_CO_MP_2022-07-07.xlsx']\n",
      "/Users/siata/SIATA Dropbox/SGC_Siata_ Aire/01_Gestion_Operativa/03_Registros/HojasVida_FichasTecnicas/ESTACIONES DE AIRE/05_GIRARDOTA/GIR-EPM/CO(A)/VERIFICACIONES/2022/07_Julio/F-GAA-RA-31_GIR-EPM_CO_MP_2022-07-14.xlsx\n"
     ]
    },
    {
     "name": "stderr",
     "output_type": "stream",
     "text": [
      "/Users/siata/opt/anaconda3/lib/python3.9/site-packages/openpyxl/worksheet/_reader.py:312: UserWarning: Conditional Formatting extension is not supported and will be removed\n",
      "  warn(msg)\n"
     ]
    },
    {
     "name": "stdout",
     "output_type": "stream",
     "text": [
      "MULTIPUNTO\n",
      "Tipo:   *******************\n",
      "/Users/siata/SIATA Dropbox/SGC_Siata_ Aire/01_Gestion_Operativa/03_Registros/HojasVida_FichasTecnicas/ESTACIONES DE AIRE/05_GIRARDOTA/GIR-EPM/CO(A)/VERIFICACIONES/2022/07_Julio/F-GAA-RA-31_GIR-EPM_CO_MP_2022-07-07.xlsx\n",
      "MULTIPUNTO\n",
      "Tipo:   *******************\n",
      "['/Users/siata/SIATA Dropbox/SGC_Siata_ Aire/01_Gestion_Operativa/03_Registros/HojasVida_FichasTecnicas/ESTACIONES DE AIRE/08_MEDELLIN/MED-PJIC/CO(A)/VERIFICACIONES/2022/07_JULIO/F-GAA-RA-31_MED-PJIC_CO_CSPR_2022-07-28.xlsx', '/Users/siata/SIATA Dropbox/SGC_Siata_ Aire/01_Gestion_Operativa/03_Registros/HojasVida_FichasTecnicas/ESTACIONES DE AIRE/08_MEDELLIN/MED-PJIC/CO(A)/VERIFICACIONES/2022/07_JULIO/F-GAA-RA-31_MED-PJIC_CO_CSPR_2022-07-18.xlsx']\n",
      "/Users/siata/SIATA Dropbox/SGC_Siata_ Aire/01_Gestion_Operativa/03_Registros/HojasVida_FichasTecnicas/ESTACIONES DE AIRE/08_MEDELLIN/MED-PJIC/CO(A)/VERIFICACIONES/2022/07_JULIO/F-GAA-RA-31_MED-PJIC_CO_CSPR_2022-07-28.xlsx\n"
     ]
    },
    {
     "name": "stderr",
     "output_type": "stream",
     "text": [
      "/Users/siata/opt/anaconda3/lib/python3.9/site-packages/openpyxl/worksheet/_reader.py:312: UserWarning: Conditional Formatting extension is not supported and will be removed\n",
      "  warn(msg)\n"
     ]
    },
    {
     "name": "stdout",
     "output_type": "stream",
     "text": [
      "CERO_SPAN PREC.\n",
      "Tipo:   *******************\n",
      "/Users/siata/SIATA Dropbox/SGC_Siata_ Aire/01_Gestion_Operativa/03_Registros/HojasVida_FichasTecnicas/ESTACIONES DE AIRE/08_MEDELLIN/MED-PJIC/CO(A)/VERIFICACIONES/2022/07_JULIO/F-GAA-RA-31_MED-PJIC_CO_CSPR_2022-07-18.xlsx\n",
      "CERO_SPAN PREC.\n",
      "Tipo:   *******************\n",
      "  Variable   Tipo      Fecha Hora_inicio  Hora_fin  Estacion\n",
      "0      NOx     MP 2022-07-07    11:40:00  14:30:00   GIR-EPM\n",
      "0      NOx     MP 2022-07-05    11:50:00  15:30:00  CEN-TRAF\n",
      "0      NOx     MP 2022-07-07    10:00:00  15:00:00  SUR-TRAF\n",
      "0      NOx  CS_PR 2022-07-21    09:40:00  11:20:00   GIR-EPM\n",
      "0      NOx  CS_PR 2022-07-12    13:05:00  16:24:00  MED-ITMR\n",
      "0      NOx  CS_PR 2022-07-26    09:09:00  13:45:00  MED-ITMR\n",
      "0      NOx  CS_PR 2022-07-25    09:03:00  12:34:00  MED-FISC\n",
      "0      NOx  CS_PR 2022-07-12    09:45:00  11:35:00  MED-FISC\n",
      "0      NOx  CS_PR 2022-07-22    14:45:00  16:15:00  CEN-TRAF\n",
      "0      NOx  CS_PR 2022-07-28    09:00:00  10:40:00  MED-PJIC\n",
      "0      NOx  CS_PR 2022-07-18    13:00:00  15:30:00  MED-PJIC\n",
      "0      NOx  CS_PR 2022-07-12    13:00:00  15:45:00  ITA-CJUS\n",
      "0      NOx  CS_PR 2022-07-26    08:40:00  11:00:00  ITA-CJUS\n",
      "0      NOx  CS_PR 2022-07-21    11:30:00  14:10:00  SUR-TRAF\n",
      "0       CO     MP 2022-07-14    11:00:00  13:00:00   GIR-EPM\n",
      "0       CO     MP 2022-07-07    15:00:00  15:50:00   GIR-EPM\n",
      "0       CO  CS_PR 2022-07-28    10:40:00  12:00:00  MED-PJIC\n",
      "0       CO  CS_PR 2022-07-18    15:30:00  16:50:00  MED-PJIC\n",
      "['/Users/siata/SIATA Dropbox/SGC_Siata_ Aire/01_Gestion_Operativa/03_Registros/HojasVida_FichasTecnicas/ESTACIONES DE AIRE/05_GIRARDOTA/GIR-EPM/SO2(A)/VERIFICACIONES/2022/07_Julio/F-GAA-RA-21_GIR-EPM_SO2_CSPR_2022-07-21.xlsx', '/Users/siata/SIATA Dropbox/SGC_Siata_ Aire/01_Gestion_Operativa/03_Registros/HojasVida_FichasTecnicas/ESTACIONES DE AIRE/05_GIRARDOTA/GIR-EPM/SO2(A)/VERIFICACIONES/2022/07_Julio/F-GAA-RA-21_GIR-EPM_SO2_CSPR_2022-07-07.xlsx']\n",
      "/Users/siata/SIATA Dropbox/SGC_Siata_ Aire/01_Gestion_Operativa/03_Registros/HojasVida_FichasTecnicas/ESTACIONES DE AIRE/05_GIRARDOTA/GIR-EPM/SO2(A)/VERIFICACIONES/2022/07_Julio/F-GAA-RA-21_GIR-EPM_SO2_CSPR_2022-07-21.xlsx\n"
     ]
    },
    {
     "name": "stderr",
     "output_type": "stream",
     "text": [
      "/Users/siata/opt/anaconda3/lib/python3.9/site-packages/openpyxl/worksheet/_reader.py:312: UserWarning: Conditional Formatting extension is not supported and will be removed\n",
      "  warn(msg)\n",
      "/Users/siata/opt/anaconda3/lib/python3.9/site-packages/openpyxl/worksheet/_reader.py:312: UserWarning: Unknown extension is not supported and will be removed\n",
      "  warn(msg)\n"
     ]
    },
    {
     "name": "stdout",
     "output_type": "stream",
     "text": [
      "++++++++++ calcula cada variable por archivo ++++++\n",
      "/Users/siata/SIATA Dropbox/SGC_Siata_ Aire/01_Gestion_Operativa/03_Registros/HojasVida_FichasTecnicas/ESTACIONES DE AIRE/05_GIRARDOTA/GIR-EPM/SO2(A)/VERIFICACIONES/2022/07_Julio/F-GAA-RA-21_GIR-EPM_SO2_CSPR_2022-07-07.xlsx\n",
      "++++++++++ calcula cada variable por archivo ++++++\n",
      "MP\n",
      "****************tipofile*******************\n",
      "VC\n",
      "****************tipofile*******************\n",
      "CS_PR\n",
      "****************tipofile*******************\n",
      "SO2\n",
      "MP\n",
      "****************tipofile*******************\n",
      "['/Users/siata/SIATA Dropbox/SGC_Siata_ Aire/01_Gestion_Operativa/03_Registros/HojasVida_FichasTecnicas/ESTACIONES DE AIRE/05_GIRARDOTA/GIR-EPM/SO2(A)/VERIFICACIONES/2022/07_Julio/F-GAA-RA-21_GIR-EPM_SO2_CSPR_2022-07-21.xlsx', '/Users/siata/SIATA Dropbox/SGC_Siata_ Aire/01_Gestion_Operativa/03_Registros/HojasVida_FichasTecnicas/ESTACIONES DE AIRE/05_GIRARDOTA/GIR-EPM/SO2(A)/VERIFICACIONES/2022/07_Julio/F-GAA-RA-21_GIR-EPM_SO2_CSPR_2022-07-07.xlsx']\n",
      "/Users/siata/SIATA Dropbox/SGC_Siata_ Aire/01_Gestion_Operativa/03_Registros/HojasVida_FichasTecnicas/ESTACIONES DE AIRE/05_GIRARDOTA/GIR-EPM/SO2(A)/VERIFICACIONES/2022/07_Julio/F-GAA-RA-21_GIR-EPM_SO2_CSPR_2022-07-21.xlsx\n"
     ]
    },
    {
     "name": "stderr",
     "output_type": "stream",
     "text": [
      "/Users/siata/opt/anaconda3/lib/python3.9/site-packages/openpyxl/worksheet/_reader.py:312: UserWarning: Conditional Formatting extension is not supported and will be removed\n",
      "  warn(msg)\n",
      "/Users/siata/opt/anaconda3/lib/python3.9/site-packages/openpyxl/worksheet/_reader.py:312: UserWarning: Unknown extension is not supported and will be removed\n",
      "  warn(msg)\n"
     ]
    },
    {
     "name": "stdout",
     "output_type": "stream",
     "text": [
      "CERO_SPAN PREC.\n",
      "Tipo:   *******************\n",
      "/Users/siata/SIATA Dropbox/SGC_Siata_ Aire/01_Gestion_Operativa/03_Registros/HojasVida_FichasTecnicas/ESTACIONES DE AIRE/05_GIRARDOTA/GIR-EPM/SO2(A)/VERIFICACIONES/2022/07_Julio/F-GAA-RA-21_GIR-EPM_SO2_CSPR_2022-07-07.xlsx\n",
      "CERO_SPAN PREC.\n",
      "Tipo:   *******************\n",
      "  Variable   Tipo      Fecha Hora_inicio  Hora_fin  Estacion\n",
      "0      NOx     MP 2022-07-07    11:40:00  14:30:00   GIR-EPM\n",
      "0      NOx     MP 2022-07-05    11:50:00  15:30:00  CEN-TRAF\n",
      "0      NOx     MP 2022-07-07    10:00:00  15:00:00  SUR-TRAF\n",
      "0      NOx  CS_PR 2022-07-21    09:40:00  11:20:00   GIR-EPM\n",
      "0      NOx  CS_PR 2022-07-12    13:05:00  16:24:00  MED-ITMR\n",
      "0      NOx  CS_PR 2022-07-26    09:09:00  13:45:00  MED-ITMR\n",
      "0      NOx  CS_PR 2022-07-25    09:03:00  12:34:00  MED-FISC\n",
      "0      NOx  CS_PR 2022-07-12    09:45:00  11:35:00  MED-FISC\n",
      "0      NOx  CS_PR 2022-07-22    14:45:00  16:15:00  CEN-TRAF\n",
      "0      NOx  CS_PR 2022-07-28    09:00:00  10:40:00  MED-PJIC\n",
      "0      NOx  CS_PR 2022-07-18    13:00:00  15:30:00  MED-PJIC\n",
      "0      NOx  CS_PR 2022-07-12    13:00:00  15:45:00  ITA-CJUS\n",
      "0      NOx  CS_PR 2022-07-26    08:40:00  11:00:00  ITA-CJUS\n",
      "0      NOx  CS_PR 2022-07-21    11:30:00  14:10:00  SUR-TRAF\n",
      "0       CO     MP 2022-07-14    11:00:00  13:00:00   GIR-EPM\n",
      "0       CO     MP 2022-07-07    15:00:00  15:50:00   GIR-EPM\n",
      "0       CO  CS_PR 2022-07-28    10:40:00  12:00:00  MED-PJIC\n",
      "0       CO  CS_PR 2022-07-18    15:30:00  16:50:00  MED-PJIC\n",
      "VC\n",
      "****************tipofile*******************\n",
      "['/Users/siata/SIATA Dropbox/SGC_Siata_ Aire/01_Gestion_Operativa/03_Registros/HojasVida_FichasTecnicas/ESTACIONES DE AIRE/05_GIRARDOTA/GIR-EPM/SO2(A)/VERIFICACIONES/2022/07_Julio/F-GAA-RA-21_GIR-EPM_SO2_CSPR_2022-07-21.xlsx', '/Users/siata/SIATA Dropbox/SGC_Siata_ Aire/01_Gestion_Operativa/03_Registros/HojasVida_FichasTecnicas/ESTACIONES DE AIRE/05_GIRARDOTA/GIR-EPM/SO2(A)/VERIFICACIONES/2022/07_Julio/F-GAA-RA-21_GIR-EPM_SO2_CSPR_2022-07-07.xlsx']\n",
      "/Users/siata/SIATA Dropbox/SGC_Siata_ Aire/01_Gestion_Operativa/03_Registros/HojasVida_FichasTecnicas/ESTACIONES DE AIRE/05_GIRARDOTA/GIR-EPM/SO2(A)/VERIFICACIONES/2022/07_Julio/F-GAA-RA-21_GIR-EPM_SO2_CSPR_2022-07-21.xlsx\n"
     ]
    },
    {
     "name": "stderr",
     "output_type": "stream",
     "text": [
      "/Users/siata/opt/anaconda3/lib/python3.9/site-packages/openpyxl/worksheet/_reader.py:312: UserWarning: Conditional Formatting extension is not supported and will be removed\n",
      "  warn(msg)\n",
      "/Users/siata/opt/anaconda3/lib/python3.9/site-packages/openpyxl/worksheet/_reader.py:312: UserWarning: Unknown extension is not supported and will be removed\n",
      "  warn(msg)\n"
     ]
    },
    {
     "name": "stdout",
     "output_type": "stream",
     "text": [
      "CERO_SPAN PREC.\n",
      "Tipo:   *******************\n",
      "/Users/siata/SIATA Dropbox/SGC_Siata_ Aire/01_Gestion_Operativa/03_Registros/HojasVida_FichasTecnicas/ESTACIONES DE AIRE/05_GIRARDOTA/GIR-EPM/SO2(A)/VERIFICACIONES/2022/07_Julio/F-GAA-RA-21_GIR-EPM_SO2_CSPR_2022-07-07.xlsx\n",
      "CERO_SPAN PREC.\n",
      "Tipo:   *******************\n",
      "  Variable   Tipo      Fecha Hora_inicio  Hora_fin  Estacion\n",
      "0      NOx     MP 2022-07-07    11:40:00  14:30:00   GIR-EPM\n",
      "0      NOx     MP 2022-07-05    11:50:00  15:30:00  CEN-TRAF\n",
      "0      NOx     MP 2022-07-07    10:00:00  15:00:00  SUR-TRAF\n",
      "0      NOx  CS_PR 2022-07-21    09:40:00  11:20:00   GIR-EPM\n",
      "0      NOx  CS_PR 2022-07-12    13:05:00  16:24:00  MED-ITMR\n",
      "0      NOx  CS_PR 2022-07-26    09:09:00  13:45:00  MED-ITMR\n",
      "0      NOx  CS_PR 2022-07-25    09:03:00  12:34:00  MED-FISC\n",
      "0      NOx  CS_PR 2022-07-12    09:45:00  11:35:00  MED-FISC\n",
      "0      NOx  CS_PR 2022-07-22    14:45:00  16:15:00  CEN-TRAF\n",
      "0      NOx  CS_PR 2022-07-28    09:00:00  10:40:00  MED-PJIC\n",
      "0      NOx  CS_PR 2022-07-18    13:00:00  15:30:00  MED-PJIC\n",
      "0      NOx  CS_PR 2022-07-12    13:00:00  15:45:00  ITA-CJUS\n",
      "0      NOx  CS_PR 2022-07-26    08:40:00  11:00:00  ITA-CJUS\n",
      "0      NOx  CS_PR 2022-07-21    11:30:00  14:10:00  SUR-TRAF\n",
      "0       CO     MP 2022-07-14    11:00:00  13:00:00   GIR-EPM\n",
      "0       CO     MP 2022-07-07    15:00:00  15:50:00   GIR-EPM\n",
      "0       CO  CS_PR 2022-07-28    10:40:00  12:00:00  MED-PJIC\n",
      "0       CO  CS_PR 2022-07-18    15:30:00  16:50:00  MED-PJIC\n",
      "CS_PR\n",
      "****************tipofile*******************\n",
      "['/Users/siata/SIATA Dropbox/SGC_Siata_ Aire/01_Gestion_Operativa/03_Registros/HojasVida_FichasTecnicas/ESTACIONES DE AIRE/05_GIRARDOTA/GIR-EPM/SO2(A)/VERIFICACIONES/2022/07_Julio/F-GAA-RA-21_GIR-EPM_SO2_CSPR_2022-07-21.xlsx', '/Users/siata/SIATA Dropbox/SGC_Siata_ Aire/01_Gestion_Operativa/03_Registros/HojasVida_FichasTecnicas/ESTACIONES DE AIRE/05_GIRARDOTA/GIR-EPM/SO2(A)/VERIFICACIONES/2022/07_Julio/F-GAA-RA-21_GIR-EPM_SO2_CSPR_2022-07-07.xlsx']\n",
      "/Users/siata/SIATA Dropbox/SGC_Siata_ Aire/01_Gestion_Operativa/03_Registros/HojasVida_FichasTecnicas/ESTACIONES DE AIRE/05_GIRARDOTA/GIR-EPM/SO2(A)/VERIFICACIONES/2022/07_Julio/F-GAA-RA-21_GIR-EPM_SO2_CSPR_2022-07-21.xlsx\n"
     ]
    },
    {
     "name": "stderr",
     "output_type": "stream",
     "text": [
      "/Users/siata/opt/anaconda3/lib/python3.9/site-packages/openpyxl/worksheet/_reader.py:312: UserWarning: Conditional Formatting extension is not supported and will be removed\n",
      "  warn(msg)\n",
      "/Users/siata/opt/anaconda3/lib/python3.9/site-packages/openpyxl/worksheet/_reader.py:312: UserWarning: Unknown extension is not supported and will be removed\n",
      "  warn(msg)\n"
     ]
    },
    {
     "name": "stdout",
     "output_type": "stream",
     "text": [
      "CERO_SPAN PREC.\n",
      "Tipo:   *******************\n",
      "/Users/siata/SIATA Dropbox/SGC_Siata_ Aire/01_Gestion_Operativa/03_Registros/HojasVida_FichasTecnicas/ESTACIONES DE AIRE/05_GIRARDOTA/GIR-EPM/SO2(A)/VERIFICACIONES/2022/07_Julio/F-GAA-RA-21_GIR-EPM_SO2_CSPR_2022-07-07.xlsx\n",
      "CERO_SPAN PREC.\n",
      "Tipo:   *******************\n",
      "  Variable   Tipo      Fecha Hora_inicio  Hora_fin  Estacion\n",
      "0      NOx     MP 2022-07-07    11:40:00  14:30:00   GIR-EPM\n",
      "0      NOx     MP 2022-07-05    11:50:00  15:30:00  CEN-TRAF\n",
      "0      NOx     MP 2022-07-07    10:00:00  15:00:00  SUR-TRAF\n",
      "0      NOx  CS_PR 2022-07-21    09:40:00  11:20:00   GIR-EPM\n",
      "0      NOx  CS_PR 2022-07-12    13:05:00  16:24:00  MED-ITMR\n",
      "0      NOx  CS_PR 2022-07-26    09:09:00  13:45:00  MED-ITMR\n",
      "0      NOx  CS_PR 2022-07-25    09:03:00  12:34:00  MED-FISC\n",
      "0      NOx  CS_PR 2022-07-12    09:45:00  11:35:00  MED-FISC\n",
      "0      NOx  CS_PR 2022-07-22    14:45:00  16:15:00  CEN-TRAF\n",
      "0      NOx  CS_PR 2022-07-28    09:00:00  10:40:00  MED-PJIC\n",
      "0      NOx  CS_PR 2022-07-18    13:00:00  15:30:00  MED-PJIC\n",
      "0      NOx  CS_PR 2022-07-12    13:00:00  15:45:00  ITA-CJUS\n",
      "0      NOx  CS_PR 2022-07-26    08:40:00  11:00:00  ITA-CJUS\n",
      "0      NOx  CS_PR 2022-07-21    11:30:00  14:10:00  SUR-TRAF\n",
      "0       CO     MP 2022-07-14    11:00:00  13:00:00   GIR-EPM\n",
      "0       CO     MP 2022-07-07    15:00:00  15:50:00   GIR-EPM\n",
      "0       CO  CS_PR 2022-07-28    10:40:00  12:00:00  MED-PJIC\n",
      "0       CO  CS_PR 2022-07-18    15:30:00  16:50:00  MED-PJIC\n",
      "0      SO2  CS_PR 2022-07-21    11:30:00  12:20:00   GIR-EPM\n",
      "0      SO2  CS_PR 2022-07-07    11:40:00  15:00:00   GIR-EPM\n",
      "['/Users/siata/SIATA Dropbox/SGC_Siata_ Aire/01_Gestion_Operativa/03_Registros/HojasVida_FichasTecnicas/ESTACIONES DE AIRE/01_BARBOSA/BAR-PDLA/O3(A)/VERIFICACIONES/2022/07_Julio/F-GAA-RA-32_BAR-PDLA_O3_MP_2022-07-01.xlsx', '/Users/siata/SIATA Dropbox/SGC_Siata_ Aire/01_Gestion_Operativa/03_Registros/HojasVida_FichasTecnicas/ESTACIONES DE AIRE/01_BARBOSA/BAR-PDLA/O3(A)/VERIFICACIONES/2022/07_Julio/F-GAA-RA-32_BAR-PDLA_O3_CSPR_2022-07-15.xlsx']\n",
      "/Users/siata/SIATA Dropbox/SGC_Siata_ Aire/01_Gestion_Operativa/03_Registros/HojasVida_FichasTecnicas/ESTACIONES DE AIRE/01_BARBOSA/BAR-PDLA/O3(A)/VERIFICACIONES/2022/07_Julio/F-GAA-RA-32_BAR-PDLA_O3_MP_2022-07-01.xlsx\n"
     ]
    },
    {
     "name": "stderr",
     "output_type": "stream",
     "text": [
      "/Users/siata/opt/anaconda3/lib/python3.9/site-packages/openpyxl/worksheet/_reader.py:312: UserWarning: Conditional Formatting extension is not supported and will be removed\n",
      "  warn(msg)\n"
     ]
    },
    {
     "name": "stdout",
     "output_type": "stream",
     "text": [
      "++++++++++ calcula cada variable por archivo ++++++\n",
      "/Users/siata/SIATA Dropbox/SGC_Siata_ Aire/01_Gestion_Operativa/03_Registros/HojasVida_FichasTecnicas/ESTACIONES DE AIRE/01_BARBOSA/BAR-PDLA/O3(A)/VERIFICACIONES/2022/07_Julio/F-GAA-RA-32_BAR-PDLA_O3_CSPR_2022-07-15.xlsx\n",
      "++++++++++ calcula cada variable por archivo ++++++\n",
      "['/Users/siata/SIATA Dropbox/SGC_Siata_ Aire/01_Gestion_Operativa/03_Registros/HojasVida_FichasTecnicas/ESTACIONES DE AIRE/05_GIRARDOTA/GIR-EPM/O3(A)/VERIFICACIONES/2022/07_Julio/F-GAA-RA-32_GIR-EPM_O3_MP_2022-07-07.xlsx', '/Users/siata/SIATA Dropbox/SGC_Siata_ Aire/01_Gestion_Operativa/03_Registros/HojasVida_FichasTecnicas/ESTACIONES DE AIRE/05_GIRARDOTA/GIR-EPM/O3(A)/VERIFICACIONES/2022/07_Julio/F-GAA-RA-32_GIR-EPM_O3_CSPR_2022-07-14.xlsx']\n",
      "/Users/siata/SIATA Dropbox/SGC_Siata_ Aire/01_Gestion_Operativa/03_Registros/HojasVida_FichasTecnicas/ESTACIONES DE AIRE/05_GIRARDOTA/GIR-EPM/O3(A)/VERIFICACIONES/2022/07_Julio/F-GAA-RA-32_GIR-EPM_O3_MP_2022-07-07.xlsx\n"
     ]
    },
    {
     "name": "stderr",
     "output_type": "stream",
     "text": [
      "/Users/siata/opt/anaconda3/lib/python3.9/site-packages/openpyxl/worksheet/_reader.py:312: UserWarning: Conditional Formatting extension is not supported and will be removed\n",
      "  warn(msg)\n"
     ]
    },
    {
     "name": "stdout",
     "output_type": "stream",
     "text": [
      "++++++++++ calcula cada variable por archivo ++++++\n",
      "/Users/siata/SIATA Dropbox/SGC_Siata_ Aire/01_Gestion_Operativa/03_Registros/HojasVida_FichasTecnicas/ESTACIONES DE AIRE/05_GIRARDOTA/GIR-EPM/O3(A)/VERIFICACIONES/2022/07_Julio/F-GAA-RA-32_GIR-EPM_O3_CSPR_2022-07-14.xlsx\n",
      "++++++++++ calcula cada variable por archivo ++++++\n",
      "['/Users/siata/SIATA Dropbox/SGC_Siata_ Aire/01_Gestion_Operativa/03_Registros/HojasVida_FichasTecnicas/ESTACIONES DE AIRE/02_BELLO/BEL-USBV/O3(A)/VERIFICACIONES/2022/07_Julio/F-GAA-RA-33_BEL-USBV_O3_CSPR_2022-07-15.xlsx', '/Users/siata/SIATA Dropbox/SGC_Siata_ Aire/01_Gestion_Operativa/03_Registros/HojasVida_FichasTecnicas/ESTACIONES DE AIRE/02_BELLO/BEL-USBV/O3(A)/VERIFICACIONES/2022/07_Julio/F-GAA-RA-33_BEL-USBV_O3_MP_2022-07-01.xlsx']\n",
      "/Users/siata/SIATA Dropbox/SGC_Siata_ Aire/01_Gestion_Operativa/03_Registros/HojasVida_FichasTecnicas/ESTACIONES DE AIRE/02_BELLO/BEL-USBV/O3(A)/VERIFICACIONES/2022/07_Julio/F-GAA-RA-33_BEL-USBV_O3_CSPR_2022-07-15.xlsx\n"
     ]
    },
    {
     "name": "stderr",
     "output_type": "stream",
     "text": [
      "/Users/siata/opt/anaconda3/lib/python3.9/site-packages/openpyxl/worksheet/_reader.py:312: UserWarning: Conditional Formatting extension is not supported and will be removed\n",
      "  warn(msg)\n",
      "/Users/siata/opt/anaconda3/lib/python3.9/site-packages/openpyxl/worksheet/_reader.py:312: UserWarning: Unknown extension is not supported and will be removed\n",
      "  warn(msg)\n"
     ]
    },
    {
     "name": "stdout",
     "output_type": "stream",
     "text": [
      "++++++++++ calcula cada variable por archivo ++++++\n",
      "/Users/siata/SIATA Dropbox/SGC_Siata_ Aire/01_Gestion_Operativa/03_Registros/HojasVida_FichasTecnicas/ESTACIONES DE AIRE/02_BELLO/BEL-USBV/O3(A)/VERIFICACIONES/2022/07_Julio/F-GAA-RA-33_BEL-USBV_O3_MP_2022-07-01.xlsx\n",
      "++++++++++ calcula cada variable por archivo ++++++\n",
      "['/Users/siata/SIATA Dropbox/SGC_Siata_ Aire/01_Gestion_Operativa/03_Registros/HojasVida_FichasTecnicas/ESTACIONES DE AIRE/08_MEDELLIN/MED-FISC/O3(A)/VERIFICACIONES/2022/07_JULIO/F-GAA-RA-32_MED-FISC_O3_CSPR_2022-07-12.xlsx', '/Users/siata/SIATA Dropbox/SGC_Siata_ Aire/01_Gestion_Operativa/03_Registros/HojasVida_FichasTecnicas/ESTACIONES DE AIRE/08_MEDELLIN/MED-FISC/O3(A)/VERIFICACIONES/2022/07_JULIO/F-GAA-RA-32_MED-FISC_O3_CSPR_2022-07-25.xlsx']\n",
      "/Users/siata/SIATA Dropbox/SGC_Siata_ Aire/01_Gestion_Operativa/03_Registros/HojasVida_FichasTecnicas/ESTACIONES DE AIRE/08_MEDELLIN/MED-FISC/O3(A)/VERIFICACIONES/2022/07_JULIO/F-GAA-RA-32_MED-FISC_O3_CSPR_2022-07-12.xlsx\n"
     ]
    },
    {
     "name": "stderr",
     "output_type": "stream",
     "text": [
      "/Users/siata/opt/anaconda3/lib/python3.9/site-packages/openpyxl/worksheet/_reader.py:312: UserWarning: Conditional Formatting extension is not supported and will be removed\n",
      "  warn(msg)\n"
     ]
    },
    {
     "name": "stdout",
     "output_type": "stream",
     "text": [
      "++++++++++ calcula cada variable por archivo ++++++\n",
      "/Users/siata/SIATA Dropbox/SGC_Siata_ Aire/01_Gestion_Operativa/03_Registros/HojasVida_FichasTecnicas/ESTACIONES DE AIRE/08_MEDELLIN/MED-FISC/O3(A)/VERIFICACIONES/2022/07_JULIO/F-GAA-RA-32_MED-FISC_O3_CSPR_2022-07-25.xlsx\n",
      "++++++++++ calcula cada variable por archivo ++++++\n",
      "['/Users/siata/SIATA Dropbox/SGC_Siata_ Aire/01_Gestion_Operativa/03_Registros/HojasVida_FichasTecnicas/ESTACIONES DE AIRE/08_MEDELLIN/MED-UDEM/O3(A)/VERIFICACIONES/2022/07_JULIO/F-GAA-RA-32_MED-UDEM_O3_CSPR_2022-07-27.xlsx', '/Users/siata/SIATA Dropbox/SGC_Siata_ Aire/01_Gestion_Operativa/03_Registros/HojasVida_FichasTecnicas/ESTACIONES DE AIRE/08_MEDELLIN/MED-UDEM/O3(A)/VERIFICACIONES/2022/07_JULIO/F-GAA-RA-32_MED-UDEM_O3_CSPR_2022-07-13.xlsx']\n",
      "/Users/siata/SIATA Dropbox/SGC_Siata_ Aire/01_Gestion_Operativa/03_Registros/HojasVida_FichasTecnicas/ESTACIONES DE AIRE/08_MEDELLIN/MED-UDEM/O3(A)/VERIFICACIONES/2022/07_JULIO/F-GAA-RA-32_MED-UDEM_O3_CSPR_2022-07-27.xlsx\n"
     ]
    },
    {
     "name": "stderr",
     "output_type": "stream",
     "text": [
      "/Users/siata/opt/anaconda3/lib/python3.9/site-packages/openpyxl/worksheet/_reader.py:312: UserWarning: Conditional Formatting extension is not supported and will be removed\n",
      "  warn(msg)\n"
     ]
    },
    {
     "name": "stdout",
     "output_type": "stream",
     "text": [
      "++++++++++ calcula cada variable por archivo ++++++\n",
      "/Users/siata/SIATA Dropbox/SGC_Siata_ Aire/01_Gestion_Operativa/03_Registros/HojasVida_FichasTecnicas/ESTACIONES DE AIRE/08_MEDELLIN/MED-UDEM/O3(A)/VERIFICACIONES/2022/07_JULIO/F-GAA-RA-32_MED-UDEM_O3_CSPR_2022-07-13.xlsx\n",
      "++++++++++ calcula cada variable por archivo ++++++\n",
      "['/Users/siata/SIATA Dropbox/SGC_Siata_ Aire/01_Gestion_Operativa/03_Registros/HojasVida_FichasTecnicas/ESTACIONES DE AIRE/08_MEDELLIN/MED-MIRA/O3(A)/VERIFICACIONES/2022/07_Julio/F-GAA-RA-32_MED-MIRA_O3_CSPR_2022-07-27.xlsx', '/Users/siata/SIATA Dropbox/SGC_Siata_ Aire/01_Gestion_Operativa/03_Registros/HojasVida_FichasTecnicas/ESTACIONES DE AIRE/08_MEDELLIN/MED-MIRA/O3(A)/VERIFICACIONES/2022/07_Julio/F-GAA-RA-32_MED-MIRA_O3_CSPR_2022-07-13.xlsx']\n",
      "/Users/siata/SIATA Dropbox/SGC_Siata_ Aire/01_Gestion_Operativa/03_Registros/HojasVida_FichasTecnicas/ESTACIONES DE AIRE/08_MEDELLIN/MED-MIRA/O3(A)/VERIFICACIONES/2022/07_Julio/F-GAA-RA-32_MED-MIRA_O3_CSPR_2022-07-27.xlsx\n"
     ]
    },
    {
     "name": "stderr",
     "output_type": "stream",
     "text": [
      "/Users/siata/opt/anaconda3/lib/python3.9/site-packages/openpyxl/worksheet/_reader.py:312: UserWarning: Conditional Formatting extension is not supported and will be removed\n",
      "  warn(msg)\n"
     ]
    },
    {
     "name": "stdout",
     "output_type": "stream",
     "text": [
      "++++++++++ calcula cada variable por archivo ++++++\n",
      "/Users/siata/SIATA Dropbox/SGC_Siata_ Aire/01_Gestion_Operativa/03_Registros/HojasVida_FichasTecnicas/ESTACIONES DE AIRE/08_MEDELLIN/MED-MIRA/O3(A)/VERIFICACIONES/2022/07_Julio/F-GAA-RA-32_MED-MIRA_O3_CSPR_2022-07-13.xlsx\n",
      "++++++++++ calcula cada variable por archivo ++++++\n",
      "['/Users/siata/SIATA Dropbox/SGC_Siata_ Aire/01_Gestion_Operativa/03_Registros/HojasVida_FichasTecnicas/ESTACIONES DE AIRE/08_MEDELLIN/MED-LAYE/O3(A)/VERIFICACIONES/2022/07_JULIO/F-GAA-RA-32_MED-LAYE_O3_CSPR_2022-07-28.xlsx', '/Users/siata/SIATA Dropbox/SGC_Siata_ Aire/01_Gestion_Operativa/03_Registros/HojasVida_FichasTecnicas/ESTACIONES DE AIRE/08_MEDELLIN/MED-LAYE/O3(A)/VERIFICACIONES/2022/07_JULIO/F-GAA-RA-32_MED-LAYE_O3_CSPR_2022-07-14.xlsx']\n",
      "/Users/siata/SIATA Dropbox/SGC_Siata_ Aire/01_Gestion_Operativa/03_Registros/HojasVida_FichasTecnicas/ESTACIONES DE AIRE/08_MEDELLIN/MED-LAYE/O3(A)/VERIFICACIONES/2022/07_JULIO/F-GAA-RA-32_MED-LAYE_O3_CSPR_2022-07-28.xlsx\n"
     ]
    },
    {
     "name": "stderr",
     "output_type": "stream",
     "text": [
      "/Users/siata/opt/anaconda3/lib/python3.9/site-packages/openpyxl/worksheet/_reader.py:312: UserWarning: Conditional Formatting extension is not supported and will be removed\n",
      "  warn(msg)\n"
     ]
    },
    {
     "name": "stdout",
     "output_type": "stream",
     "text": [
      "++++++++++ calcula cada variable por archivo ++++++\n",
      "/Users/siata/SIATA Dropbox/SGC_Siata_ Aire/01_Gestion_Operativa/03_Registros/HojasVida_FichasTecnicas/ESTACIONES DE AIRE/08_MEDELLIN/MED-LAYE/O3(A)/VERIFICACIONES/2022/07_JULIO/F-GAA-RA-32_MED-LAYE_O3_CSPR_2022-07-14.xlsx\n",
      "++++++++++ calcula cada variable por archivo ++++++\n",
      "['/Users/siata/SIATA Dropbox/SGC_Siata_ Aire/01_Gestion_Operativa/03_Registros/HojasVida_FichasTecnicas/ESTACIONES DE AIRE/06_ITAGUI/ITA-CONC/O3(A)/VERIFICACIONES/2022/07_Julio/F-GAA-RA-32_ITA-CONC_O3_CSPR_2022-07-12.xlsx', '/Users/siata/SIATA Dropbox/SGC_Siata_ Aire/01_Gestion_Operativa/03_Registros/HojasVida_FichasTecnicas/ESTACIONES DE AIRE/06_ITAGUI/ITA-CONC/O3(A)/VERIFICACIONES/2022/07_Julio/F-GAA-RA-32_ITA-CONC_O3_CSPR_2022-07-26.xlsx']\n",
      "/Users/siata/SIATA Dropbox/SGC_Siata_ Aire/01_Gestion_Operativa/03_Registros/HojasVida_FichasTecnicas/ESTACIONES DE AIRE/06_ITAGUI/ITA-CONC/O3(A)/VERIFICACIONES/2022/07_Julio/F-GAA-RA-32_ITA-CONC_O3_CSPR_2022-07-12.xlsx\n"
     ]
    },
    {
     "name": "stderr",
     "output_type": "stream",
     "text": [
      "/Users/siata/opt/anaconda3/lib/python3.9/site-packages/openpyxl/worksheet/_reader.py:312: UserWarning: Conditional Formatting extension is not supported and will be removed\n",
      "  warn(msg)\n"
     ]
    },
    {
     "name": "stdout",
     "output_type": "stream",
     "text": [
      "++++++++++ calcula cada variable por archivo ++++++\n",
      "/Users/siata/SIATA Dropbox/SGC_Siata_ Aire/01_Gestion_Operativa/03_Registros/HojasVida_FichasTecnicas/ESTACIONES DE AIRE/06_ITAGUI/ITA-CONC/O3(A)/VERIFICACIONES/2022/07_Julio/F-GAA-RA-32_ITA-CONC_O3_CSPR_2022-07-26.xlsx\n",
      "++++++++++ calcula cada variable por archivo ++++++\n",
      "MP\n",
      "****************tipofile*******************\n",
      "VC\n",
      "****************tipofile*******************\n",
      "CS_PR\n",
      "****************tipofile*******************\n",
      "Ozono\n",
      "MP\n",
      "****************tipofile*******************\n",
      "['/Users/siata/SIATA Dropbox/SGC_Siata_ Aire/01_Gestion_Operativa/03_Registros/HojasVida_FichasTecnicas/ESTACIONES DE AIRE/01_BARBOSA/BAR-PDLA/O3(A)/VERIFICACIONES/2022/07_Julio/F-GAA-RA-32_BAR-PDLA_O3_MP_2022-07-01.xlsx', '/Users/siata/SIATA Dropbox/SGC_Siata_ Aire/01_Gestion_Operativa/03_Registros/HojasVida_FichasTecnicas/ESTACIONES DE AIRE/01_BARBOSA/BAR-PDLA/O3(A)/VERIFICACIONES/2022/07_Julio/F-GAA-RA-32_BAR-PDLA_O3_CSPR_2022-07-15.xlsx']\n",
      "/Users/siata/SIATA Dropbox/SGC_Siata_ Aire/01_Gestion_Operativa/03_Registros/HojasVida_FichasTecnicas/ESTACIONES DE AIRE/01_BARBOSA/BAR-PDLA/O3(A)/VERIFICACIONES/2022/07_Julio/F-GAA-RA-32_BAR-PDLA_O3_MP_2022-07-01.xlsx\n"
     ]
    },
    {
     "name": "stderr",
     "output_type": "stream",
     "text": [
      "/Users/siata/opt/anaconda3/lib/python3.9/site-packages/openpyxl/worksheet/_reader.py:312: UserWarning: Conditional Formatting extension is not supported and will be removed\n",
      "  warn(msg)\n"
     ]
    },
    {
     "name": "stdout",
     "output_type": "stream",
     "text": [
      "Entró al except en la variable:\n",
      "Ozono\n",
      "En la estación:\n",
      "BAR-PDLA\n",
      "MULTIPUNTO\n",
      "Tipo:   *******************\n",
      "/Users/siata/SIATA Dropbox/SGC_Siata_ Aire/01_Gestion_Operativa/03_Registros/HojasVida_FichasTecnicas/ESTACIONES DE AIRE/01_BARBOSA/BAR-PDLA/O3(A)/VERIFICACIONES/2022/07_Julio/F-GAA-RA-32_BAR-PDLA_O3_CSPR_2022-07-15.xlsx\n",
      "Entró al except en la variable:\n",
      "Ozono\n",
      "En la estación:\n",
      "BAR-PDLA\n",
      "CERO_SPAN PREC.\n",
      "Tipo:   *******************\n",
      "['/Users/siata/SIATA Dropbox/SGC_Siata_ Aire/01_Gestion_Operativa/03_Registros/HojasVida_FichasTecnicas/ESTACIONES DE AIRE/05_GIRARDOTA/GIR-EPM/O3(A)/VERIFICACIONES/2022/07_Julio/F-GAA-RA-32_GIR-EPM_O3_MP_2022-07-07.xlsx', '/Users/siata/SIATA Dropbox/SGC_Siata_ Aire/01_Gestion_Operativa/03_Registros/HojasVida_FichasTecnicas/ESTACIONES DE AIRE/05_GIRARDOTA/GIR-EPM/O3(A)/VERIFICACIONES/2022/07_Julio/F-GAA-RA-32_GIR-EPM_O3_CSPR_2022-07-14.xlsx']\n",
      "/Users/siata/SIATA Dropbox/SGC_Siata_ Aire/01_Gestion_Operativa/03_Registros/HojasVida_FichasTecnicas/ESTACIONES DE AIRE/05_GIRARDOTA/GIR-EPM/O3(A)/VERIFICACIONES/2022/07_Julio/F-GAA-RA-32_GIR-EPM_O3_MP_2022-07-07.xlsx\n"
     ]
    },
    {
     "name": "stderr",
     "output_type": "stream",
     "text": [
      "/Users/siata/opt/anaconda3/lib/python3.9/site-packages/openpyxl/worksheet/_reader.py:312: UserWarning: Conditional Formatting extension is not supported and will be removed\n",
      "  warn(msg)\n"
     ]
    },
    {
     "name": "stdout",
     "output_type": "stream",
     "text": [
      "Entró al except en la variable:\n",
      "Ozono\n",
      "En la estación:\n",
      "GIR-EPM\n",
      "MULTIPUNTO\n",
      "Tipo:   *******************\n",
      "/Users/siata/SIATA Dropbox/SGC_Siata_ Aire/01_Gestion_Operativa/03_Registros/HojasVida_FichasTecnicas/ESTACIONES DE AIRE/05_GIRARDOTA/GIR-EPM/O3(A)/VERIFICACIONES/2022/07_Julio/F-GAA-RA-32_GIR-EPM_O3_CSPR_2022-07-14.xlsx\n",
      "Entró al except en la variable:\n",
      "Ozono\n",
      "En la estación:\n",
      "GIR-EPM\n",
      "CERO_SPAN PREC.\n",
      "Tipo:   *******************\n",
      "['/Users/siata/SIATA Dropbox/SGC_Siata_ Aire/01_Gestion_Operativa/03_Registros/HojasVida_FichasTecnicas/ESTACIONES DE AIRE/02_BELLO/BEL-USBV/O3(A)/VERIFICACIONES/2022/07_Julio/F-GAA-RA-33_BEL-USBV_O3_CSPR_2022-07-15.xlsx', '/Users/siata/SIATA Dropbox/SGC_Siata_ Aire/01_Gestion_Operativa/03_Registros/HojasVida_FichasTecnicas/ESTACIONES DE AIRE/02_BELLO/BEL-USBV/O3(A)/VERIFICACIONES/2022/07_Julio/F-GAA-RA-33_BEL-USBV_O3_MP_2022-07-01.xlsx']\n",
      "/Users/siata/SIATA Dropbox/SGC_Siata_ Aire/01_Gestion_Operativa/03_Registros/HojasVida_FichasTecnicas/ESTACIONES DE AIRE/02_BELLO/BEL-USBV/O3(A)/VERIFICACIONES/2022/07_Julio/F-GAA-RA-33_BEL-USBV_O3_CSPR_2022-07-15.xlsx\n"
     ]
    },
    {
     "name": "stderr",
     "output_type": "stream",
     "text": [
      "/Users/siata/opt/anaconda3/lib/python3.9/site-packages/openpyxl/worksheet/_reader.py:312: UserWarning: Conditional Formatting extension is not supported and will be removed\n",
      "  warn(msg)\n",
      "/Users/siata/opt/anaconda3/lib/python3.9/site-packages/openpyxl/worksheet/_reader.py:312: UserWarning: Unknown extension is not supported and will be removed\n",
      "  warn(msg)\n"
     ]
    },
    {
     "name": "stdout",
     "output_type": "stream",
     "text": [
      "Entró al except en la variable:\n",
      "Ozono\n",
      "En la estación:\n",
      "BEL-USBV\n",
      "CERO_SPAN PREC.\n",
      "Tipo:   *******************\n",
      "/Users/siata/SIATA Dropbox/SGC_Siata_ Aire/01_Gestion_Operativa/03_Registros/HojasVida_FichasTecnicas/ESTACIONES DE AIRE/02_BELLO/BEL-USBV/O3(A)/VERIFICACIONES/2022/07_Julio/F-GAA-RA-33_BEL-USBV_O3_MP_2022-07-01.xlsx\n",
      "Entró al except en la variable:\n",
      "Ozono\n",
      "En la estación:\n",
      "BEL-USBV\n",
      "MULTIPUNTO\n",
      "Tipo:   *******************\n",
      "['/Users/siata/SIATA Dropbox/SGC_Siata_ Aire/01_Gestion_Operativa/03_Registros/HojasVida_FichasTecnicas/ESTACIONES DE AIRE/08_MEDELLIN/MED-FISC/O3(A)/VERIFICACIONES/2022/07_JULIO/F-GAA-RA-32_MED-FISC_O3_CSPR_2022-07-12.xlsx', '/Users/siata/SIATA Dropbox/SGC_Siata_ Aire/01_Gestion_Operativa/03_Registros/HojasVida_FichasTecnicas/ESTACIONES DE AIRE/08_MEDELLIN/MED-FISC/O3(A)/VERIFICACIONES/2022/07_JULIO/F-GAA-RA-32_MED-FISC_O3_CSPR_2022-07-25.xlsx']\n",
      "/Users/siata/SIATA Dropbox/SGC_Siata_ Aire/01_Gestion_Operativa/03_Registros/HojasVida_FichasTecnicas/ESTACIONES DE AIRE/08_MEDELLIN/MED-FISC/O3(A)/VERIFICACIONES/2022/07_JULIO/F-GAA-RA-32_MED-FISC_O3_CSPR_2022-07-12.xlsx\n"
     ]
    },
    {
     "name": "stderr",
     "output_type": "stream",
     "text": [
      "/Users/siata/opt/anaconda3/lib/python3.9/site-packages/openpyxl/worksheet/_reader.py:312: UserWarning: Conditional Formatting extension is not supported and will be removed\n",
      "  warn(msg)\n"
     ]
    },
    {
     "name": "stdout",
     "output_type": "stream",
     "text": [
      "Entró al except en la variable:\n",
      "Ozono\n",
      "En la estación:\n",
      "MED-FISC\n",
      "CERO_SPAN PREC.\n",
      "Tipo:   *******************\n",
      "/Users/siata/SIATA Dropbox/SGC_Siata_ Aire/01_Gestion_Operativa/03_Registros/HojasVida_FichasTecnicas/ESTACIONES DE AIRE/08_MEDELLIN/MED-FISC/O3(A)/VERIFICACIONES/2022/07_JULIO/F-GAA-RA-32_MED-FISC_O3_CSPR_2022-07-25.xlsx\n",
      "Entró al except en la variable:\n",
      "Ozono\n",
      "En la estación:\n",
      "MED-FISC\n",
      "CERO_SPAN PREC.\n",
      "Tipo:   *******************\n",
      "['/Users/siata/SIATA Dropbox/SGC_Siata_ Aire/01_Gestion_Operativa/03_Registros/HojasVida_FichasTecnicas/ESTACIONES DE AIRE/08_MEDELLIN/MED-UDEM/O3(A)/VERIFICACIONES/2022/07_JULIO/F-GAA-RA-32_MED-UDEM_O3_CSPR_2022-07-27.xlsx', '/Users/siata/SIATA Dropbox/SGC_Siata_ Aire/01_Gestion_Operativa/03_Registros/HojasVida_FichasTecnicas/ESTACIONES DE AIRE/08_MEDELLIN/MED-UDEM/O3(A)/VERIFICACIONES/2022/07_JULIO/F-GAA-RA-32_MED-UDEM_O3_CSPR_2022-07-13.xlsx']\n",
      "/Users/siata/SIATA Dropbox/SGC_Siata_ Aire/01_Gestion_Operativa/03_Registros/HojasVida_FichasTecnicas/ESTACIONES DE AIRE/08_MEDELLIN/MED-UDEM/O3(A)/VERIFICACIONES/2022/07_JULIO/F-GAA-RA-32_MED-UDEM_O3_CSPR_2022-07-27.xlsx\n"
     ]
    },
    {
     "name": "stderr",
     "output_type": "stream",
     "text": [
      "/Users/siata/opt/anaconda3/lib/python3.9/site-packages/openpyxl/worksheet/_reader.py:312: UserWarning: Conditional Formatting extension is not supported and will be removed\n",
      "  warn(msg)\n"
     ]
    },
    {
     "name": "stdout",
     "output_type": "stream",
     "text": [
      "Entró al except en la variable:\n",
      "Ozono\n",
      "En la estación:\n",
      "MED-UDEM\n",
      "CERO_SPAN PREC.\n",
      "Tipo:   *******************\n",
      "/Users/siata/SIATA Dropbox/SGC_Siata_ Aire/01_Gestion_Operativa/03_Registros/HojasVida_FichasTecnicas/ESTACIONES DE AIRE/08_MEDELLIN/MED-UDEM/O3(A)/VERIFICACIONES/2022/07_JULIO/F-GAA-RA-32_MED-UDEM_O3_CSPR_2022-07-13.xlsx\n",
      "Entró al except en la variable:\n",
      "Ozono\n",
      "En la estación:\n",
      "MED-UDEM\n",
      "CERO_SPAN PREC.\n",
      "Tipo:   *******************\n",
      "['/Users/siata/SIATA Dropbox/SGC_Siata_ Aire/01_Gestion_Operativa/03_Registros/HojasVida_FichasTecnicas/ESTACIONES DE AIRE/08_MEDELLIN/MED-MIRA/O3(A)/VERIFICACIONES/2022/07_Julio/F-GAA-RA-32_MED-MIRA_O3_CSPR_2022-07-27.xlsx', '/Users/siata/SIATA Dropbox/SGC_Siata_ Aire/01_Gestion_Operativa/03_Registros/HojasVida_FichasTecnicas/ESTACIONES DE AIRE/08_MEDELLIN/MED-MIRA/O3(A)/VERIFICACIONES/2022/07_Julio/F-GAA-RA-32_MED-MIRA_O3_CSPR_2022-07-13.xlsx']\n",
      "/Users/siata/SIATA Dropbox/SGC_Siata_ Aire/01_Gestion_Operativa/03_Registros/HojasVida_FichasTecnicas/ESTACIONES DE AIRE/08_MEDELLIN/MED-MIRA/O3(A)/VERIFICACIONES/2022/07_Julio/F-GAA-RA-32_MED-MIRA_O3_CSPR_2022-07-27.xlsx\n"
     ]
    },
    {
     "name": "stderr",
     "output_type": "stream",
     "text": [
      "/Users/siata/opt/anaconda3/lib/python3.9/site-packages/openpyxl/worksheet/_reader.py:312: UserWarning: Conditional Formatting extension is not supported and will be removed\n",
      "  warn(msg)\n"
     ]
    },
    {
     "name": "stdout",
     "output_type": "stream",
     "text": [
      "Entró al except en la variable:\n",
      "Ozono\n",
      "En la estación:\n",
      "MED-MIRA\n",
      "CERO_SPAN PREC.\n",
      "Tipo:   *******************\n",
      "/Users/siata/SIATA Dropbox/SGC_Siata_ Aire/01_Gestion_Operativa/03_Registros/HojasVida_FichasTecnicas/ESTACIONES DE AIRE/08_MEDELLIN/MED-MIRA/O3(A)/VERIFICACIONES/2022/07_Julio/F-GAA-RA-32_MED-MIRA_O3_CSPR_2022-07-13.xlsx\n",
      "Entró al except en la variable:\n",
      "Ozono\n",
      "En la estación:\n",
      "MED-MIRA\n",
      "CERO_SPAN PREC.\n",
      "Tipo:   *******************\n",
      "['/Users/siata/SIATA Dropbox/SGC_Siata_ Aire/01_Gestion_Operativa/03_Registros/HojasVida_FichasTecnicas/ESTACIONES DE AIRE/08_MEDELLIN/MED-LAYE/O3(A)/VERIFICACIONES/2022/07_JULIO/F-GAA-RA-32_MED-LAYE_O3_CSPR_2022-07-28.xlsx', '/Users/siata/SIATA Dropbox/SGC_Siata_ Aire/01_Gestion_Operativa/03_Registros/HojasVida_FichasTecnicas/ESTACIONES DE AIRE/08_MEDELLIN/MED-LAYE/O3(A)/VERIFICACIONES/2022/07_JULIO/F-GAA-RA-32_MED-LAYE_O3_CSPR_2022-07-14.xlsx']\n",
      "/Users/siata/SIATA Dropbox/SGC_Siata_ Aire/01_Gestion_Operativa/03_Registros/HojasVida_FichasTecnicas/ESTACIONES DE AIRE/08_MEDELLIN/MED-LAYE/O3(A)/VERIFICACIONES/2022/07_JULIO/F-GAA-RA-32_MED-LAYE_O3_CSPR_2022-07-28.xlsx\n"
     ]
    },
    {
     "name": "stderr",
     "output_type": "stream",
     "text": [
      "/Users/siata/opt/anaconda3/lib/python3.9/site-packages/openpyxl/worksheet/_reader.py:312: UserWarning: Conditional Formatting extension is not supported and will be removed\n",
      "  warn(msg)\n"
     ]
    },
    {
     "name": "stdout",
     "output_type": "stream",
     "text": [
      "Entró al except en la variable:\n",
      "Ozono\n",
      "En la estación:\n",
      "MED-LAYE\n",
      "CERO_SPAN PREC.\n",
      "Tipo:   *******************\n",
      "/Users/siata/SIATA Dropbox/SGC_Siata_ Aire/01_Gestion_Operativa/03_Registros/HojasVida_FichasTecnicas/ESTACIONES DE AIRE/08_MEDELLIN/MED-LAYE/O3(A)/VERIFICACIONES/2022/07_JULIO/F-GAA-RA-32_MED-LAYE_O3_CSPR_2022-07-14.xlsx\n",
      "Entró al except en la variable:\n",
      "Ozono\n",
      "En la estación:\n",
      "MED-LAYE\n",
      "CERO_SPAN PREC.\n",
      "Tipo:   *******************\n",
      "['/Users/siata/SIATA Dropbox/SGC_Siata_ Aire/01_Gestion_Operativa/03_Registros/HojasVida_FichasTecnicas/ESTACIONES DE AIRE/06_ITAGUI/ITA-CONC/O3(A)/VERIFICACIONES/2022/07_Julio/F-GAA-RA-32_ITA-CONC_O3_CSPR_2022-07-12.xlsx', '/Users/siata/SIATA Dropbox/SGC_Siata_ Aire/01_Gestion_Operativa/03_Registros/HojasVida_FichasTecnicas/ESTACIONES DE AIRE/06_ITAGUI/ITA-CONC/O3(A)/VERIFICACIONES/2022/07_Julio/F-GAA-RA-32_ITA-CONC_O3_CSPR_2022-07-26.xlsx']\n",
      "/Users/siata/SIATA Dropbox/SGC_Siata_ Aire/01_Gestion_Operativa/03_Registros/HojasVida_FichasTecnicas/ESTACIONES DE AIRE/06_ITAGUI/ITA-CONC/O3(A)/VERIFICACIONES/2022/07_Julio/F-GAA-RA-32_ITA-CONC_O3_CSPR_2022-07-12.xlsx\n"
     ]
    },
    {
     "name": "stderr",
     "output_type": "stream",
     "text": [
      "/Users/siata/opt/anaconda3/lib/python3.9/site-packages/openpyxl/worksheet/_reader.py:312: UserWarning: Conditional Formatting extension is not supported and will be removed\n",
      "  warn(msg)\n"
     ]
    },
    {
     "name": "stdout",
     "output_type": "stream",
     "text": [
      "Entró al except en la variable:\n",
      "Ozono\n",
      "En la estación:\n",
      "ITA-CONC\n",
      "CERO_SPAN PREC.\n",
      "Tipo:   *******************\n",
      "/Users/siata/SIATA Dropbox/SGC_Siata_ Aire/01_Gestion_Operativa/03_Registros/HojasVida_FichasTecnicas/ESTACIONES DE AIRE/06_ITAGUI/ITA-CONC/O3(A)/VERIFICACIONES/2022/07_Julio/F-GAA-RA-32_ITA-CONC_O3_CSPR_2022-07-26.xlsx\n",
      "Entró al except en la variable:\n",
      "Ozono\n",
      "En la estación:\n",
      "ITA-CONC\n",
      "CERO_SPAN PREC.\n",
      "Tipo:   *******************\n",
      "  Variable   Tipo      Fecha Hora_inicio  Hora_fin  Estacion\n",
      "0      NOx     MP 2022-07-07    11:40:00  14:30:00   GIR-EPM\n",
      "0      NOx     MP 2022-07-05    11:50:00  15:30:00  CEN-TRAF\n",
      "0      NOx     MP 2022-07-07    10:00:00  15:00:00  SUR-TRAF\n",
      "0      NOx  CS_PR 2022-07-21    09:40:00  11:20:00   GIR-EPM\n",
      "0      NOx  CS_PR 2022-07-12    13:05:00  16:24:00  MED-ITMR\n",
      "0      NOx  CS_PR 2022-07-26    09:09:00  13:45:00  MED-ITMR\n",
      "0      NOx  CS_PR 2022-07-25    09:03:00  12:34:00  MED-FISC\n",
      "0      NOx  CS_PR 2022-07-12    09:45:00  11:35:00  MED-FISC\n",
      "0      NOx  CS_PR 2022-07-22    14:45:00  16:15:00  CEN-TRAF\n",
      "0      NOx  CS_PR 2022-07-28    09:00:00  10:40:00  MED-PJIC\n",
      "0      NOx  CS_PR 2022-07-18    13:00:00  15:30:00  MED-PJIC\n",
      "0      NOx  CS_PR 2022-07-12    13:00:00  15:45:00  ITA-CJUS\n",
      "0      NOx  CS_PR 2022-07-26    08:40:00  11:00:00  ITA-CJUS\n",
      "0      NOx  CS_PR 2022-07-21    11:30:00  14:10:00  SUR-TRAF\n",
      "0       CO     MP 2022-07-14    11:00:00  13:00:00   GIR-EPM\n",
      "0       CO     MP 2022-07-07    15:00:00  15:50:00   GIR-EPM\n",
      "0       CO  CS_PR 2022-07-28    10:40:00  12:00:00  MED-PJIC\n",
      "0       CO  CS_PR 2022-07-18    15:30:00  16:50:00  MED-PJIC\n",
      "0      SO2  CS_PR 2022-07-21    11:30:00  12:20:00   GIR-EPM\n",
      "0      SO2  CS_PR 2022-07-07    11:40:00  15:00:00   GIR-EPM\n",
      "0    Ozono     MP 2022-07-01    11:00:00  12:30:00  BAR-PDLA\n",
      "0    Ozono     MP 2022-07-07    10:00:00  11:40:00   GIR-EPM\n",
      "0    Ozono     MP 2022-07-01    14:15:00  15:50:00  BEL-USBV\n",
      "VC\n",
      "****************tipofile*******************\n",
      "['/Users/siata/SIATA Dropbox/SGC_Siata_ Aire/01_Gestion_Operativa/03_Registros/HojasVida_FichasTecnicas/ESTACIONES DE AIRE/01_BARBOSA/BAR-PDLA/O3(A)/VERIFICACIONES/2022/07_Julio/F-GAA-RA-32_BAR-PDLA_O3_MP_2022-07-01.xlsx', '/Users/siata/SIATA Dropbox/SGC_Siata_ Aire/01_Gestion_Operativa/03_Registros/HojasVida_FichasTecnicas/ESTACIONES DE AIRE/01_BARBOSA/BAR-PDLA/O3(A)/VERIFICACIONES/2022/07_Julio/F-GAA-RA-32_BAR-PDLA_O3_CSPR_2022-07-15.xlsx']\n",
      "/Users/siata/SIATA Dropbox/SGC_Siata_ Aire/01_Gestion_Operativa/03_Registros/HojasVida_FichasTecnicas/ESTACIONES DE AIRE/01_BARBOSA/BAR-PDLA/O3(A)/VERIFICACIONES/2022/07_Julio/F-GAA-RA-32_BAR-PDLA_O3_MP_2022-07-01.xlsx\n"
     ]
    },
    {
     "name": "stderr",
     "output_type": "stream",
     "text": [
      "/Users/siata/opt/anaconda3/lib/python3.9/site-packages/openpyxl/worksheet/_reader.py:312: UserWarning: Conditional Formatting extension is not supported and will be removed\n",
      "  warn(msg)\n"
     ]
    },
    {
     "name": "stdout",
     "output_type": "stream",
     "text": [
      "Entró al except en la variable:\n",
      "Ozono\n",
      "En la estación:\n",
      "BAR-PDLA\n",
      "MULTIPUNTO\n",
      "Tipo:   *******************\n",
      "/Users/siata/SIATA Dropbox/SGC_Siata_ Aire/01_Gestion_Operativa/03_Registros/HojasVida_FichasTecnicas/ESTACIONES DE AIRE/01_BARBOSA/BAR-PDLA/O3(A)/VERIFICACIONES/2022/07_Julio/F-GAA-RA-32_BAR-PDLA_O3_CSPR_2022-07-15.xlsx\n",
      "Entró al except en la variable:\n",
      "Ozono\n",
      "En la estación:\n",
      "BAR-PDLA\n",
      "CERO_SPAN PREC.\n",
      "Tipo:   *******************\n",
      "['/Users/siata/SIATA Dropbox/SGC_Siata_ Aire/01_Gestion_Operativa/03_Registros/HojasVida_FichasTecnicas/ESTACIONES DE AIRE/05_GIRARDOTA/GIR-EPM/O3(A)/VERIFICACIONES/2022/07_Julio/F-GAA-RA-32_GIR-EPM_O3_MP_2022-07-07.xlsx', '/Users/siata/SIATA Dropbox/SGC_Siata_ Aire/01_Gestion_Operativa/03_Registros/HojasVida_FichasTecnicas/ESTACIONES DE AIRE/05_GIRARDOTA/GIR-EPM/O3(A)/VERIFICACIONES/2022/07_Julio/F-GAA-RA-32_GIR-EPM_O3_CSPR_2022-07-14.xlsx']\n",
      "/Users/siata/SIATA Dropbox/SGC_Siata_ Aire/01_Gestion_Operativa/03_Registros/HojasVida_FichasTecnicas/ESTACIONES DE AIRE/05_GIRARDOTA/GIR-EPM/O3(A)/VERIFICACIONES/2022/07_Julio/F-GAA-RA-32_GIR-EPM_O3_MP_2022-07-07.xlsx\n"
     ]
    },
    {
     "name": "stderr",
     "output_type": "stream",
     "text": [
      "/Users/siata/opt/anaconda3/lib/python3.9/site-packages/openpyxl/worksheet/_reader.py:312: UserWarning: Conditional Formatting extension is not supported and will be removed\n",
      "  warn(msg)\n"
     ]
    },
    {
     "name": "stdout",
     "output_type": "stream",
     "text": [
      "Entró al except en la variable:\n",
      "Ozono\n",
      "En la estación:\n",
      "GIR-EPM\n",
      "MULTIPUNTO\n",
      "Tipo:   *******************\n",
      "/Users/siata/SIATA Dropbox/SGC_Siata_ Aire/01_Gestion_Operativa/03_Registros/HojasVida_FichasTecnicas/ESTACIONES DE AIRE/05_GIRARDOTA/GIR-EPM/O3(A)/VERIFICACIONES/2022/07_Julio/F-GAA-RA-32_GIR-EPM_O3_CSPR_2022-07-14.xlsx\n",
      "Entró al except en la variable:\n",
      "Ozono\n",
      "En la estación:\n",
      "GIR-EPM\n",
      "CERO_SPAN PREC.\n",
      "Tipo:   *******************\n",
      "['/Users/siata/SIATA Dropbox/SGC_Siata_ Aire/01_Gestion_Operativa/03_Registros/HojasVida_FichasTecnicas/ESTACIONES DE AIRE/02_BELLO/BEL-USBV/O3(A)/VERIFICACIONES/2022/07_Julio/F-GAA-RA-33_BEL-USBV_O3_CSPR_2022-07-15.xlsx', '/Users/siata/SIATA Dropbox/SGC_Siata_ Aire/01_Gestion_Operativa/03_Registros/HojasVida_FichasTecnicas/ESTACIONES DE AIRE/02_BELLO/BEL-USBV/O3(A)/VERIFICACIONES/2022/07_Julio/F-GAA-RA-33_BEL-USBV_O3_MP_2022-07-01.xlsx']\n",
      "/Users/siata/SIATA Dropbox/SGC_Siata_ Aire/01_Gestion_Operativa/03_Registros/HojasVida_FichasTecnicas/ESTACIONES DE AIRE/02_BELLO/BEL-USBV/O3(A)/VERIFICACIONES/2022/07_Julio/F-GAA-RA-33_BEL-USBV_O3_CSPR_2022-07-15.xlsx\n"
     ]
    },
    {
     "name": "stderr",
     "output_type": "stream",
     "text": [
      "/Users/siata/opt/anaconda3/lib/python3.9/site-packages/openpyxl/worksheet/_reader.py:312: UserWarning: Conditional Formatting extension is not supported and will be removed\n",
      "  warn(msg)\n",
      "/Users/siata/opt/anaconda3/lib/python3.9/site-packages/openpyxl/worksheet/_reader.py:312: UserWarning: Unknown extension is not supported and will be removed\n",
      "  warn(msg)\n"
     ]
    },
    {
     "name": "stdout",
     "output_type": "stream",
     "text": [
      "Entró al except en la variable:\n",
      "Ozono\n",
      "En la estación:\n",
      "BEL-USBV\n",
      "CERO_SPAN PREC.\n",
      "Tipo:   *******************\n",
      "/Users/siata/SIATA Dropbox/SGC_Siata_ Aire/01_Gestion_Operativa/03_Registros/HojasVida_FichasTecnicas/ESTACIONES DE AIRE/02_BELLO/BEL-USBV/O3(A)/VERIFICACIONES/2022/07_Julio/F-GAA-RA-33_BEL-USBV_O3_MP_2022-07-01.xlsx\n",
      "Entró al except en la variable:\n",
      "Ozono\n",
      "En la estación:\n",
      "BEL-USBV\n",
      "MULTIPUNTO\n",
      "Tipo:   *******************\n",
      "['/Users/siata/SIATA Dropbox/SGC_Siata_ Aire/01_Gestion_Operativa/03_Registros/HojasVida_FichasTecnicas/ESTACIONES DE AIRE/08_MEDELLIN/MED-FISC/O3(A)/VERIFICACIONES/2022/07_JULIO/F-GAA-RA-32_MED-FISC_O3_CSPR_2022-07-12.xlsx', '/Users/siata/SIATA Dropbox/SGC_Siata_ Aire/01_Gestion_Operativa/03_Registros/HojasVida_FichasTecnicas/ESTACIONES DE AIRE/08_MEDELLIN/MED-FISC/O3(A)/VERIFICACIONES/2022/07_JULIO/F-GAA-RA-32_MED-FISC_O3_CSPR_2022-07-25.xlsx']\n",
      "/Users/siata/SIATA Dropbox/SGC_Siata_ Aire/01_Gestion_Operativa/03_Registros/HojasVida_FichasTecnicas/ESTACIONES DE AIRE/08_MEDELLIN/MED-FISC/O3(A)/VERIFICACIONES/2022/07_JULIO/F-GAA-RA-32_MED-FISC_O3_CSPR_2022-07-12.xlsx\n"
     ]
    },
    {
     "name": "stderr",
     "output_type": "stream",
     "text": [
      "/Users/siata/opt/anaconda3/lib/python3.9/site-packages/openpyxl/worksheet/_reader.py:312: UserWarning: Conditional Formatting extension is not supported and will be removed\n",
      "  warn(msg)\n"
     ]
    },
    {
     "name": "stdout",
     "output_type": "stream",
     "text": [
      "Entró al except en la variable:\n",
      "Ozono\n",
      "En la estación:\n",
      "MED-FISC\n",
      "CERO_SPAN PREC.\n",
      "Tipo:   *******************\n",
      "/Users/siata/SIATA Dropbox/SGC_Siata_ Aire/01_Gestion_Operativa/03_Registros/HojasVida_FichasTecnicas/ESTACIONES DE AIRE/08_MEDELLIN/MED-FISC/O3(A)/VERIFICACIONES/2022/07_JULIO/F-GAA-RA-32_MED-FISC_O3_CSPR_2022-07-25.xlsx\n",
      "Entró al except en la variable:\n",
      "Ozono\n",
      "En la estación:\n",
      "MED-FISC\n",
      "CERO_SPAN PREC.\n",
      "Tipo:   *******************\n",
      "['/Users/siata/SIATA Dropbox/SGC_Siata_ Aire/01_Gestion_Operativa/03_Registros/HojasVida_FichasTecnicas/ESTACIONES DE AIRE/08_MEDELLIN/MED-UDEM/O3(A)/VERIFICACIONES/2022/07_JULIO/F-GAA-RA-32_MED-UDEM_O3_CSPR_2022-07-27.xlsx', '/Users/siata/SIATA Dropbox/SGC_Siata_ Aire/01_Gestion_Operativa/03_Registros/HojasVida_FichasTecnicas/ESTACIONES DE AIRE/08_MEDELLIN/MED-UDEM/O3(A)/VERIFICACIONES/2022/07_JULIO/F-GAA-RA-32_MED-UDEM_O3_CSPR_2022-07-13.xlsx']\n",
      "/Users/siata/SIATA Dropbox/SGC_Siata_ Aire/01_Gestion_Operativa/03_Registros/HojasVida_FichasTecnicas/ESTACIONES DE AIRE/08_MEDELLIN/MED-UDEM/O3(A)/VERIFICACIONES/2022/07_JULIO/F-GAA-RA-32_MED-UDEM_O3_CSPR_2022-07-27.xlsx\n"
     ]
    },
    {
     "name": "stderr",
     "output_type": "stream",
     "text": [
      "/Users/siata/opt/anaconda3/lib/python3.9/site-packages/openpyxl/worksheet/_reader.py:312: UserWarning: Conditional Formatting extension is not supported and will be removed\n",
      "  warn(msg)\n"
     ]
    },
    {
     "name": "stdout",
     "output_type": "stream",
     "text": [
      "Entró al except en la variable:\n",
      "Ozono\n",
      "En la estación:\n",
      "MED-UDEM\n",
      "CERO_SPAN PREC.\n",
      "Tipo:   *******************\n",
      "/Users/siata/SIATA Dropbox/SGC_Siata_ Aire/01_Gestion_Operativa/03_Registros/HojasVida_FichasTecnicas/ESTACIONES DE AIRE/08_MEDELLIN/MED-UDEM/O3(A)/VERIFICACIONES/2022/07_JULIO/F-GAA-RA-32_MED-UDEM_O3_CSPR_2022-07-13.xlsx\n",
      "Entró al except en la variable:\n",
      "Ozono\n",
      "En la estación:\n",
      "MED-UDEM\n",
      "CERO_SPAN PREC.\n",
      "Tipo:   *******************\n",
      "['/Users/siata/SIATA Dropbox/SGC_Siata_ Aire/01_Gestion_Operativa/03_Registros/HojasVida_FichasTecnicas/ESTACIONES DE AIRE/08_MEDELLIN/MED-MIRA/O3(A)/VERIFICACIONES/2022/07_Julio/F-GAA-RA-32_MED-MIRA_O3_CSPR_2022-07-27.xlsx', '/Users/siata/SIATA Dropbox/SGC_Siata_ Aire/01_Gestion_Operativa/03_Registros/HojasVida_FichasTecnicas/ESTACIONES DE AIRE/08_MEDELLIN/MED-MIRA/O3(A)/VERIFICACIONES/2022/07_Julio/F-GAA-RA-32_MED-MIRA_O3_CSPR_2022-07-13.xlsx']\n",
      "/Users/siata/SIATA Dropbox/SGC_Siata_ Aire/01_Gestion_Operativa/03_Registros/HojasVida_FichasTecnicas/ESTACIONES DE AIRE/08_MEDELLIN/MED-MIRA/O3(A)/VERIFICACIONES/2022/07_Julio/F-GAA-RA-32_MED-MIRA_O3_CSPR_2022-07-27.xlsx\n"
     ]
    },
    {
     "name": "stderr",
     "output_type": "stream",
     "text": [
      "/Users/siata/opt/anaconda3/lib/python3.9/site-packages/openpyxl/worksheet/_reader.py:312: UserWarning: Conditional Formatting extension is not supported and will be removed\n",
      "  warn(msg)\n"
     ]
    },
    {
     "name": "stdout",
     "output_type": "stream",
     "text": [
      "Entró al except en la variable:\n",
      "Ozono\n",
      "En la estación:\n",
      "MED-MIRA\n",
      "CERO_SPAN PREC.\n",
      "Tipo:   *******************\n",
      "/Users/siata/SIATA Dropbox/SGC_Siata_ Aire/01_Gestion_Operativa/03_Registros/HojasVida_FichasTecnicas/ESTACIONES DE AIRE/08_MEDELLIN/MED-MIRA/O3(A)/VERIFICACIONES/2022/07_Julio/F-GAA-RA-32_MED-MIRA_O3_CSPR_2022-07-13.xlsx\n",
      "Entró al except en la variable:\n",
      "Ozono\n",
      "En la estación:\n",
      "MED-MIRA\n",
      "CERO_SPAN PREC.\n",
      "Tipo:   *******************\n",
      "['/Users/siata/SIATA Dropbox/SGC_Siata_ Aire/01_Gestion_Operativa/03_Registros/HojasVida_FichasTecnicas/ESTACIONES DE AIRE/08_MEDELLIN/MED-LAYE/O3(A)/VERIFICACIONES/2022/07_JULIO/F-GAA-RA-32_MED-LAYE_O3_CSPR_2022-07-28.xlsx', '/Users/siata/SIATA Dropbox/SGC_Siata_ Aire/01_Gestion_Operativa/03_Registros/HojasVida_FichasTecnicas/ESTACIONES DE AIRE/08_MEDELLIN/MED-LAYE/O3(A)/VERIFICACIONES/2022/07_JULIO/F-GAA-RA-32_MED-LAYE_O3_CSPR_2022-07-14.xlsx']\n",
      "/Users/siata/SIATA Dropbox/SGC_Siata_ Aire/01_Gestion_Operativa/03_Registros/HojasVida_FichasTecnicas/ESTACIONES DE AIRE/08_MEDELLIN/MED-LAYE/O3(A)/VERIFICACIONES/2022/07_JULIO/F-GAA-RA-32_MED-LAYE_O3_CSPR_2022-07-28.xlsx\n"
     ]
    },
    {
     "name": "stderr",
     "output_type": "stream",
     "text": [
      "/Users/siata/opt/anaconda3/lib/python3.9/site-packages/openpyxl/worksheet/_reader.py:312: UserWarning: Conditional Formatting extension is not supported and will be removed\n",
      "  warn(msg)\n"
     ]
    },
    {
     "name": "stdout",
     "output_type": "stream",
     "text": [
      "Entró al except en la variable:\n",
      "Ozono\n",
      "En la estación:\n",
      "MED-LAYE\n",
      "CERO_SPAN PREC.\n",
      "Tipo:   *******************\n",
      "/Users/siata/SIATA Dropbox/SGC_Siata_ Aire/01_Gestion_Operativa/03_Registros/HojasVida_FichasTecnicas/ESTACIONES DE AIRE/08_MEDELLIN/MED-LAYE/O3(A)/VERIFICACIONES/2022/07_JULIO/F-GAA-RA-32_MED-LAYE_O3_CSPR_2022-07-14.xlsx\n",
      "Entró al except en la variable:\n",
      "Ozono\n",
      "En la estación:\n",
      "MED-LAYE\n",
      "CERO_SPAN PREC.\n",
      "Tipo:   *******************\n",
      "['/Users/siata/SIATA Dropbox/SGC_Siata_ Aire/01_Gestion_Operativa/03_Registros/HojasVida_FichasTecnicas/ESTACIONES DE AIRE/06_ITAGUI/ITA-CONC/O3(A)/VERIFICACIONES/2022/07_Julio/F-GAA-RA-32_ITA-CONC_O3_CSPR_2022-07-12.xlsx', '/Users/siata/SIATA Dropbox/SGC_Siata_ Aire/01_Gestion_Operativa/03_Registros/HojasVida_FichasTecnicas/ESTACIONES DE AIRE/06_ITAGUI/ITA-CONC/O3(A)/VERIFICACIONES/2022/07_Julio/F-GAA-RA-32_ITA-CONC_O3_CSPR_2022-07-26.xlsx']\n",
      "/Users/siata/SIATA Dropbox/SGC_Siata_ Aire/01_Gestion_Operativa/03_Registros/HojasVida_FichasTecnicas/ESTACIONES DE AIRE/06_ITAGUI/ITA-CONC/O3(A)/VERIFICACIONES/2022/07_Julio/F-GAA-RA-32_ITA-CONC_O3_CSPR_2022-07-12.xlsx\n"
     ]
    },
    {
     "name": "stderr",
     "output_type": "stream",
     "text": [
      "/Users/siata/opt/anaconda3/lib/python3.9/site-packages/openpyxl/worksheet/_reader.py:312: UserWarning: Conditional Formatting extension is not supported and will be removed\n",
      "  warn(msg)\n"
     ]
    },
    {
     "name": "stdout",
     "output_type": "stream",
     "text": [
      "Entró al except en la variable:\n",
      "Ozono\n",
      "En la estación:\n",
      "ITA-CONC\n",
      "CERO_SPAN PREC.\n",
      "Tipo:   *******************\n",
      "/Users/siata/SIATA Dropbox/SGC_Siata_ Aire/01_Gestion_Operativa/03_Registros/HojasVida_FichasTecnicas/ESTACIONES DE AIRE/06_ITAGUI/ITA-CONC/O3(A)/VERIFICACIONES/2022/07_Julio/F-GAA-RA-32_ITA-CONC_O3_CSPR_2022-07-26.xlsx\n",
      "Entró al except en la variable:\n",
      "Ozono\n",
      "En la estación:\n",
      "ITA-CONC\n",
      "CERO_SPAN PREC.\n",
      "Tipo:   *******************\n",
      "  Variable   Tipo      Fecha Hora_inicio  Hora_fin  Estacion\n",
      "0      NOx     MP 2022-07-07    11:40:00  14:30:00   GIR-EPM\n",
      "0      NOx     MP 2022-07-05    11:50:00  15:30:00  CEN-TRAF\n",
      "0      NOx     MP 2022-07-07    10:00:00  15:00:00  SUR-TRAF\n",
      "0      NOx  CS_PR 2022-07-21    09:40:00  11:20:00   GIR-EPM\n",
      "0      NOx  CS_PR 2022-07-12    13:05:00  16:24:00  MED-ITMR\n",
      "0      NOx  CS_PR 2022-07-26    09:09:00  13:45:00  MED-ITMR\n",
      "0      NOx  CS_PR 2022-07-25    09:03:00  12:34:00  MED-FISC\n",
      "0      NOx  CS_PR 2022-07-12    09:45:00  11:35:00  MED-FISC\n",
      "0      NOx  CS_PR 2022-07-22    14:45:00  16:15:00  CEN-TRAF\n",
      "0      NOx  CS_PR 2022-07-28    09:00:00  10:40:00  MED-PJIC\n",
      "0      NOx  CS_PR 2022-07-18    13:00:00  15:30:00  MED-PJIC\n",
      "0      NOx  CS_PR 2022-07-12    13:00:00  15:45:00  ITA-CJUS\n",
      "0      NOx  CS_PR 2022-07-26    08:40:00  11:00:00  ITA-CJUS\n",
      "0      NOx  CS_PR 2022-07-21    11:30:00  14:10:00  SUR-TRAF\n",
      "0       CO     MP 2022-07-14    11:00:00  13:00:00   GIR-EPM\n",
      "0       CO     MP 2022-07-07    15:00:00  15:50:00   GIR-EPM\n",
      "0       CO  CS_PR 2022-07-28    10:40:00  12:00:00  MED-PJIC\n",
      "0       CO  CS_PR 2022-07-18    15:30:00  16:50:00  MED-PJIC\n",
      "0      SO2  CS_PR 2022-07-21    11:30:00  12:20:00   GIR-EPM\n",
      "0      SO2  CS_PR 2022-07-07    11:40:00  15:00:00   GIR-EPM\n",
      "0    Ozono     MP 2022-07-01    11:00:00  12:30:00  BAR-PDLA\n",
      "0    Ozono     MP 2022-07-07    10:00:00  11:40:00   GIR-EPM\n",
      "0    Ozono     MP 2022-07-01    14:15:00  15:50:00  BEL-USBV\n",
      "CS_PR\n",
      "****************tipofile*******************\n",
      "['/Users/siata/SIATA Dropbox/SGC_Siata_ Aire/01_Gestion_Operativa/03_Registros/HojasVida_FichasTecnicas/ESTACIONES DE AIRE/01_BARBOSA/BAR-PDLA/O3(A)/VERIFICACIONES/2022/07_Julio/F-GAA-RA-32_BAR-PDLA_O3_MP_2022-07-01.xlsx', '/Users/siata/SIATA Dropbox/SGC_Siata_ Aire/01_Gestion_Operativa/03_Registros/HojasVida_FichasTecnicas/ESTACIONES DE AIRE/01_BARBOSA/BAR-PDLA/O3(A)/VERIFICACIONES/2022/07_Julio/F-GAA-RA-32_BAR-PDLA_O3_CSPR_2022-07-15.xlsx']\n",
      "/Users/siata/SIATA Dropbox/SGC_Siata_ Aire/01_Gestion_Operativa/03_Registros/HojasVida_FichasTecnicas/ESTACIONES DE AIRE/01_BARBOSA/BAR-PDLA/O3(A)/VERIFICACIONES/2022/07_Julio/F-GAA-RA-32_BAR-PDLA_O3_MP_2022-07-01.xlsx\n"
     ]
    },
    {
     "name": "stderr",
     "output_type": "stream",
     "text": [
      "/Users/siata/opt/anaconda3/lib/python3.9/site-packages/openpyxl/worksheet/_reader.py:312: UserWarning: Conditional Formatting extension is not supported and will be removed\n",
      "  warn(msg)\n"
     ]
    },
    {
     "name": "stdout",
     "output_type": "stream",
     "text": [
      "Entró al except en la variable:\n",
      "Ozono\n",
      "En la estación:\n",
      "BAR-PDLA\n",
      "MULTIPUNTO\n",
      "Tipo:   *******************\n",
      "/Users/siata/SIATA Dropbox/SGC_Siata_ Aire/01_Gestion_Operativa/03_Registros/HojasVida_FichasTecnicas/ESTACIONES DE AIRE/01_BARBOSA/BAR-PDLA/O3(A)/VERIFICACIONES/2022/07_Julio/F-GAA-RA-32_BAR-PDLA_O3_CSPR_2022-07-15.xlsx\n",
      "Entró al except en la variable:\n",
      "Ozono\n",
      "En la estación:\n",
      "BAR-PDLA\n",
      "CERO_SPAN PREC.\n",
      "Tipo:   *******************\n",
      "['/Users/siata/SIATA Dropbox/SGC_Siata_ Aire/01_Gestion_Operativa/03_Registros/HojasVida_FichasTecnicas/ESTACIONES DE AIRE/05_GIRARDOTA/GIR-EPM/O3(A)/VERIFICACIONES/2022/07_Julio/F-GAA-RA-32_GIR-EPM_O3_MP_2022-07-07.xlsx', '/Users/siata/SIATA Dropbox/SGC_Siata_ Aire/01_Gestion_Operativa/03_Registros/HojasVida_FichasTecnicas/ESTACIONES DE AIRE/05_GIRARDOTA/GIR-EPM/O3(A)/VERIFICACIONES/2022/07_Julio/F-GAA-RA-32_GIR-EPM_O3_CSPR_2022-07-14.xlsx']\n",
      "/Users/siata/SIATA Dropbox/SGC_Siata_ Aire/01_Gestion_Operativa/03_Registros/HojasVida_FichasTecnicas/ESTACIONES DE AIRE/05_GIRARDOTA/GIR-EPM/O3(A)/VERIFICACIONES/2022/07_Julio/F-GAA-RA-32_GIR-EPM_O3_MP_2022-07-07.xlsx\n"
     ]
    },
    {
     "name": "stderr",
     "output_type": "stream",
     "text": [
      "/Users/siata/opt/anaconda3/lib/python3.9/site-packages/openpyxl/worksheet/_reader.py:312: UserWarning: Conditional Formatting extension is not supported and will be removed\n",
      "  warn(msg)\n"
     ]
    },
    {
     "name": "stdout",
     "output_type": "stream",
     "text": [
      "Entró al except en la variable:\n",
      "Ozono\n",
      "En la estación:\n",
      "GIR-EPM\n",
      "MULTIPUNTO\n",
      "Tipo:   *******************\n",
      "/Users/siata/SIATA Dropbox/SGC_Siata_ Aire/01_Gestion_Operativa/03_Registros/HojasVida_FichasTecnicas/ESTACIONES DE AIRE/05_GIRARDOTA/GIR-EPM/O3(A)/VERIFICACIONES/2022/07_Julio/F-GAA-RA-32_GIR-EPM_O3_CSPR_2022-07-14.xlsx\n",
      "Entró al except en la variable:\n",
      "Ozono\n",
      "En la estación:\n",
      "GIR-EPM\n",
      "CERO_SPAN PREC.\n",
      "Tipo:   *******************\n",
      "['/Users/siata/SIATA Dropbox/SGC_Siata_ Aire/01_Gestion_Operativa/03_Registros/HojasVida_FichasTecnicas/ESTACIONES DE AIRE/02_BELLO/BEL-USBV/O3(A)/VERIFICACIONES/2022/07_Julio/F-GAA-RA-33_BEL-USBV_O3_CSPR_2022-07-15.xlsx', '/Users/siata/SIATA Dropbox/SGC_Siata_ Aire/01_Gestion_Operativa/03_Registros/HojasVida_FichasTecnicas/ESTACIONES DE AIRE/02_BELLO/BEL-USBV/O3(A)/VERIFICACIONES/2022/07_Julio/F-GAA-RA-33_BEL-USBV_O3_MP_2022-07-01.xlsx']\n",
      "/Users/siata/SIATA Dropbox/SGC_Siata_ Aire/01_Gestion_Operativa/03_Registros/HojasVida_FichasTecnicas/ESTACIONES DE AIRE/02_BELLO/BEL-USBV/O3(A)/VERIFICACIONES/2022/07_Julio/F-GAA-RA-33_BEL-USBV_O3_CSPR_2022-07-15.xlsx\n"
     ]
    },
    {
     "name": "stderr",
     "output_type": "stream",
     "text": [
      "/Users/siata/opt/anaconda3/lib/python3.9/site-packages/openpyxl/worksheet/_reader.py:312: UserWarning: Conditional Formatting extension is not supported and will be removed\n",
      "  warn(msg)\n",
      "/Users/siata/opt/anaconda3/lib/python3.9/site-packages/openpyxl/worksheet/_reader.py:312: UserWarning: Unknown extension is not supported and will be removed\n",
      "  warn(msg)\n"
     ]
    },
    {
     "name": "stdout",
     "output_type": "stream",
     "text": [
      "Entró al except en la variable:\n",
      "Ozono\n",
      "En la estación:\n",
      "BEL-USBV\n",
      "CERO_SPAN PREC.\n",
      "Tipo:   *******************\n",
      "/Users/siata/SIATA Dropbox/SGC_Siata_ Aire/01_Gestion_Operativa/03_Registros/HojasVida_FichasTecnicas/ESTACIONES DE AIRE/02_BELLO/BEL-USBV/O3(A)/VERIFICACIONES/2022/07_Julio/F-GAA-RA-33_BEL-USBV_O3_MP_2022-07-01.xlsx\n",
      "Entró al except en la variable:\n",
      "Ozono\n",
      "En la estación:\n",
      "BEL-USBV\n",
      "MULTIPUNTO\n",
      "Tipo:   *******************\n",
      "['/Users/siata/SIATA Dropbox/SGC_Siata_ Aire/01_Gestion_Operativa/03_Registros/HojasVida_FichasTecnicas/ESTACIONES DE AIRE/08_MEDELLIN/MED-FISC/O3(A)/VERIFICACIONES/2022/07_JULIO/F-GAA-RA-32_MED-FISC_O3_CSPR_2022-07-12.xlsx', '/Users/siata/SIATA Dropbox/SGC_Siata_ Aire/01_Gestion_Operativa/03_Registros/HojasVida_FichasTecnicas/ESTACIONES DE AIRE/08_MEDELLIN/MED-FISC/O3(A)/VERIFICACIONES/2022/07_JULIO/F-GAA-RA-32_MED-FISC_O3_CSPR_2022-07-25.xlsx']\n",
      "/Users/siata/SIATA Dropbox/SGC_Siata_ Aire/01_Gestion_Operativa/03_Registros/HojasVida_FichasTecnicas/ESTACIONES DE AIRE/08_MEDELLIN/MED-FISC/O3(A)/VERIFICACIONES/2022/07_JULIO/F-GAA-RA-32_MED-FISC_O3_CSPR_2022-07-12.xlsx\n"
     ]
    },
    {
     "name": "stderr",
     "output_type": "stream",
     "text": [
      "/Users/siata/opt/anaconda3/lib/python3.9/site-packages/openpyxl/worksheet/_reader.py:312: UserWarning: Conditional Formatting extension is not supported and will be removed\n",
      "  warn(msg)\n"
     ]
    },
    {
     "name": "stdout",
     "output_type": "stream",
     "text": [
      "Entró al except en la variable:\n",
      "Ozono\n",
      "En la estación:\n",
      "MED-FISC\n",
      "CERO_SPAN PREC.\n",
      "Tipo:   *******************\n",
      "/Users/siata/SIATA Dropbox/SGC_Siata_ Aire/01_Gestion_Operativa/03_Registros/HojasVida_FichasTecnicas/ESTACIONES DE AIRE/08_MEDELLIN/MED-FISC/O3(A)/VERIFICACIONES/2022/07_JULIO/F-GAA-RA-32_MED-FISC_O3_CSPR_2022-07-25.xlsx\n",
      "Entró al except en la variable:\n",
      "Ozono\n",
      "En la estación:\n",
      "MED-FISC\n",
      "CERO_SPAN PREC.\n",
      "Tipo:   *******************\n",
      "['/Users/siata/SIATA Dropbox/SGC_Siata_ Aire/01_Gestion_Operativa/03_Registros/HojasVida_FichasTecnicas/ESTACIONES DE AIRE/08_MEDELLIN/MED-UDEM/O3(A)/VERIFICACIONES/2022/07_JULIO/F-GAA-RA-32_MED-UDEM_O3_CSPR_2022-07-27.xlsx', '/Users/siata/SIATA Dropbox/SGC_Siata_ Aire/01_Gestion_Operativa/03_Registros/HojasVida_FichasTecnicas/ESTACIONES DE AIRE/08_MEDELLIN/MED-UDEM/O3(A)/VERIFICACIONES/2022/07_JULIO/F-GAA-RA-32_MED-UDEM_O3_CSPR_2022-07-13.xlsx']\n",
      "/Users/siata/SIATA Dropbox/SGC_Siata_ Aire/01_Gestion_Operativa/03_Registros/HojasVida_FichasTecnicas/ESTACIONES DE AIRE/08_MEDELLIN/MED-UDEM/O3(A)/VERIFICACIONES/2022/07_JULIO/F-GAA-RA-32_MED-UDEM_O3_CSPR_2022-07-27.xlsx\n"
     ]
    },
    {
     "name": "stderr",
     "output_type": "stream",
     "text": [
      "/Users/siata/opt/anaconda3/lib/python3.9/site-packages/openpyxl/worksheet/_reader.py:312: UserWarning: Conditional Formatting extension is not supported and will be removed\n",
      "  warn(msg)\n"
     ]
    },
    {
     "name": "stdout",
     "output_type": "stream",
     "text": [
      "Entró al except en la variable:\n",
      "Ozono\n",
      "En la estación:\n",
      "MED-UDEM\n",
      "CERO_SPAN PREC.\n",
      "Tipo:   *******************\n",
      "/Users/siata/SIATA Dropbox/SGC_Siata_ Aire/01_Gestion_Operativa/03_Registros/HojasVida_FichasTecnicas/ESTACIONES DE AIRE/08_MEDELLIN/MED-UDEM/O3(A)/VERIFICACIONES/2022/07_JULIO/F-GAA-RA-32_MED-UDEM_O3_CSPR_2022-07-13.xlsx\n",
      "Entró al except en la variable:\n",
      "Ozono\n",
      "En la estación:\n",
      "MED-UDEM\n",
      "CERO_SPAN PREC.\n",
      "Tipo:   *******************\n",
      "['/Users/siata/SIATA Dropbox/SGC_Siata_ Aire/01_Gestion_Operativa/03_Registros/HojasVida_FichasTecnicas/ESTACIONES DE AIRE/08_MEDELLIN/MED-MIRA/O3(A)/VERIFICACIONES/2022/07_Julio/F-GAA-RA-32_MED-MIRA_O3_CSPR_2022-07-27.xlsx', '/Users/siata/SIATA Dropbox/SGC_Siata_ Aire/01_Gestion_Operativa/03_Registros/HojasVida_FichasTecnicas/ESTACIONES DE AIRE/08_MEDELLIN/MED-MIRA/O3(A)/VERIFICACIONES/2022/07_Julio/F-GAA-RA-32_MED-MIRA_O3_CSPR_2022-07-13.xlsx']\n",
      "/Users/siata/SIATA Dropbox/SGC_Siata_ Aire/01_Gestion_Operativa/03_Registros/HojasVida_FichasTecnicas/ESTACIONES DE AIRE/08_MEDELLIN/MED-MIRA/O3(A)/VERIFICACIONES/2022/07_Julio/F-GAA-RA-32_MED-MIRA_O3_CSPR_2022-07-27.xlsx\n"
     ]
    },
    {
     "name": "stderr",
     "output_type": "stream",
     "text": [
      "/Users/siata/opt/anaconda3/lib/python3.9/site-packages/openpyxl/worksheet/_reader.py:312: UserWarning: Conditional Formatting extension is not supported and will be removed\n",
      "  warn(msg)\n"
     ]
    },
    {
     "name": "stdout",
     "output_type": "stream",
     "text": [
      "Entró al except en la variable:\n",
      "Ozono\n",
      "En la estación:\n",
      "MED-MIRA\n",
      "CERO_SPAN PREC.\n",
      "Tipo:   *******************\n",
      "/Users/siata/SIATA Dropbox/SGC_Siata_ Aire/01_Gestion_Operativa/03_Registros/HojasVida_FichasTecnicas/ESTACIONES DE AIRE/08_MEDELLIN/MED-MIRA/O3(A)/VERIFICACIONES/2022/07_Julio/F-GAA-RA-32_MED-MIRA_O3_CSPR_2022-07-13.xlsx\n",
      "Entró al except en la variable:\n",
      "Ozono\n",
      "En la estación:\n",
      "MED-MIRA\n",
      "CERO_SPAN PREC.\n",
      "Tipo:   *******************\n",
      "['/Users/siata/SIATA Dropbox/SGC_Siata_ Aire/01_Gestion_Operativa/03_Registros/HojasVida_FichasTecnicas/ESTACIONES DE AIRE/08_MEDELLIN/MED-LAYE/O3(A)/VERIFICACIONES/2022/07_JULIO/F-GAA-RA-32_MED-LAYE_O3_CSPR_2022-07-28.xlsx', '/Users/siata/SIATA Dropbox/SGC_Siata_ Aire/01_Gestion_Operativa/03_Registros/HojasVida_FichasTecnicas/ESTACIONES DE AIRE/08_MEDELLIN/MED-LAYE/O3(A)/VERIFICACIONES/2022/07_JULIO/F-GAA-RA-32_MED-LAYE_O3_CSPR_2022-07-14.xlsx']\n",
      "/Users/siata/SIATA Dropbox/SGC_Siata_ Aire/01_Gestion_Operativa/03_Registros/HojasVida_FichasTecnicas/ESTACIONES DE AIRE/08_MEDELLIN/MED-LAYE/O3(A)/VERIFICACIONES/2022/07_JULIO/F-GAA-RA-32_MED-LAYE_O3_CSPR_2022-07-28.xlsx\n"
     ]
    },
    {
     "name": "stderr",
     "output_type": "stream",
     "text": [
      "/Users/siata/opt/anaconda3/lib/python3.9/site-packages/openpyxl/worksheet/_reader.py:312: UserWarning: Conditional Formatting extension is not supported and will be removed\n",
      "  warn(msg)\n"
     ]
    },
    {
     "name": "stdout",
     "output_type": "stream",
     "text": [
      "Entró al except en la variable:\n",
      "Ozono\n",
      "En la estación:\n",
      "MED-LAYE\n",
      "CERO_SPAN PREC.\n",
      "Tipo:   *******************\n",
      "/Users/siata/SIATA Dropbox/SGC_Siata_ Aire/01_Gestion_Operativa/03_Registros/HojasVida_FichasTecnicas/ESTACIONES DE AIRE/08_MEDELLIN/MED-LAYE/O3(A)/VERIFICACIONES/2022/07_JULIO/F-GAA-RA-32_MED-LAYE_O3_CSPR_2022-07-14.xlsx\n",
      "Entró al except en la variable:\n",
      "Ozono\n",
      "En la estación:\n",
      "MED-LAYE\n",
      "CERO_SPAN PREC.\n",
      "Tipo:   *******************\n",
      "['/Users/siata/SIATA Dropbox/SGC_Siata_ Aire/01_Gestion_Operativa/03_Registros/HojasVida_FichasTecnicas/ESTACIONES DE AIRE/06_ITAGUI/ITA-CONC/O3(A)/VERIFICACIONES/2022/07_Julio/F-GAA-RA-32_ITA-CONC_O3_CSPR_2022-07-12.xlsx', '/Users/siata/SIATA Dropbox/SGC_Siata_ Aire/01_Gestion_Operativa/03_Registros/HojasVida_FichasTecnicas/ESTACIONES DE AIRE/06_ITAGUI/ITA-CONC/O3(A)/VERIFICACIONES/2022/07_Julio/F-GAA-RA-32_ITA-CONC_O3_CSPR_2022-07-26.xlsx']\n",
      "/Users/siata/SIATA Dropbox/SGC_Siata_ Aire/01_Gestion_Operativa/03_Registros/HojasVida_FichasTecnicas/ESTACIONES DE AIRE/06_ITAGUI/ITA-CONC/O3(A)/VERIFICACIONES/2022/07_Julio/F-GAA-RA-32_ITA-CONC_O3_CSPR_2022-07-12.xlsx\n"
     ]
    },
    {
     "name": "stderr",
     "output_type": "stream",
     "text": [
      "/Users/siata/opt/anaconda3/lib/python3.9/site-packages/openpyxl/worksheet/_reader.py:312: UserWarning: Conditional Formatting extension is not supported and will be removed\n",
      "  warn(msg)\n"
     ]
    },
    {
     "name": "stdout",
     "output_type": "stream",
     "text": [
      "Entró al except en la variable:\n",
      "Ozono\n",
      "En la estación:\n",
      "ITA-CONC\n",
      "CERO_SPAN PREC.\n",
      "Tipo:   *******************\n",
      "/Users/siata/SIATA Dropbox/SGC_Siata_ Aire/01_Gestion_Operativa/03_Registros/HojasVida_FichasTecnicas/ESTACIONES DE AIRE/06_ITAGUI/ITA-CONC/O3(A)/VERIFICACIONES/2022/07_Julio/F-GAA-RA-32_ITA-CONC_O3_CSPR_2022-07-26.xlsx\n",
      "Entró al except en la variable:\n",
      "Ozono\n",
      "En la estación:\n",
      "ITA-CONC\n",
      "CERO_SPAN PREC.\n",
      "Tipo:   *******************\n",
      "  Variable   Tipo      Fecha Hora_inicio  Hora_fin  Estacion\n",
      "0      NOx     MP 2022-07-07    11:40:00  14:30:00   GIR-EPM\n",
      "0      NOx     MP 2022-07-05    11:50:00  15:30:00  CEN-TRAF\n",
      "0      NOx     MP 2022-07-07    10:00:00  15:00:00  SUR-TRAF\n",
      "0      NOx  CS_PR 2022-07-21    09:40:00  11:20:00   GIR-EPM\n",
      "0      NOx  CS_PR 2022-07-12    13:05:00  16:24:00  MED-ITMR\n",
      "0      NOx  CS_PR 2022-07-26    09:09:00  13:45:00  MED-ITMR\n",
      "0      NOx  CS_PR 2022-07-25    09:03:00  12:34:00  MED-FISC\n",
      "0      NOx  CS_PR 2022-07-12    09:45:00  11:35:00  MED-FISC\n",
      "0      NOx  CS_PR 2022-07-22    14:45:00  16:15:00  CEN-TRAF\n",
      "0      NOx  CS_PR 2022-07-28    09:00:00  10:40:00  MED-PJIC\n",
      "0      NOx  CS_PR 2022-07-18    13:00:00  15:30:00  MED-PJIC\n",
      "0      NOx  CS_PR 2022-07-12    13:00:00  15:45:00  ITA-CJUS\n",
      "0      NOx  CS_PR 2022-07-26    08:40:00  11:00:00  ITA-CJUS\n",
      "0      NOx  CS_PR 2022-07-21    11:30:00  14:10:00  SUR-TRAF\n",
      "0       CO     MP 2022-07-14    11:00:00  13:00:00   GIR-EPM\n",
      "0       CO     MP 2022-07-07    15:00:00  15:50:00   GIR-EPM\n",
      "0       CO  CS_PR 2022-07-28    10:40:00  12:00:00  MED-PJIC\n",
      "0       CO  CS_PR 2022-07-18    15:30:00  16:50:00  MED-PJIC\n",
      "0      SO2  CS_PR 2022-07-21    11:30:00  12:20:00   GIR-EPM\n",
      "0      SO2  CS_PR 2022-07-07    11:40:00  15:00:00   GIR-EPM\n",
      "0    Ozono     MP 2022-07-01    11:00:00  12:30:00  BAR-PDLA\n",
      "0    Ozono     MP 2022-07-07    10:00:00  11:40:00   GIR-EPM\n",
      "0    Ozono     MP 2022-07-01    14:15:00  15:50:00  BEL-USBV\n",
      "0    Ozono  CS_PR 2022-07-15    12:00:00  12:50:00  BAR-PDLA\n",
      "0    Ozono  CS_PR 2022-07-14    13:00:00  14:00:00   GIR-EPM\n",
      "0    Ozono  CS_PR 2022-07-15    14:45:00  15:20:00  BEL-USBV\n",
      "0    Ozono  CS_PR 2022-07-12    11:00:00  15:00:00  MED-FISC\n",
      "0    Ozono  CS_PR 2022-07-25    11:30:00  13:57:00  MED-FISC\n",
      "0    Ozono  CS_PR 2022-07-27    12:00:00  15:29:00  MED-UDEM\n",
      "0    Ozono  CS_PR 2022-07-13    11:55:00  14:36:00  MED-UDEM\n",
      "0    Ozono  CS_PR 2022-07-27    09:34:00  11:48:00  MED-MIRA\n",
      "0    Ozono  CS_PR 2022-07-13    09:15:00  11:00:00  MED-MIRA\n",
      "0    Ozono  CS_PR 2022-07-28    13:30:00  15:00:00  MED-LAYE\n",
      "0    Ozono  CS_PR 2022-07-14    10:00:00  11:20:00  MED-LAYE\n",
      "0    Ozono  CS_PR 2022-07-12    10:30:00  12:30:00  ITA-CONC\n",
      "0    Ozono  CS_PR 2022-07-26    11:30:00  12:40:00  ITA-CONC\n"
     ]
    }
   ],
   "source": [
    "DFTipoFechaEst = pd.DataFrame()\n",
    "Fecha          = []\n",
    "VAR=(['NOx','CO', 'SO2', 'Ozono'])\n",
    "\n",
    "for k, var in enumerate(VAR):\n",
    "\n",
    "    self.Read_Verification(var=var)\n",
    "    print (var)\n",
    "    analizador= 'O3(A)' if self.var=='Ozono' else 'NOX(A)' if self.var=='NOx' else 'CO(A)' if self.var=='CO' else 'SO2(A)' if self.var=='SO2' else None\n",
    "\n",
    "    for tipofile in self.C.keys():\n",
    "        print(tipofile)\n",
    "        print ('****************tipofile*******************')\n",
    "\n",
    "        for est in self.estaciones:\n",
    "            for date in self.fecha_range:\n",
    "                    #print (date)\n",
    "                    #print (est)\n",
    "                    #print (self.Dropbox_path+self.folder[est[:3]]+est+'/'+analizador+'/VERIFICACIONES/'+date.strftime('%Y/%m')+'*')\n",
    "                    self.foldermes=gb.glob(self.Dropbox_path+self.folder[est[:3]]+est+'/'+analizador+'/VERIFICACIONES/'+date.strftime('%Y/%m')+'*')\n",
    "                    if len(self.foldermes)>0:\n",
    "                        XLS=gb.glob(self.foldermes[0]+'/F*.xlsx')\n",
    "                        print (XLS)\n",
    "\n",
    "                        for name in XLS:\n",
    "                            print (name)\n",
    "                            self.xl = pd.ExcelFile(name)\n",
    "                            self.DF = self.xl.parse(0)\n",
    "\n",
    "                            dondeResultados=np.where(self.DF['Unnamed: 1'].str.find('7. ')==0)[0]\n",
    "                            Resultados = self.xl.parse(0, skiprows=dondeResultados[0]+1,nrows=7,header=2,usecols=np.arange(10)).dropna(axis=1, how='all').dropna(axis=0, how='all')\n",
    "                            dondeTipo=np.where(self.DF['Unnamed: 1'].str.find('4. ')==0)[0]\n",
    "                            dondeFecha = np.where(self.DF['Unnamed: 1'].str.find('1. ')==0)[0]\n",
    "\n",
    "                            Estacion = self.xl.parse(0, skiprows=dondeFecha[0]+1,nrows=2,header=0,usecols=np.arange(10)).dropna(axis=1, how='all').dropna(axis=0, how='all')['Unnamed: 2'][0]\n",
    "\n",
    "                            try:\n",
    "                                Tipo  =  self.xl.parse(0, skiprows=dondeTipo[0]+1,nrows=1,header=0,usecols=np.arange(10)).dropna(axis=1, how='all').dropna(axis=0, how='all')['Unnamed: 2'][0]\n",
    "                                try:\n",
    "                                    Fecha =  self.xl.parse(0, skiprows=dondeFecha[0]+3,nrows=2,header=0,usecols=np.arange(10)).dropna(axis=1, how='all').dropna(axis=0, how='all')['Unnamed: 6'][0]\n",
    "                                    Hora_inicio = self.xl.parse(0, skiprows=dondeFecha[0],nrows=4,header=0,usecols=np.arange(11)).dropna(axis=1, how='all').dropna(axis=0, how='all')['Unnamed: 2'][2]\n",
    "                                    Hora_fin = self.xl.parse(0, skiprows=dondeFecha[0],nrows=4,header=0,usecols=np.arange(11)).dropna(axis=1, how='all').dropna(axis=0, how='all')['Unnamed: 5'][2]\n",
    "\n",
    "                                except:\n",
    "\n",
    "                                    Fecha = self.xl.parse(0, skiprows=dondeFecha[0]+3,nrows=4,header=0,usecols=np.arange(11)).dropna(axis=1, how='all').dropna(axis=0, how='all')['Unnamed: 9'][0]\n",
    "                                    Hora_inicio = self.xl.parse(0, skiprows=dondeFecha[0],nrows=4,header=0,usecols=np.arange(11)).dropna(axis=1, how='all').dropna(axis=0, how='all')['Unnamed: 2'][2]\n",
    "                                    Hora_fin = self.xl.parse(0, skiprows=dondeFecha[0],nrows=4,header=0,usecols=np.arange(11)).dropna(axis=1, how='all').dropna(axis=0, how='all')['Unnamed: 5'][2]\n",
    "\n",
    "\n",
    "                            except: \n",
    "                                print (u'Entró al except en la variable:')\n",
    "                                print (var)\n",
    "                                print (u'En la estación:')\n",
    "                                print (est)\n",
    "                                #dondeTipo=np.where(self.DF['Unnamed: 1'].str.find('4. ')==0)[0]\n",
    "                                Tipo  =  self.xl.parse(0, skiprows=dondeTipo[0]+1,nrows=1,header=0,usecols=np.arange(10)).dropna(axis=1, how='all').dropna(axis=0, how='all')['Unnamed: 3'][0]\n",
    "                                #dondeFecha = np.where(self.DF['Unnamed: 1'].str.find('1. ')==0)[0]\n",
    "                                try:\n",
    "                                    Fecha =  self.xl.parse(0, skiprows=dondeFecha[0]+3,nrows=2,header=0,usecols=np.arange(10)).dropna(axis=1, how='all').dropna(axis=0, how='all')['Unnamed: 6'][0]\n",
    "                                    Hora_inicio = self.xl.parse(0, skiprows=dondeFecha[0],nrows=4,header=0,usecols=np.arange(11)).dropna(axis=1, how='all').dropna(axis=0, how='all')['Unnamed: 2'][2]\n",
    "                                    Hora_fin = self.xl.parse(0, skiprows=dondeFecha[0],nrows=4,header=0,usecols=np.arange(11)).dropna(axis=1, how='all').dropna(axis=0, how='all')['Unnamed: 5'][2]\n",
    "\n",
    "                                except:\n",
    "\n",
    "                                    Fecha = self.xl.parse(0, skiprows=dondeFecha[0]+3,nrows=4,header=0,usecols=np.arange(11)).dropna(axis=1, how='all').dropna(axis=0, how='all')['Unnamed: 9'][0]\n",
    "                                    Hora_inicio = self.xl.parse(0, skiprows=dondeFecha[0],nrows=4,header=0,usecols=np.arange(11)).dropna(axis=1, how='all').dropna(axis=0, how='all')['Unnamed: 2'][2]\n",
    "                                    Hora_fin = self.xl.parse(0, skiprows=dondeFecha[0],nrows=4,header=0,usecols=np.arange(11)).dropna(axis=1, how='all').dropna(axis=0, how='all')['Unnamed: 5'][2]\n",
    "     \n",
    "                                #Fecha      = Fecha.append(FechaDummy)\n",
    "                            \n",
    "                            print (Tipo)\n",
    "                            print ('Tipo:   *******************')\n",
    "                            TipoVerif = 'CS_PR' if (Tipo=='CERO_SPAN PREC.' and tipofile == 'CS_PR' ) else 'MP' if (Tipo=='MULTIPUNTO' and tipofile == 'MP' )  else None\n",
    "                            if (Tipo=='CERO_SPAN PREC.' and tipofile == 'CS_PR' ) or (Tipo=='MULTIPUNTO' and tipofile == 'MP' ):\n",
    "                                DFDummy   = pd.DataFrame()\n",
    "\n",
    "                                DFDummy   = pd.DataFrame([{\n",
    "                                'Variable':var,\n",
    "                                'Tipo': TipoVerif,\n",
    "                                'Fecha': Fecha,\n",
    "                                'Hora_inicio': Hora_inicio,\n",
    "                                'Hora_fin' : Hora_fin,\n",
    "                                'Estacion':est}])\n",
    "                                DFTipoFechaEst = DFTipoFechaEst.append(DFDummy)\n",
    "                                \n",
    "        print (DFTipoFechaEst)\n",
    "\n",
    "DFTipoFechaEst.to_csv('Verificaciones_Contaminantes_Estacion{0}_{1}.csv'.format(Fechai,Fechaf))    \n"
   ]
  },
  {
   "cell_type": "code",
   "execution_count": 10,
   "id": "20826346",
   "metadata": {},
   "outputs": [
    {
     "data": {
      "text/plain": [
       "['/Users/siata/SIATA Dropbox/SGC_Siata_ Aire/01_Gestion_Operativa/03_Registros/HojasVida_FichasTecnicas/ESTACIONES DE AIRE/06_ITAGUI/ITA-CONC/O3(A)/VERIFICACIONES/2022/07_Julio']"
      ]
     },
     "execution_count": 10,
     "metadata": {},
     "output_type": "execute_result"
    }
   ],
   "source": [
    "gb.glob(self.Dropbox_path+self.folder[est[:3]]+est+'/'+analizador+'/VERIFICACIONES/'+date.strftime('%Y/%m')+'*')\n",
    "                    "
   ]
  },
  {
   "cell_type": "code",
   "execution_count": null,
   "id": "1ce316d7",
   "metadata": {},
   "outputs": [],
   "source": []
  },
  {
   "cell_type": "code",
   "execution_count": null,
   "id": "9a555adf",
   "metadata": {},
   "outputs": [],
   "source": [
    "self.xl.parse(0, skiprows=dondeFecha[0]+1,nrows=2,header=0,usecols=np.arange(10)).dropna(axis=1, how='all').dropna(axis=0, how='all')\n"
   ]
  },
  {
   "cell_type": "code",
   "execution_count": null,
   "id": "fec4a4e4",
   "metadata": {},
   "outputs": [],
   "source": [
    "self.DF"
   ]
  },
  {
   "cell_type": "code",
   "execution_count": null,
   "id": "9888aa08",
   "metadata": {},
   "outputs": [],
   "source": [
    "dondeResultados=np.where(self.DF['Unnamed: 1'].str.find('7. ')==0)[0]"
   ]
  },
  {
   "cell_type": "code",
   "execution_count": null,
   "id": "8c4a3523",
   "metadata": {},
   "outputs": [],
   "source": [
    "dondeResultados"
   ]
  },
  {
   "cell_type": "code",
   "execution_count": null,
   "id": "e1d06abc",
   "metadata": {},
   "outputs": [],
   "source": [
    "Resultados = self.xl.parse(0, skiprows=dondei[0]+1,nrows=7,header=2,usecols=np.arange(10)).dropna(axis=1, how='all').dropna(axis=0, how='all')\n",
    "            "
   ]
  },
  {
   "cell_type": "code",
   "execution_count": null,
   "id": "79b1c2ce",
   "metadata": {},
   "outputs": [],
   "source": [
    "dondeTipo=np.where(self.DF['Unnamed: 1'].str.find('4. ')==0)[0]\n",
    "Tipo =  self.xl.parse(0, skiprows=dondeTipo[0]+1,nrows=1,header=0,usecols=np.arange(10)).dropna(axis=1, how='all').dropna(axis=0, how='all')['Unnamed: 3'][0]\n",
    "dondeFecha = np.where(self.DF['Unnamed: 1'].str.find('1. ')==0)[0]\n",
    "Fecha = self.xl.parse(0, skiprows=dondeFecha[0]+3,nrows=4,header=0,usecols=np.arange(11)).dropna(axis=1, how='all').dropna(axis=0, how='all')['Unnamed: 9'][0]\n"
   ]
  },
  {
   "cell_type": "code",
   "execution_count": null,
   "id": "2c478651",
   "metadata": {},
   "outputs": [],
   "source": [
    "dondeTipo=np.where(self.DF['Unnamed: 1'].str.find('4. ')==0)[0]"
   ]
  },
  {
   "cell_type": "code",
   "execution_count": null,
   "id": "3777deed",
   "metadata": {},
   "outputs": [],
   "source": [
    "np.where(self.DF['Unnamed: 1'].str.find('1. ')==0)[0]\n"
   ]
  },
  {
   "cell_type": "code",
   "execution_count": null,
   "id": "e248e0a2",
   "metadata": {},
   "outputs": [],
   "source": [
    "Tipo =  self.xl.parse(0, skiprows=dondeTipo[0]+1,nrows=1,header=0,usecols=np.arange(10)).dropna(axis=1, how='all').dropna(axis=0, how='all')['Unnamed: 2'][0]\n",
    "       "
   ]
  },
  {
   "cell_type": "code",
   "execution_count": null,
   "id": "8267702d",
   "metadata": {},
   "outputs": [],
   "source": [
    "Tipo"
   ]
  },
  {
   "cell_type": "code",
   "execution_count": null,
   "id": "c68ef550",
   "metadata": {},
   "outputs": [],
   "source": [
    "self.xl.parse(0, skiprows=dondeFecha[0],nrows=4,header=0,usecols=np.arange(11)).dropna(axis=1, how='all').dropna(axis=0, how='all')\n"
   ]
  },
  {
   "cell_type": "code",
   "execution_count": null,
   "id": "945c99b9",
   "metadata": {},
   "outputs": [],
   "source": [
    "Fecha = self.xl.parse(0, skiprows=dondeFecha[0]+3,nrows=2,header=0,usecols=np.arange(10)).dropna(axis=1, how='all').dropna(axis=0, how='all')['Unnamed: 6'][0]\n"
   ]
  },
  {
   "cell_type": "code",
   "execution_count": null,
   "id": "84cdf740",
   "metadata": {},
   "outputs": [],
   "source": [
    "Hora_Inicio = self.xl.parse(0, skiprows=dondeFecha[0],nrows=4,header=0,usecols=np.arange(11)).dropna(axis=1, how='all').dropna(axis=0, how='all')['Unnamed: 2'][2]\n",
    "Hora_Fin = self.xl.parse(0, skiprows=dondeFecha[0],nrows=4,header=0,usecols=np.arange(11)).dropna(axis=1, how='all').dropna(axis=0, how='all')['Unnamed: 5'][2]\n"
   ]
  },
  {
   "cell_type": "raw",
   "id": "db09913b",
   "metadata": {},
   "source": []
  },
  {
   "cell_type": "code",
   "execution_count": null,
   "id": "47211b39",
   "metadata": {},
   "outputs": [],
   "source": []
  },
  {
   "cell_type": "raw",
   "id": "e967bec8",
   "metadata": {},
   "source": [
    "Estacion = self.xl.parse(0, skiprows=dondeFecha[0]+1,nrows=2,header=0,usecols=np.arange(10)).dropna(axis=1, how='all').dropna(axis=0, how='all')['Unnamed: 2'][0]\n"
   ]
  },
  {
   "cell_type": "code",
   "execution_count": null,
   "id": "d6101ef0",
   "metadata": {},
   "outputs": [],
   "source": [
    "DFPrueba = pd.DataFrame([{\n",
    "    'Variable':VAR[0],\n",
    "    'Tipo': Tipo,\n",
    "    'Fecha': Fecha,\n",
    "    'Estacion':Estacion}])"
   ]
  },
  {
   "cell_type": "code",
   "execution_count": null,
   "id": "f1ad79a6",
   "metadata": {},
   "outputs": [],
   "source": [
    "DFPrueba "
   ]
  },
  {
   "cell_type": "code",
   "execution_count": null,
   "id": "fe58251f",
   "metadata": {},
   "outputs": [],
   "source": [
    "DFPrueba = pd.DataFrame([{\n",
    "    'Variable':VAR[1],\n",
    "    'Tipo': Tipo,\n",
    "    'Fecha': Fecha,\n",
    "    'Estacion':Estacion}])"
   ]
  },
  {
   "cell_type": "code",
   "execution_count": null,
   "id": "d11dc1cf",
   "metadata": {},
   "outputs": [],
   "source": [
    "DFPrueba = DFPrueba.append( pd.DataFrame([{\n",
    "    'Variable':VAR[0],\n",
    "    'Tipo': Tipo,\n",
    "    'Fecha': Fecha,\n",
    "    'Estacion':Estacion}]))"
   ]
  },
  {
   "cell_type": "code",
   "execution_count": null,
   "id": "dd37ad92",
   "metadata": {},
   "outputs": [],
   "source": [
    "self.DFTipoFechaEst"
   ]
  },
  {
   "cell_type": "code",
   "execution_count": null,
   "id": "50e5240b",
   "metadata": {},
   "outputs": [],
   "source": []
  }
 ],
 "metadata": {
  "kernelspec": {
   "display_name": "Python 3 (ipykernel)",
   "language": "python",
   "name": "python3"
  },
  "language_info": {
   "codemirror_mode": {
    "name": "ipython",
    "version": 3
   },
   "file_extension": ".py",
   "mimetype": "text/x-python",
   "name": "python",
   "nbconvert_exporter": "python",
   "pygments_lexer": "ipython3",
   "version": "3.9.7"
  }
 },
 "nbformat": 4,
 "nbformat_minor": 5
}
